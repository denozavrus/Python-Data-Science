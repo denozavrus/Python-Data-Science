{
 "cells": [
  {
   "cell_type": "markdown",
   "metadata": {},
   "source": [
    "# Задание 1"
   ]
  },
  {
   "cell_type": "code",
   "execution_count": 60,
   "metadata": {},
   "outputs": [],
   "source": [
    "f = open('C:/Users/Денис/Desktop/variables.txt')"
   ]
  },
  {
   "cell_type": "code",
   "execution_count": 61,
   "metadata": {},
   "outputs": [],
   "source": [
    "string = f.read()"
   ]
  },
  {
   "cell_type": "code",
   "execution_count": 62,
   "metadata": {},
   "outputs": [],
   "source": [
    "var = string.split(\"\\n\")"
   ]
  },
  {
   "cell_type": "code",
   "execution_count": 63,
   "metadata": {},
   "outputs": [],
   "source": [
    "dictionary = {}\n",
    "for i in var:\n",
    "    i.replace(' ', \"\")\n",
    "    dictionary [i.split(\"=\")[0].strip()] = i.split(\"=\")[1].strip().replace('\"', '')"
   ]
  },
  {
   "cell_type": "code",
   "execution_count": 73,
   "metadata": {},
   "outputs": [
    {
     "data": {
      "text/plain": [
       "'SDSDDSDSDSD'"
      ]
     },
     "execution_count": 73,
     "metadata": {},
     "output_type": "execute_result"
    }
   ],
   "source": [
    "f = 'SDSDDSDSDSD'\n",
    "st = f.replace(\"g\",\"\")\n",
    "st"
   ]
  },
  {
   "cell_type": "code",
   "execution_count": 64,
   "metadata": {},
   "outputs": [],
   "source": [
    "f.close()"
   ]
  },
  {
   "cell_type": "code",
   "execution_count": 65,
   "metadata": {},
   "outputs": [],
   "source": [
    "f = open('C:/Users/Денис/Desktop/template.txt')"
   ]
  },
  {
   "cell_type": "code",
   "execution_count": 66,
   "metadata": {},
   "outputs": [],
   "source": [
    "templ = f.read()"
   ]
  },
  {
   "cell_type": "code",
   "execution_count": 67,
   "metadata": {},
   "outputs": [
    {
     "data": {
      "text/plain": [
       "'In the previous quartal the revenue changed by {revenue_change}. The profit change was {profit_change} comparing to the same quartal of the previous year. And the current level of average check is {average_check}.\\n'"
      ]
     },
     "execution_count": 67,
     "metadata": {},
     "output_type": "execute_result"
    }
   ],
   "source": [
    "templ"
   ]
  },
  {
   "cell_type": "code",
   "execution_count": 68,
   "metadata": {},
   "outputs": [
    {
     "name": "stdout",
     "output_type": "stream",
     "text": [
      "{revenue_change}\n",
      "{profit_change}\n",
      "{average_check}\n"
     ]
    },
    {
     "data": {
      "text/plain": [
       "'In the previous quartal the revenue changed by 1242. The profit change was 122 comparing to the same quartal of the previous year. And the current level of average check is 45.\\n'"
      ]
     },
     "execution_count": 68,
     "metadata": {},
     "output_type": "execute_result"
    }
   ],
   "source": [
    "for k, v in dictionary.items(): \n",
    "    word = \"{\" + \"{}\".format(k) + \"}\"\n",
    "    print (word)\n",
    "    templ = templ.replace(word, v)\n",
    "templ"
   ]
  },
  {
   "cell_type": "code",
   "execution_count": 69,
   "metadata": {},
   "outputs": [],
   "source": [
    "f.close()"
   ]
  },
  {
   "cell_type": "code",
   "execution_count": 70,
   "metadata": {},
   "outputs": [],
   "source": [
    "f = open('C:/Users/Денис/Desktop/template.txt', 'w')"
   ]
  },
  {
   "cell_type": "code",
   "execution_count": 71,
   "metadata": {},
   "outputs": [],
   "source": [
    "f.write(templ)\n",
    "f.close()"
   ]
  },
  {
   "cell_type": "code",
   "execution_count": 76,
   "metadata": {},
   "outputs": [],
   "source": [
    "def make_report(path): \n",
    "    f = open('C:/Users/Денис/Desktop/variables.txt')\n",
    "    string = f.read()\n",
    "    var = string.split(\"\\n\")\n",
    "    dictionary = {}\n",
    "    for i in var:\n",
    "        i.replace(' ', \"\")\n",
    "        dictionary [i.split(\"=\")[0].strip()] = i.split(\"=\")[1].strip().replace('\"', '')\n",
    "    f.close()\n",
    "    f = open(path)\n",
    "    templ = f.read()\n",
    "    for k, v in dictionary.items(): \n",
    "        word = \"{\" + \"{}\".format(k) + \"}\"\n",
    "        if templ == templ.replace(word, v):\n",
    "            return\n",
    "        templ = templ.replace(word, v)\n",
    "    if templ.find('{') != -1:\n",
    "        return \n",
    "    f.close()\n",
    "    f = open('C:/Users/Денис/Desktop/result.txt', 'w')\n",
    "    f.write(templ)\n",
    "    f.close()"
   ]
  },
  {
   "cell_type": "code",
   "execution_count": 80,
   "metadata": {},
   "outputs": [],
   "source": [
    "make_report('C:/Users/Денис/Desktop/template.txt')"
   ]
  },
  {
   "cell_type": "markdown",
   "metadata": {},
   "source": [
    "# Второе задание "
   ]
  },
  {
   "cell_type": "code",
   "execution_count": 179,
   "metadata": {},
   "outputs": [],
   "source": [
    "class Manager:\n",
    "    Name = \"\"\n",
    "    #Constructer\n",
    "    def __init__(self, name = \"Yet another message\"):\n",
    "        self.Name = name\n",
    "    \n",
    "    #Method returning Name\n",
    "    def string(self):\n",
    "        return self.Name\n",
    "    \n",
    "    #new class Analytics\n",
    "    class Analytics:\n",
    "        \n",
    "        #Method returning phrase\n",
    "        def str_(self):\n",
    "            return \"Here is my report, please!\"\n",
    "        \n",
    "        #Method returning exception\n",
    "        def working(self): \n",
    "            raise NameError(\"I’m working on your report. Need a little more time\")\n",
    "            return\n",
    "        \n",
    "        #Method returning self\n",
    "        def make_analysis(self): \n",
    "            return self "
   ]
  },
  {
   "cell_type": "code",
   "execution_count": 180,
   "metadata": {},
   "outputs": [],
   "source": [
    "numb1 = Manager()\n",
    "numb2 = Manager(\"John\")"
   ]
  },
  {
   "cell_type": "code",
   "execution_count": 181,
   "metadata": {},
   "outputs": [],
   "source": [
    "numb2.analytics = Manager.Analytics()"
   ]
  },
  {
   "cell_type": "code",
   "execution_count": 182,
   "metadata": {},
   "outputs": [
    {
     "data": {
      "text/plain": [
       "'John'"
      ]
     },
     "execution_count": 182,
     "metadata": {},
     "output_type": "execute_result"
    }
   ],
   "source": [
    "string = numb2.string()\n",
    "string"
   ]
  },
  {
   "cell_type": "code",
   "execution_count": 183,
   "metadata": {},
   "outputs": [
    {
     "data": {
      "text/plain": [
       "'John'"
      ]
     },
     "execution_count": 183,
     "metadata": {},
     "output_type": "execute_result"
    }
   ],
   "source": [
    "numb2.Name"
   ]
  },
  {
   "cell_type": "code",
   "execution_count": 184,
   "metadata": {},
   "outputs": [
    {
     "data": {
      "text/plain": [
       "'Here is my report, please!'"
      ]
     },
     "execution_count": 184,
     "metadata": {},
     "output_type": "execute_result"
    }
   ],
   "source": [
    "numb2.analytics.str_()"
   ]
  },
  {
   "cell_type": "code",
   "execution_count": 185,
   "metadata": {},
   "outputs": [
    {
     "ename": "NameError",
     "evalue": "I’m working on your report. Need a little more time",
     "output_type": "error",
     "traceback": [
      "\u001b[1;31m---------------------------------------------------------------------------\u001b[0m",
      "\u001b[1;31mNameError\u001b[0m                                 Traceback (most recent call last)",
      "\u001b[1;32m<ipython-input-185-2f6f2338e71c>\u001b[0m in \u001b[0;36m<module>\u001b[1;34m\u001b[0m\n\u001b[1;32m----> 1\u001b[1;33m \u001b[0mnumb2\u001b[0m\u001b[1;33m.\u001b[0m\u001b[0manalytics\u001b[0m\u001b[1;33m.\u001b[0m\u001b[0mworking\u001b[0m\u001b[1;33m(\u001b[0m\u001b[1;33m)\u001b[0m\u001b[1;33m\u001b[0m\u001b[1;33m\u001b[0m\u001b[0m\n\u001b[0m",
      "\u001b[1;32m<ipython-input-179-2a06b0cc537a>\u001b[0m in \u001b[0;36mworking\u001b[1;34m(self)\u001b[0m\n\u001b[0;32m     18\u001b[0m         \u001b[1;31m#Method returning exception\u001b[0m\u001b[1;33m\u001b[0m\u001b[1;33m\u001b[0m\u001b[1;33m\u001b[0m\u001b[0m\n\u001b[0;32m     19\u001b[0m         \u001b[1;32mdef\u001b[0m \u001b[0mworking\u001b[0m\u001b[1;33m(\u001b[0m\u001b[0mself\u001b[0m\u001b[1;33m)\u001b[0m\u001b[1;33m:\u001b[0m\u001b[1;33m\u001b[0m\u001b[1;33m\u001b[0m\u001b[0m\n\u001b[1;32m---> 20\u001b[1;33m             \u001b[1;32mraise\u001b[0m \u001b[0mNameError\u001b[0m\u001b[1;33m(\u001b[0m\u001b[1;34m\"I’m working on your report. Need a little more time\"\u001b[0m\u001b[1;33m)\u001b[0m\u001b[1;33m\u001b[0m\u001b[1;33m\u001b[0m\u001b[0m\n\u001b[0m\u001b[0;32m     21\u001b[0m             \u001b[1;32mreturn\u001b[0m\u001b[1;33m\u001b[0m\u001b[1;33m\u001b[0m\u001b[0m\n\u001b[0;32m     22\u001b[0m \u001b[1;33m\u001b[0m\u001b[0m\n",
      "\u001b[1;31mNameError\u001b[0m: I’m working on your report. Need a little more time"
     ]
    }
   ],
   "source": [
    "numb2.analytics.working()"
   ]
  },
  {
   "cell_type": "code",
   "execution_count": 186,
   "metadata": {},
   "outputs": [
    {
     "data": {
      "text/plain": [
       "<__main__.Manager.Analytics at 0x1f685a0d488>"
      ]
     },
     "execution_count": 186,
     "metadata": {},
     "output_type": "execute_result"
    }
   ],
   "source": [
    "numb2.analytics.make_analysis()"
   ]
  },
  {
   "cell_type": "markdown",
   "metadata": {},
   "source": [
    "# Третье задание"
   ]
  },
  {
   "cell_type": "code",
   "execution_count": 189,
   "metadata": {},
   "outputs": [],
   "source": [
    "class Employee:\n",
    "    salary = 3000\n",
    "    Name = \"Data scientist\"\n",
    "    descr = \"A professional who can analyze data with code\"\n",
    "    def str_(self):\n",
    "        print (\"Name: {}\".format(self.Name))\n",
    "        print (\"Salary: {}\".format(self.salary))\n",
    "        print (\"Description: {}\".format(self.descr))\n",
    "    "
   ]
  },
  {
   "cell_type": "code",
   "execution_count": 191,
   "metadata": {},
   "outputs": [],
   "source": [
    "employee = Employee()"
   ]
  },
  {
   "cell_type": "code",
   "execution_count": 193,
   "metadata": {},
   "outputs": [
    {
     "name": "stdout",
     "output_type": "stream",
     "text": [
      "Name: Data scientist\n",
      "Salary: 3000\n",
      "Description: A professional who can analyze data with code\n"
     ]
    }
   ],
   "source": [
    "employee.str_()"
   ]
  },
  {
   "cell_type": "code",
   "execution_count": 198,
   "metadata": {},
   "outputs": [],
   "source": [
    "class Janitor(Employee):\n",
    "    Name = \"Janitor\"\n",
    "    salary = 1000\n",
    "    descr = \"A profession who keeps the facilities clean\"\n",
    "class Receptionist(Employee): \n",
    "    Name = \"Receptionist\"\n",
    "    salary = 1300 \n",
    "    descr = \"A profession that helps visitors to connect with the staff\"\n",
    "class Cook(Employee):\n",
    "    Name = \"Cook\"\n",
    "    salary = 3000\n",
    "    descr = \"A profession who cooks a meal for the staff\""
   ]
  },
  {
   "cell_type": "code",
   "execution_count": 199,
   "metadata": {},
   "outputs": [],
   "source": [
    "janitor = Janitor()"
   ]
  },
  {
   "cell_type": "code",
   "execution_count": 200,
   "metadata": {},
   "outputs": [
    {
     "name": "stdout",
     "output_type": "stream",
     "text": [
      "Name: Janitor\n",
      "Salary: 1000\n",
      "Description: A profession who keeps the facilities clean\n"
     ]
    }
   ],
   "source": [
    "janitor.str_()"
   ]
  },
  {
   "cell_type": "code",
   "execution_count": 201,
   "metadata": {},
   "outputs": [],
   "source": [
    "cook = Cook()"
   ]
  },
  {
   "cell_type": "code",
   "execution_count": 202,
   "metadata": {},
   "outputs": [
    {
     "name": "stdout",
     "output_type": "stream",
     "text": [
      "Name: Cook\n",
      "Salary: 3000\n",
      "Description: A profession who cooks a meal for the staff\n"
     ]
    }
   ],
   "source": [
    "cook.str_()"
   ]
  },
  {
   "cell_type": "code",
   "execution_count": 203,
   "metadata": {},
   "outputs": [],
   "source": [
    "recept = Receptionist()"
   ]
  },
  {
   "cell_type": "code",
   "execution_count": 204,
   "metadata": {},
   "outputs": [
    {
     "name": "stdout",
     "output_type": "stream",
     "text": [
      "Name: Receptionist\n",
      "Salary: 1300\n",
      "Description: A profession that helps visitors to connect with the staff\n"
     ]
    }
   ],
   "source": [
    "recept.str_()"
   ]
  },
  {
   "cell_type": "markdown",
   "metadata": {},
   "source": [
    "# Четвертое задание "
   ]
  },
  {
   "cell_type": "code",
   "execution_count": 205,
   "metadata": {},
   "outputs": [],
   "source": [
    "import random"
   ]
  },
  {
   "cell_type": "code",
   "execution_count": null,
   "metadata": {},
   "outputs": [],
   "source": [
    "class HR:\n",
    "    #Constucter\n",
    "    def __init__(self):\n",
    "        \n",
    "    #Class Retire inherit from Empl\n",
    "    class Retire(Employee):\n",
    "        Name = \"Retiring employee\"\n",
    "        salary = 2100\n",
    "        descr = \"I am retiring, give me a bonus!\"\n",
    "        \n",
    "    #Exception class \n",
    "    class ExhaustionException (Exception):\n",
    "        def __init__(self, message = \"This employee is exhausted and cannot work anymore\"):\n",
    "            self.message = message\n",
    "            \n",
    "    #Vacation method \n",
    "    def vacation(self):\n",
    "        \n",
    "    #Work method \n",
    "    def work(self, (Employee)empl, months):\n",
    "        state = random.randint(0,1)\n",
    "        \n",
    "        #Exhaustion check \n",
    "        if months > 10: \n",
    "            exh = 1 \n",
    "            raise ExhaustionException()\n",
    "        else: \n",
    "            exh = 0\n",
    "        \n",
    "        #State check returning Retire or new employee\n",
    "        if (state):\n",
    "            return ret = Retire()\n",
    "        else :\n",
    "            return employee = empl()\n",
    "        "
   ]
  },
  {
   "cell_type": "markdown",
   "metadata": {},
   "source": [
    "# Пятое задание"
   ]
  },
  {
   "cell_type": "code",
   "execution_count": 206,
   "metadata": {},
   "outputs": [],
   "source": [
    "import requests"
   ]
  },
  {
   "cell_type": "code",
   "execution_count": null,
   "metadata": {},
   "outputs": [],
   "source": [
    "class  ClusterManagement:\n",
    "    def __init__(self, url, name, headers, credentials = ('admin', 'password')):\n",
    "        self.url = url \n",
    "        self.name = name\n",
    "        self.headers = headers\n",
    "        self.credentials = credentialse\n",
    "    def switcher(self, state, services, name):\n",
    "        "
   ]
  }
 ],
 "metadata": {
  "kernelspec": {
   "display_name": "Python 3",
   "language": "python",
   "name": "python3"
  },
  "language_info": {
   "codemirror_mode": {
    "name": "ipython",
    "version": 3
   },
   "file_extension": ".py",
   "mimetype": "text/x-python",
   "name": "python",
   "nbconvert_exporter": "python",
   "pygments_lexer": "ipython3",
   "version": "3.7.6"
  }
 },
 "nbformat": 4,
 "nbformat_minor": 4
}
