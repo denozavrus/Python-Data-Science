{
 "cells": [
  {
   "cell_type": "code",
   "execution_count": 27,
   "metadata": {},
   "outputs": [],
   "source": [
    "def data_type():\n",
    "    i = 25 \n",
    "    s = \"sdfd\"\n",
    "    f = 14.7\n",
    "    b = True\n",
    "    l = [12,45,\"fff\"]\n",
    "    d = {1: 'd', 2: 'g'}\n",
    "    t = (12,4,)\n",
    "    s = set(\"dffghtertvbc\")\n",
    "    types = [type(i).__name__, type(s).__name__, type(f).__name__, \n",
    "             type(b).__name__, type(l).__name__, type(d).__name__, type(t).__name__, type(s).__name__]\n",
    "    return types"
   ]
  },
  {
   "cell_type": "code",
   "execution_count": 28,
   "metadata": {},
   "outputs": [
    {
     "data": {
      "text/plain": [
       "['int', 'set', 'float', 'bool', 'list', 'dict', 'tuple', 'set']"
      ]
     },
     "execution_count": 28,
     "metadata": {},
     "output_type": "execute_result"
    }
   ],
   "source": [
    "data_type()"
   ]
  },
  {
   "cell_type": "code",
   "execution_count": 29,
   "metadata": {},
   "outputs": [
    {
     "data": {
      "text/plain": [
       "['int', 'set', 'float', 'bool', 'list', 'dict', 'tuple', 'set']"
      ]
     },
     "execution_count": 29,
     "metadata": {},
     "output_type": "execute_result"
    }
   ],
   "source": [
    "types = data_type()\n",
    "types"
   ]
  },
  {
   "cell_type": "code",
   "execution_count": 31,
   "metadata": {},
   "outputs": [
    {
     "name": "stdout",
     "output_type": "stream",
     "text": [
      "['int', 'set', 'float', 'bool', 'list', 'dict', 'tuple', 'set']\n"
     ]
    }
   ],
   "source": [
    "print (types)"
   ]
  },
  {
   "cell_type": "markdown",
   "metadata": {},
   "source": [
    "# Второе задание"
   ]
  },
  {
   "cell_type": "code",
   "execution_count": 40,
   "metadata": {},
   "outputs": [],
   "source": [
    "import csv"
   ]
  },
  {
   "cell_type": "code",
   "execution_count": 231,
   "metadata": {},
   "outputs": [],
   "source": [
    "def read_write_csv (path = \"C:/Users/Folder/d01_ds.csv\"):\n",
    "    with open(path,'rt', encoding = \"utf-8\") as source:\n",
    "        rdr = csv.reader(source)\n",
    "        with open('C:/Users/Денис/Documents/Игра Тролли/ds.tsv','wt', encoding = \"utf-8\") as target:\n",
    "            wtr = csv.writer( target )\n",
    "            for r in rdr:\n",
    "                wtr.writerow( (\"{}\\t{}\\t{}\\t{}\\t{}\\t{}\".format(r[0],r[1],r[2],r[3],r[4],r[5])) )"
   ]
  },
  {
   "cell_type": "code",
   "execution_count": 244,
   "metadata": {},
   "outputs": [],
   "source": [
    "def read_write_csv1 (path = \"C:/Users/Folder/d01_ds.csv\"):\n",
    "    with open(path,'rt', encoding = \"utf-8\") as source:\n",
    "        rdr = csv.reader(source)\n",
    "        with open('C:/Users/Денис/Documents/Игра Тролли/ds.tsv','wt', encoding = \"utf-8\") as target:\n",
    "            wtr = csv.writer( target )\n",
    "            for r in rdr:\n",
    "                wtr.writerow( ('\\t'.join(r)) )"
   ]
  },
  {
   "cell_type": "code",
   "execution_count": 245,
   "metadata": {},
   "outputs": [],
   "source": [
    "read_write_csv1()"
   ]
  },
  {
   "cell_type": "code",
   "execution_count": 241,
   "metadata": {},
   "outputs": [],
   "source": [
    "read_write_csv()"
   ]
  },
  {
   "cell_type": "markdown",
   "metadata": {},
   "source": [
    "# Третье задание "
   ]
  },
  {
   "cell_type": "code",
   "execution_count": 65,
   "metadata": {},
   "outputs": [],
   "source": [
    "list_of_tuples = [\n",
    "              ('Russia', \"25\"),\n",
    "              (\"France\", \"132\"),\n",
    "              (\"Germany\", \"132\"),\n",
    "              (\"Spain\", \"178\"),\n",
    "              (\"Italy\", \"162\"),\n",
    "              (\"Portugal\", \"17\"),\n",
    "              (\"Finland\", \"3\"),\n",
    "              (\"Hungary\", \"2\"),\n",
    "              (\"The Netherlands\", \"28\"),\n",
    "              (\"The USA\", \"610\"),\n",
    "              (\"The United Kingdom\", \"95\"),\n",
    "              (\"China\", \"83\"),\n",
    "              (\"Iran\", \"76\"),\n",
    "              (\"Turkey\", \"65\"),\n",
    "              (\"Belgium\", \"34\"),\n",
    "              (\"Canada\", \"28\"),\n",
    "              (\"Switzerland\", \"26\"),\n",
    "              (\"Brazil\", \"25\"),\n",
    "              (\"Austria\", \"14\"),\n",
    "              (\"Israel\", \"12\")\n",
    "]"
   ]
  },
  {
   "cell_type": "code",
   "execution_count": 84,
   "metadata": {
    "scrolled": true
   },
   "outputs": [],
   "source": [
    "def Some_method() :\n",
    "    diction = {}\n",
    "\n",
    "    for i in list_of_tuples:\n",
    "        print ( \" \\\"{}\\\" : \\\"{}\\\" \".format(str(i[1]), str(i[0])) )\n",
    "        diction[str(i[1])] = i[0]\n",
    "    return diction"
   ]
  },
  {
   "cell_type": "code",
   "execution_count": 85,
   "metadata": {},
   "outputs": [
    {
     "name": "stdout",
     "output_type": "stream",
     "text": [
      " \"25\" : \"Russia\" \n",
      " \"132\" : \"France\" \n",
      " \"132\" : \"Germany\" \n",
      " \"178\" : \"Spain\" \n",
      " \"162\" : \"Italy\" \n",
      " \"17\" : \"Portugal\" \n",
      " \"3\" : \"Finland\" \n",
      " \"2\" : \"Hungary\" \n",
      " \"28\" : \"The Netherlands\" \n",
      " \"610\" : \"The USA\" \n",
      " \"95\" : \"The United Kingdom\" \n",
      " \"83\" : \"China\" \n",
      " \"76\" : \"Iran\" \n",
      " \"65\" : \"Turkey\" \n",
      " \"34\" : \"Belgium\" \n",
      " \"28\" : \"Canada\" \n",
      " \"26\" : \"Switzerland\" \n",
      " \"25\" : \"Brazil\" \n",
      " \"14\" : \"Austria\" \n",
      " \"12\" : \"Israel\" \n"
     ]
    }
   ],
   "source": [
    "dicts = Some_method()"
   ]
  },
  {
   "cell_type": "code",
   "execution_count": 86,
   "metadata": {},
   "outputs": [
    {
     "data": {
      "text/plain": [
       "{'25': 'Brazil',\n",
       " '132': 'Germany',\n",
       " '178': 'Spain',\n",
       " '162': 'Italy',\n",
       " '17': 'Portugal',\n",
       " '3': 'Finland',\n",
       " '2': 'Hungary',\n",
       " '28': 'Canada',\n",
       " '610': 'The USA',\n",
       " '95': 'The United Kingdom',\n",
       " '83': 'China',\n",
       " '76': 'Iran',\n",
       " '65': 'Turkey',\n",
       " '34': 'Belgium',\n",
       " '26': 'Switzerland',\n",
       " '14': 'Austria',\n",
       " '12': 'Israel'}"
      ]
     },
     "execution_count": 86,
     "metadata": {},
     "output_type": "execute_result"
    }
   ],
   "source": [
    "dicts"
   ]
  },
  {
   "cell_type": "markdown",
   "metadata": {},
   "source": [
    "# Четвертое задание"
   ]
  },
  {
   "cell_type": "code",
   "execution_count": 105,
   "metadata": {},
   "outputs": [],
   "source": [
    "companies = {\n",
    "    \"Apple\" : \"AAPL\",\n",
    "    \"Microsoft\" : \"MSFT\",\n",
    "    \"Netflix\" : \"NFLX\",\n",
    "    \"Tesla\" : \"TSLA\",\n",
    "    \"Nokia\" : \"NOK\"\n",
    " }\n",
    "\n",
    "stocks = {\n",
    "         \"AAPL\" : 287.73,\n",
    "         \"MSFT\" : 173.79,\n",
    "         \"NFLX\" : 416.90,\n",
    "         \"TSLA\" : 724.88,\n",
    "         \"NOK\" : 3.37\n",
    "}"
   ]
  },
  {
   "cell_type": "code",
   "execution_count": 99,
   "metadata": {},
   "outputs": [],
   "source": [
    "def Stock_Price (*args) : \n",
    "    if len(args) != 1: \n",
    "        return\n",
    "    try :\n",
    "        ticker = companies[name] \n",
    "        price = stocks[ticker]\n",
    "    except : \n",
    "        return \"Unknown company\"\n",
    "    return price"
   ]
  },
  {
   "cell_type": "code",
   "execution_count": 100,
   "metadata": {},
   "outputs": [
    {
     "data": {
      "text/plain": [
       "'Unknown company'"
      ]
     },
     "execution_count": 100,
     "metadata": {},
     "output_type": "execute_result"
    }
   ],
   "source": [
    "Stock_Price(\"Apple\")"
   ]
  },
  {
   "cell_type": "code",
   "execution_count": 101,
   "metadata": {},
   "outputs": [
    {
     "data": {
      "text/plain": [
       "'Unknown company'"
      ]
     },
     "execution_count": 101,
     "metadata": {},
     "output_type": "execute_result"
    }
   ],
   "source": [
    "Stock_Price(\"FaceBook\")"
   ]
  },
  {
   "cell_type": "code",
   "execution_count": 102,
   "metadata": {},
   "outputs": [],
   "source": [
    "Stock_Price(\"Apple\", \"sdf\")"
   ]
  },
  {
   "cell_type": "code",
   "execution_count": 103,
   "metadata": {},
   "outputs": [],
   "source": [
    "Stock_Price()"
   ]
  },
  {
   "cell_type": "markdown",
   "metadata": {},
   "source": [
    "# Пятое задание "
   ]
  },
  {
   "cell_type": "code",
   "execution_count": 104,
   "metadata": {},
   "outputs": [],
   "source": [
    "companies = {\n",
    "    \"Apple\" : \"AAPL\",\n",
    "    \"Microsoft\" : \"MSFT\",\n",
    "    \"Netflix\" : \"NFLX\",\n",
    "    \"Tesla\" : \"TSLA\",\n",
    "    \"Nokia\" : \"NOK\"\n",
    " }\n",
    "\n",
    "stocks = {\n",
    "         \"AAPL\" : 287.73,\n",
    "         \"MSFT\" : 173.79,\n",
    "         \"NFLX\" : 416.90,\n",
    "         \"TSLA\" : 724.88,\n",
    "         \"NOK\" : 3.37\n",
    "}"
   ]
  },
  {
   "cell_type": "code",
   "execution_count": 106,
   "metadata": {},
   "outputs": [],
   "source": [
    "def get_key(d, value):\n",
    "    for k, v in d.items():\n",
    "        if v == value:\n",
    "            return k"
   ]
  },
  {
   "cell_type": "code",
   "execution_count": 132,
   "metadata": {},
   "outputs": [
    {
     "data": {
      "text/plain": [
       "'Microsoft'"
      ]
     },
     "execution_count": 132,
     "metadata": {},
     "output_type": "execute_result"
    }
   ],
   "source": [
    "name = get_key(companies, \"MSFT\")\n",
    "name"
   ]
  },
  {
   "cell_type": "code",
   "execution_count": 118,
   "metadata": {},
   "outputs": [
    {
     "data": {
      "text/plain": [
       "287.73"
      ]
     },
     "execution_count": 118,
     "metadata": {},
     "output_type": "execute_result"
    }
   ],
   "source": [
    "price = stocks[\"AAPL\"]\n",
    "price"
   ]
  },
  {
   "cell_type": "code",
   "execution_count": 143,
   "metadata": {},
   "outputs": [],
   "source": [
    "def Name_Price (*args) : \n",
    "    if len(args) != 1: \n",
    "        return\n",
    "    try :\n",
    "        name = get_key(companies, args[0]) \n",
    "        price = stocks[args[0]]\n",
    "    except : \n",
    "        return \"Unknown ticker\"\n",
    "    print(\"Name - {}, its stock price is {}\".format(name, price))"
   ]
  },
  {
   "cell_type": "code",
   "execution_count": 144,
   "metadata": {},
   "outputs": [
    {
     "name": "stdout",
     "output_type": "stream",
     "text": [
      "Name - Microsoft, its stock price is 173.79\n"
     ]
    }
   ],
   "source": [
    "Name_Price(\"MSFT\")"
   ]
  },
  {
   "cell_type": "code",
   "execution_count": 145,
   "metadata": {},
   "outputs": [],
   "source": [
    "Name_Price(\"MSFT\",\"aaa\")"
   ]
  },
  {
   "cell_type": "code",
   "execution_count": 146,
   "metadata": {},
   "outputs": [],
   "source": [
    "Name_Price()"
   ]
  },
  {
   "cell_type": "code",
   "execution_count": 147,
   "metadata": {},
   "outputs": [
    {
     "data": {
      "text/plain": [
       "'Unknown ticker'"
      ]
     },
     "execution_count": 147,
     "metadata": {},
     "output_type": "execute_result"
    }
   ],
   "source": [
    "Name_Price(\"MS\")"
   ]
  },
  {
   "cell_type": "markdown",
   "metadata": {},
   "source": [
    "# Шестое задание"
   ]
  },
  {
   "cell_type": "code",
   "execution_count": 174,
   "metadata": {},
   "outputs": [],
   "source": [
    "companies = {\n",
    "    \"Apple\" : \"AAPL\",\n",
    "    \"Microsoft\" : \"MSFT\",\n",
    "    \"Netflix\" : \"NFLX\",\n",
    "    \"Tesla\" : \"TSLA\",\n",
    "    \"Nokia\" : \"NOK\"\n",
    " }\n",
    "\n",
    "stocks = {\n",
    "         \"AAPL\" : 287.73,\n",
    "         \"MSFT\" : 173.79,\n",
    "         \"NFLX\" : 416.90,\n",
    "         \"TSLA\" : 724.88,\n",
    "         \"NOK\" : 3.37\n",
    "}"
   ]
  },
  {
   "cell_type": "code",
   "execution_count": 175,
   "metadata": {},
   "outputs": [
    {
     "name": "stdout",
     "output_type": "stream",
     "text": [
      "Apple: AAPL\n",
      "Microsoft: MSFT\n",
      "Netflix: NFLX\n",
      "Tesla: TSLA\n",
      "Nokia: NOK\n"
     ]
    }
   ],
   "source": [
    "for k,v in companies.items():\n",
    "    print (k + \": \" + v)"
   ]
  },
  {
   "cell_type": "code",
   "execution_count": 226,
   "metadata": {},
   "outputs": [],
   "source": [
    "def Many_Companies(*args): \n",
    "    companies_low = []\n",
    "    tickers_low = []\n",
    "    for k,v in companies.items(): \n",
    "        companies_low.append(k.lower()) \n",
    "        tickers_low.append(v.lower())\n",
    "        \n",
    "    for i in args: \n",
    "        if (i.replace(\" \",\"\") == \"\") or (i == None): \n",
    "            return\n",
    "        i_new = i.strip().lower()\n",
    "        if i_new in companies_low: \n",
    "            i_new = i_new[0].upper() + i_new[1:]\n",
    "            ticker = companies[i_new]\n",
    "            print (\"{} has ticker {}\".format(i_new, ticker))\n",
    "        elif i_new in tickers_low: \n",
    "            i_new = i_new.upper()\n",
    "            price = stocks[i_new]\n",
    "            print (\"{} stock's price is {}\".format(i_new, price))\n",
    "        else :\n",
    "            print (\"{} is not a company or ticker\".format(i))"
   ]
  },
  {
   "cell_type": "code",
   "execution_count": 227,
   "metadata": {},
   "outputs": [
    {
     "name": "stdout",
     "output_type": "stream",
     "text": [
      "AAPL stock's price is 287.73\n",
      "Tesla has ticker TSLA\n",
      "Apple has ticker AAPL\n",
      "NOK stock's price is 3.37\n"
     ]
    }
   ],
   "source": [
    "Many_Companies(\"AAPL\", \"Tesla\" ,\"apple \", \"NOK\")"
   ]
  },
  {
   "cell_type": "code",
   "execution_count": 228,
   "metadata": {},
   "outputs": [],
   "source": [
    "Many_Companies()"
   ]
  },
  {
   "cell_type": "code",
   "execution_count": 229,
   "metadata": {},
   "outputs": [
    {
     "name": "stdout",
     "output_type": "stream",
     "text": [
      "TSL is not a company or ticker\n"
     ]
    }
   ],
   "source": [
    "Many_Companies(\"TSL\",\"\",\" apple\")"
   ]
  },
  {
   "cell_type": "markdown",
   "metadata": {},
   "source": [
    "# Седьмое задание "
   ]
  },
  {
   "cell_type": "code",
   "execution_count": 246,
   "metadata": {},
   "outputs": [],
   "source": [
    "list_of_tuples = [\n",
    "              ('Russia', \"25\"),\n",
    "              (\"France\", \"132\"),\n",
    "              (\"Germany\", \"132\"),\n",
    "              (\"Spain\", \"178\"),\n",
    "              (\"Italy\", \"162\"),\n",
    "              (\"Portugal\", \"17\"),\n",
    "              (\"Finland\", \"3\"),\n",
    "              (\"Hungary\", \"2\"),\n",
    "              (\"The Netherlands\", \"28\"),\n",
    "              (\"The USA\", \"610\"),\n",
    "              (\"The United Kingdom\", \"95\"),\n",
    "              (\"China\", \"83\"),\n",
    "              (\"Iran\", \"76\"),\n",
    "              (\"Turkey\", \"65\"),\n",
    "              (\"Belgium\", \"34\"),\n",
    "              (\"Canada\", \"28\"),\n",
    "              (\"Switzerland\", \"26\"),\n",
    "              (\"Brazil\", \"25\"),\n",
    "              (\"Austria\", \"14\"),\n",
    "              (\"Israel\", \"12\")\n",
    "]"
   ]
  },
  {
   "cell_type": "code",
   "execution_count": 248,
   "metadata": {},
   "outputs": [
    {
     "data": {
      "text/plain": [
       "['The USA',\n",
       " 'Spain',\n",
       " 'Italy',\n",
       " 'France',\n",
       " 'Germany',\n",
       " 'The United Kingdom',\n",
       " 'China',\n",
       " 'Iran',\n",
       " 'Turkey',\n",
       " 'Belgium',\n",
       " 'The Netherlands',\n",
       " 'Canada',\n",
       " 'Switzerland',\n",
       " 'Russia',\n",
       " 'Brazil',\n",
       " 'Portugal',\n",
       " 'Austria',\n",
       " 'Israel',\n",
       " 'Finland',\n",
       " 'Hungary']"
      ]
     },
     "execution_count": 248,
     "metadata": {},
     "output_type": "execute_result"
    }
   ],
   "source": [
    "countries = {}\n",
    "for i in list_of_tuples:\n",
    "    countries[i[0]] = int(i[1])\n",
    "sorted(countries, key = countries.get, reverse = True)"
   ]
  },
  {
   "cell_type": "markdown",
   "metadata": {},
   "source": [
    "# Восьмое задание"
   ]
  },
  {
   "cell_type": "code",
   "execution_count": 249,
   "metadata": {},
   "outputs": [],
   "source": [
    "import string"
   ]
  },
  {
   "cell_type": "code",
   "execution_count": 280,
   "metadata": {},
   "outputs": [
    {
     "data": {
      "text/plain": [
       "'bcyza'"
      ]
     },
     "execution_count": 280,
     "metadata": {},
     "output_type": "execute_result"
    }
   ],
   "source": [
    "    mes = \"abxyz\"\n",
    "    res = \"\"\n",
    "    shift = 1\n",
    "    alp =  string.ascii_lowercase\n",
    "    for i in mes:\n",
    "        try:\n",
    "            res+= alp[alp.index(i) + (shift % len(alp)) ]\n",
    "        except IndexError: \n",
    "            res += alp[ (alp.index(i) + shift % len(alp)) % len(alp) ]\n",
    "    res"
   ]
  },
  {
   "cell_type": "code",
   "execution_count": 283,
   "metadata": {},
   "outputs": [],
   "source": [
    "def caesar_encoding (mes, shift):\n",
    "    alp =  string.ascii_lowercase\n",
    "    res = \"\"\n",
    "    for i in mes:\n",
    "        try:\n",
    "            res +=  alp[alp.index(i) + (shift % len(alp)) ]\n",
    "        except IndexError: \n",
    "            res += alp[ (alp.index(i) + shift % len(alp)) % len(alp) ]\n",
    "    return res"
   ]
  },
  {
   "cell_type": "code",
   "execution_count": 284,
   "metadata": {},
   "outputs": [
    {
     "data": {
      "text/plain": [
       "'bcdyza'"
      ]
     },
     "execution_count": 284,
     "metadata": {},
     "output_type": "execute_result"
    }
   ],
   "source": [
    "caesar_encoding(\"abcxyz\",1)"
   ]
  },
  {
   "cell_type": "code",
   "execution_count": 285,
   "metadata": {},
   "outputs": [
    {
     "data": {
      "text/plain": [
       "'sthpq'"
      ]
     },
     "execution_count": 285,
     "metadata": {},
     "output_type": "execute_result"
    }
   ],
   "source": [
    "caesar_encoding(\"abpxy\", 44)"
   ]
  },
  {
   "cell_type": "code",
   "execution_count": 286,
   "metadata": {},
   "outputs": [
    {
     "data": {
      "text/plain": [
       "'adcx'"
      ]
     },
     "execution_count": 286,
     "metadata": {},
     "output_type": "execute_result"
    }
   ],
   "source": [
    "caesar_encoding(\"adcx\", 52)"
   ]
  },
  {
   "cell_type": "code",
   "execution_count": 287,
   "metadata": {},
   "outputs": [],
   "source": [
    "def caesar_decoding (mes, shift):\n",
    "    alp =  string.ascii_lowercase\n",
    "    res = \"\"\n",
    "    for i in mes:\n",
    "        try:\n",
    "            res +=  alp[alp.index(i) - (shift % len(alp)) ]\n",
    "        except IndexError: \n",
    "            res += alp[ (alp.index(i) - shift % len(alp)) % len(alp) ]\n",
    "    return res"
   ]
  },
  {
   "cell_type": "code",
   "execution_count": 288,
   "metadata": {},
   "outputs": [
    {
     "data": {
      "text/plain": [
       "'abcxyz'"
      ]
     },
     "execution_count": 288,
     "metadata": {},
     "output_type": "execute_result"
    }
   ],
   "source": [
    "caesar_decoding(\"bcdyza\", 1)"
   ]
  },
  {
   "cell_type": "code",
   "execution_count": 289,
   "metadata": {},
   "outputs": [
    {
     "data": {
      "text/plain": [
       "'abpxy'"
      ]
     },
     "execution_count": 289,
     "metadata": {},
     "output_type": "execute_result"
    }
   ],
   "source": [
    "caesar_decoding('sthpq', 44)"
   ]
  },
  {
   "cell_type": "code",
   "execution_count": null,
   "metadata": {},
   "outputs": [],
   "source": []
  }
 ],
 "metadata": {
  "kernelspec": {
   "display_name": "Python 3",
   "language": "python",
   "name": "python3"
  },
  "language_info": {
   "codemirror_mode": {
    "name": "ipython",
    "version": 3
   },
   "file_extension": ".py",
   "mimetype": "text/x-python",
   "name": "python",
   "nbconvert_exporter": "python",
   "pygments_lexer": "ipython3",
   "version": "3.7.6"
  }
 },
 "nbformat": 4,
 "nbformat_minor": 4
}
