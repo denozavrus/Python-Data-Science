{
 "cells": [
  {
   "cell_type": "markdown",
   "metadata": {},
   "source": [
    "# Задание 1"
   ]
  },
  {
   "cell_type": "code",
   "execution_count": 119,
   "metadata": {},
   "outputs": [],
   "source": [
    "import time"
   ]
  },
  {
   "cell_type": "code",
   "execution_count": 2,
   "metadata": {},
   "outputs": [],
   "source": [
    "emails = ['john@gmail.com', 'james@gmail.com', 'alice@yahoo.com', 'anna@live.com', 'philipp@gmail.com']"
   ]
  },
  {
   "cell_type": "code",
   "execution_count": 3,
   "metadata": {},
   "outputs": [],
   "source": [
    "def get_mail_loop (l):\n",
    "    result = []\n",
    "    for i in l: \n",
    "        if i.find(\"gmail\") != -1: \n",
    "            result.append(i)\n",
    "    return result"
   ]
  },
  {
   "cell_type": "code",
   "execution_count": 4,
   "metadata": {},
   "outputs": [],
   "source": [
    "def get_mail_comprehension (l): \n",
    "    result = []\n",
    "    result = [x for x in l if x.find(\"gmail\") != -1 ]\n",
    "    return result"
   ]
  },
  {
   "cell_type": "code",
   "execution_count": 5,
   "metadata": {},
   "outputs": [
    {
     "name": "stdout",
     "output_type": "stream",
     "text": [
      "Wall time: 0 ns\n"
     ]
    },
    {
     "data": {
      "text/plain": [
       "['john@gmail.com', 'james@gmail.com', 'philipp@gmail.com']"
      ]
     },
     "execution_count": 5,
     "metadata": {},
     "output_type": "execute_result"
    }
   ],
   "source": [
    "%%time\n",
    "get_mail_loop (emails)"
   ]
  },
  {
   "cell_type": "code",
   "execution_count": 7,
   "metadata": {},
   "outputs": [
    {
     "name": "stdout",
     "output_type": "stream",
     "text": [
      "Wall time: 0 ns\n"
     ]
    },
    {
     "data": {
      "text/plain": [
       "['john@gmail.com', 'james@gmail.com', 'philipp@gmail.com']"
      ]
     },
     "execution_count": 7,
     "metadata": {},
     "output_type": "execute_result"
    }
   ],
   "source": [
    "%%time\n",
    "get_mail_comp (emails)"
   ]
  },
  {
   "cell_type": "code",
   "execution_count": 24,
   "metadata": {},
   "outputs": [],
   "source": [
    "def time_check (l):\n",
    "    start_time_loop = time.time()\n",
    "    for i in range (9000):\n",
    "        get_mail_loop(l)\n",
    "    time_loop = time.time() - start_time_loop\n",
    "    print(\"Loop time : {}\".format(time_loop))\n",
    "    \n",
    "    start_time_comp = time.time()\n",
    "    for i in range (9000): \n",
    "        get_mail_comp(l)\n",
    "    time_comp = time.time() - start_time_comp\n",
    "    print(\"Comprehension time : {}\".format(time_comp))\n",
    "    \n",
    "    start_time_map = time.time()\n",
    "    for i in range (9000): \n",
    "        get_mail_map(l)\n",
    "    time_map = time.time() - start_time_map\n",
    "    print(\"Mapping time : {}\".format(time_map))"
   ]
  },
  {
   "cell_type": "code",
   "execution_count": 38,
   "metadata": {},
   "outputs": [
    {
     "name": "stdout",
     "output_type": "stream",
     "text": [
      "Loop time : 0.04097628593444824\n"
     ]
    }
   ],
   "source": [
    "    start_time_loop = time.time()\n",
    "    for i in range (9000):\n",
    "        get_mail_loop(emails)\n",
    "    time_loop = time.time() - start_time_loop\n",
    "    print(\"Loop time : {}\".format(time_loop))"
   ]
  },
  {
   "cell_type": "code",
   "execution_count": 39,
   "metadata": {},
   "outputs": [
    {
     "name": "stdout",
     "output_type": "stream",
     "text": [
      "Comprehension time : 0.030981779098510742\n"
     ]
    }
   ],
   "source": [
    "    start_time_comp = time.time()\n",
    "    for i in range (9000): \n",
    "        get_mail_comp(emails)\n",
    "    time_comp = time.time() - start_time_comp\n",
    "    print(\"Comprehension time : {}\".format(time_comp))"
   ]
  },
  {
   "cell_type": "code",
   "execution_count": 40,
   "metadata": {},
   "outputs": [
    {
     "name": "stdout",
     "output_type": "stream",
     "text": [
      "Mapping time : 0.048970699310302734\n"
     ]
    }
   ],
   "source": [
    "    start_time_map = time.time()\n",
    "    for i in range (9000): \n",
    "        get_mail_map(emails)\n",
    "    time_map = time.time() - start_time_map\n",
    "    print(\"Mapping time : {}\".format(time_map))"
   ]
  },
  {
   "cell_type": "code",
   "execution_count": 43,
   "metadata": {},
   "outputs": [
    {
     "name": "stdout",
     "output_type": "stream",
     "text": [
      "Loop time : 0.033959388732910156\n",
      "Comprehension time : 0.020990610122680664\n",
      "Mapping time : 0.030979156494140625\n"
     ]
    }
   ],
   "source": [
    "time_check (emails)"
   ]
  },
  {
   "cell_type": "markdown",
   "metadata": {},
   "source": [
    "# Задание 2"
   ]
  },
  {
   "cell_type": "code",
   "execution_count": 6,
   "metadata": {},
   "outputs": [],
   "source": [
    "def choose (email):\n",
    "    if email.find(\"gmail\") != -1:\n",
    "        return email"
   ]
  },
  {
   "cell_type": "code",
   "execution_count": 7,
   "metadata": {},
   "outputs": [],
   "source": [
    "def get_mail_map (l):\n",
    "    result = list( map(choose, l) )\n",
    "    return result"
   ]
  },
  {
   "cell_type": "code",
   "execution_count": 8,
   "metadata": {},
   "outputs": [
    {
     "data": {
      "text/plain": [
       "['john@gmail.com', 'james@gmail.com', None, None, 'philipp@gmail.com']"
      ]
     },
     "execution_count": 8,
     "metadata": {},
     "output_type": "execute_result"
    }
   ],
   "source": [
    "get_mail_map(emails)"
   ]
  },
  {
   "cell_type": "markdown",
   "metadata": {},
   "source": [
    "# Задание 3"
   ]
  },
  {
   "cell_type": "code",
   "execution_count": 9,
   "metadata": {},
   "outputs": [],
   "source": [
    "def get_mail_filter (l): \n",
    "    result = list(filter(lambda x: x.find(\"gmail\") != -1, l))\n",
    "    return result"
   ]
  },
  {
   "cell_type": "code",
   "execution_count": 10,
   "metadata": {},
   "outputs": [
    {
     "data": {
      "text/plain": [
       "['john@gmail.com', 'james@gmail.com', 'philipp@gmail.com']"
      ]
     },
     "execution_count": 10,
     "metadata": {},
     "output_type": "execute_result"
    }
   ],
   "source": [
    "get_mail_filter(emails)"
   ]
  },
  {
   "cell_type": "code",
   "execution_count": 11,
   "metadata": {},
   "outputs": [],
   "source": [
    "def Time_of_way (way, iterations):\n",
    "    method_name = 'get_mail_{}'.format(way)\n",
    "    possibles = globals().copy()\n",
    "    possibles.update(locals())\n",
    "    method = possibles.get(method_name)\n",
    "    \n",
    "    start_time_loop = time.time()\n",
    "    for i in range (iterations):\n",
    "        method(emails)\n",
    "    \n",
    "    time_loop = time.time() - start_time_loop\n",
    "    print(\"Time : {}\".format(time_loop))\n",
    "    return time_loop"
   ]
  },
  {
   "cell_type": "code",
   "execution_count": 12,
   "metadata": {},
   "outputs": [
    {
     "name": "stdout",
     "output_type": "stream",
     "text": [
      "Time : 2.730433702468872\n"
     ]
    },
    {
     "data": {
      "text/plain": [
       "2.730433702468872"
      ]
     },
     "execution_count": 12,
     "metadata": {},
     "output_type": "execute_result"
    }
   ],
   "source": [
    "Time_of_way(\"filter\",  10**6)"
   ]
  },
  {
   "cell_type": "code",
   "execution_count": 13,
   "metadata": {},
   "outputs": [
    {
     "name": "stdout",
     "output_type": "stream",
     "text": [
      "Time : 2.0438263416290283\n"
     ]
    },
    {
     "data": {
      "text/plain": [
       "2.0438263416290283"
      ]
     },
     "execution_count": 13,
     "metadata": {},
     "output_type": "execute_result"
    }
   ],
   "source": [
    "Time_of_way(\"comprehension\",  10**6)"
   ]
  },
  {
   "cell_type": "code",
   "execution_count": 14,
   "metadata": {},
   "outputs": [
    {
     "name": "stdout",
     "output_type": "stream",
     "text": [
      "Time : 2.180745840072632\n"
     ]
    },
    {
     "data": {
      "text/plain": [
       "2.180745840072632"
      ]
     },
     "execution_count": 14,
     "metadata": {},
     "output_type": "execute_result"
    }
   ],
   "source": [
    "Time_of_way(\"loop\", 10**6)"
   ]
  },
  {
   "cell_type": "code",
   "execution_count": 15,
   "metadata": {},
   "outputs": [
    {
     "name": "stdout",
     "output_type": "stream",
     "text": [
      "Time : 2.561652183532715\n"
     ]
    },
    {
     "data": {
      "text/plain": [
       "2.561652183532715"
      ]
     },
     "execution_count": 15,
     "metadata": {},
     "output_type": "execute_result"
    }
   ],
   "source": [
    "Time_of_way(\"map\", 10**6)"
   ]
  },
  {
   "cell_type": "code",
   "execution_count": 79,
   "metadata": {},
   "outputs": [
    {
     "ename": "TypeError",
     "evalue": "getattr expected at least 2 arguments, got 1",
     "output_type": "error",
     "traceback": [
      "\u001b[1;31m---------------------------------------------------------------------------\u001b[0m",
      "\u001b[1;31mTypeError\u001b[0m                                 Traceback (most recent call last)",
      "\u001b[1;32m<ipython-input-79-445996a56f78>\u001b[0m in \u001b[0;36m<module>\u001b[1;34m\u001b[0m\n\u001b[1;32m----> 1\u001b[1;33m \u001b[0mgetattr\u001b[0m\u001b[1;33m(\u001b[0m\u001b[1;34m\"get_mail_filter(emails)\"\u001b[0m\u001b[1;33m)\u001b[0m\u001b[1;33m\u001b[0m\u001b[1;33m\u001b[0m\u001b[0m\n\u001b[0m",
      "\u001b[1;31mTypeError\u001b[0m: getattr expected at least 2 arguments, got 1"
     ]
    }
   ],
   "source": [
    "getattr(,\"get_mail_filter(emails)\")"
   ]
  },
  {
   "cell_type": "code",
   "execution_count": 80,
   "metadata": {},
   "outputs": [
    {
     "data": {
      "text/plain": [
       "['john@gmail.com', 'james@gmail.com', 'philipp@gmail.com']"
      ]
     },
     "execution_count": 80,
     "metadata": {},
     "output_type": "execute_result"
    }
   ],
   "source": [
    "method_name = 'get_mail_filter'\n",
    "possibles = globals().copy()\n",
    "possibles.update(locals())\n",
    "method = possibles.get(method_name)\n",
    "method(emails)"
   ]
  },
  {
   "cell_type": "markdown",
   "metadata": {},
   "source": [
    "# Задание 4"
   ]
  },
  {
   "cell_type": "code",
   "execution_count": 16,
   "metadata": {},
   "outputs": [],
   "source": [
    "def loop_check (way, iterations, count):\n",
    "    method_name = '{}_loop'.format(way)\n",
    "    possibles = globals().copy()\n",
    "    possibles.update(locals())\n",
    "    method = possibles.get(method_name)\n",
    "    \n",
    "    start_time_loop = time.time()\n",
    "    for i in range (iterations):\n",
    "        method (count)\n",
    "    time_loop = time.time() - start_time_loop\n",
    "    print(\"Time : {}\".format(time_loop))\n",
    "    return time_loop"
   ]
  },
  {
   "cell_type": "code",
   "execution_count": 17,
   "metadata": {},
   "outputs": [],
   "source": [
    "def reg_loop (count): \n",
    "    squeries_sum = 0 \n",
    "    for i in range (count + 1):\n",
    "        squeries_sum += i ** 2\n",
    "    return squeries_sum"
   ]
  },
  {
   "cell_type": "code",
   "execution_count": 18,
   "metadata": {},
   "outputs": [
    {
     "data": {
      "text/plain": [
       "55"
      ]
     },
     "execution_count": 18,
     "metadata": {},
     "output_type": "execute_result"
    }
   ],
   "source": [
    "reg_loop(5)"
   ]
  },
  {
   "cell_type": "code",
   "execution_count": 19,
   "metadata": {},
   "outputs": [],
   "source": [
    "def reduce_loop (count): \n",
    "    squeries_sum = 0\n",
    "    squeries_sum = reduce(lambda sum, element: sum + element ** 2, range (count + 1))\n",
    "    return squeries_sum"
   ]
  },
  {
   "cell_type": "code",
   "execution_count": 23,
   "metadata": {},
   "outputs": [
    {
     "data": {
      "text/plain": [
       "55"
      ]
     },
     "execution_count": 23,
     "metadata": {},
     "output_type": "execute_result"
    }
   ],
   "source": [
    "reduce_loop(5)"
   ]
  },
  {
   "cell_type": "code",
   "execution_count": 22,
   "metadata": {},
   "outputs": [],
   "source": [
    "from functools import reduce"
   ]
  },
  {
   "cell_type": "code",
   "execution_count": 24,
   "metadata": {},
   "outputs": [
    {
     "name": "stdout",
     "output_type": "stream",
     "text": [
      "Time : 3.565915822982788\n"
     ]
    },
    {
     "data": {
      "text/plain": [
       "3.565915822982788"
      ]
     },
     "execution_count": 24,
     "metadata": {},
     "output_type": "execute_result"
    }
   ],
   "source": [
    "loop_check(\"reduce\", 10**6, 5)"
   ]
  },
  {
   "cell_type": "code",
   "execution_count": 25,
   "metadata": {},
   "outputs": [
    {
     "name": "stdout",
     "output_type": "stream",
     "text": [
      "Time : 3.5926473140716553\n"
     ]
    },
    {
     "data": {
      "text/plain": [
       "3.5926473140716553"
      ]
     },
     "execution_count": 25,
     "metadata": {},
     "output_type": "execute_result"
    }
   ],
   "source": [
    "loop_check(\"reduce\", 10**6, 5)"
   ]
  },
  {
   "cell_type": "code",
   "execution_count": 26,
   "metadata": {},
   "outputs": [
    {
     "name": "stdout",
     "output_type": "stream",
     "text": [
      "Time : 3.5245509147644043\n"
     ]
    },
    {
     "data": {
      "text/plain": [
       "3.5245509147644043"
      ]
     },
     "execution_count": 26,
     "metadata": {},
     "output_type": "execute_result"
    }
   ],
   "source": [
    "loop_check(\"reg\", 10**6, 5)"
   ]
  },
  {
   "cell_type": "code",
   "execution_count": 27,
   "metadata": {},
   "outputs": [
    {
     "name": "stdout",
     "output_type": "stream",
     "text": [
      "Time : 3.4087836742401123\n"
     ]
    },
    {
     "data": {
      "text/plain": [
       "3.4087836742401123"
      ]
     },
     "execution_count": 27,
     "metadata": {},
     "output_type": "execute_result"
    }
   ],
   "source": [
    "loop_check(\"reg\", 10**6, 5)"
   ]
  },
  {
   "cell_type": "markdown",
   "metadata": {},
   "source": [
    "# Задание 5"
   ]
  },
  {
   "cell_type": "code",
   "execution_count": 28,
   "metadata": {},
   "outputs": [],
   "source": [
    "import random "
   ]
  },
  {
   "cell_type": "code",
   "execution_count": 32,
   "metadata": {},
   "outputs": [],
   "source": [
    "list_of_random = [random.randint(1,100) for x in range (10**6)]"
   ]
  },
  {
   "cell_type": "code",
   "execution_count": 34,
   "metadata": {},
   "outputs": [
    {
     "data": {
      "text/plain": [
       "1000000"
      ]
     },
     "execution_count": 34,
     "metadata": {},
     "output_type": "execute_result"
    }
   ],
   "source": [
    "len(list_of_random)"
   ]
  },
  {
   "cell_type": "code",
   "execution_count": 123,
   "metadata": {},
   "outputs": [],
   "source": [
    "def count_of_randoms (randoms):\n",
    "    start_time_loop = time.time()\n",
    "    counts = {}\n",
    "    for i in randoms:\n",
    "        if i in counts.keys():\n",
    "            counts[i] += 1\n",
    "        else: \n",
    "            counts[i] = 1\n",
    "    sorted_count = {k : v for k,v in sorted(counts.items(), key = lambda item: item[1])}\n",
    "    top = list(sorted_count.items())[-10:]\n",
    "    result = {x[0] : x[1] for x in list(reversed(top))}\n",
    "    time_loop = time.time() - start_time_loop\n",
    "    return result, time_loop"
   ]
  },
  {
   "cell_type": "code",
   "execution_count": 144,
   "metadata": {},
   "outputs": [
    {
     "data": {
      "text/plain": [
       "0.3128187656402588"
      ]
     },
     "execution_count": 144,
     "metadata": {},
     "output_type": "execute_result"
    }
   ],
   "source": [
    "count_of_randoms(list_of_random)[1]"
   ]
  },
  {
   "cell_type": "code",
   "execution_count": 96,
   "metadata": {},
   "outputs": [],
   "source": [
    "import collections "
   ]
  },
  {
   "cell_type": "code",
   "execution_count": 130,
   "metadata": {},
   "outputs": [],
   "source": [
    "def count_of_randoms_module (randoms):\n",
    "    start_time_loop = time.time()\n",
    "    result = {x[0] : x[1] for x in collections.Counter(randoms).most_common(10)}\n",
    "    time_loop = time.time() - start_time_loop\n",
    "    return result, time_loop"
   ]
  },
  {
   "cell_type": "code",
   "execution_count": 159,
   "metadata": {},
   "outputs": [
    {
     "data": {
      "text/plain": [
       "0.0914618968963623"
      ]
     },
     "execution_count": 159,
     "metadata": {},
     "output_type": "execute_result"
    }
   ],
   "source": [
    "count_of_randoms_module(list_of_random)[1]"
   ]
  },
  {
   "cell_type": "markdown",
   "metadata": {},
   "source": [
    "# Задание 6"
   ]
  },
  {
   "cell_type": "code",
   "execution_count": 173,
   "metadata": {},
   "outputs": [],
   "source": [
    "import tracemalloc\n",
    "import csv"
   ]
  },
  {
   "cell_type": "code",
   "execution_count": 166,
   "metadata": {},
   "outputs": [],
   "source": [
    "path_to_file = \"C:/Users/Денис/Desktop/ml-25m/ratings.csv\""
   ]
  },
  {
   "cell_type": "code",
   "execution_count": 183,
   "metadata": {},
   "outputs": [],
   "source": [
    "def ordinary (path): \n",
    "    start_time_loop = time.time()\n",
    "    tracemalloc.start()\n",
    "    open_file(path)\n",
    "    current, peak = tracemalloc.get_traced_memory()\n",
    "    print (\"Peak was {} GB\".format(peak / 10**9))\n",
    "    tracemalloc.stop()\n",
    "    time_loop = time.time() - start_time_loop\n",
    "    print(\"Time was {} seconds\".format(time_loop))\n",
    "    return "
   ]
  },
  {
   "cell_type": "code",
   "execution_count": 165,
   "metadata": {},
   "outputs": [],
   "source": [
    "def open_file (path): \n",
    "    f = open(path) \n",
    "    lines = f.readlines()\n",
    "    for i in lines:\n",
    "        pass\n",
    "    return "
   ]
  },
  {
   "cell_type": "code",
   "execution_count": 167,
   "metadata": {},
   "outputs": [
    {
     "name": "stdout",
     "output_type": "stream",
     "text": [
      "Peak was {} GB 2.101660903\n",
      "Time was 100.17469763755798 seconds\n"
     ]
    }
   ],
   "source": [
    "ordinary(path = path_to_file)"
   ]
  },
  {
   "cell_type": "code",
   "execution_count": 182,
   "metadata": {},
   "outputs": [],
   "source": [
    "def generator (path):\n",
    "    start_time_loop = time.time()\n",
    "    tracemalloc.start()\n",
    "    gen = generator_open(path)\n",
    "    for i in gen:\n",
    "        pass\n",
    "    current, peak = tracemalloc.get_traced_memory()\n",
    "    print (\"Peak was {} GB\".format(peak / 10**9))\n",
    "    tracemalloc.stop()\n",
    "    time_loop = time.time() - start_time_loop\n",
    "    print(\"Time was {} seconds\".format(time_loop))\n",
    "    return "
   ]
  },
  {
   "cell_type": "code",
   "execution_count": 178,
   "metadata": {},
   "outputs": [],
   "source": [
    "def generator_open (path):\n",
    "    for row in open(path, \"r\"):\n",
    "        yield row"
   ]
  },
  {
   "cell_type": "code",
   "execution_count": 184,
   "metadata": {},
   "outputs": [
    {
     "name": "stdout",
     "output_type": "stream",
     "text": [
      "Peak was 0.00018211 GB\n",
      "Time was 19.15024423599243 seconds\n"
     ]
    }
   ],
   "source": [
    "generator(path_to_file)"
   ]
  },
  {
   "cell_type": "code",
   "execution_count": null,
   "metadata": {},
   "outputs": [],
   "source": []
  }
 ],
 "metadata": {
  "kernelspec": {
   "display_name": "Python 3",
   "language": "python",
   "name": "python3"
  },
  "language_info": {
   "codemirror_mode": {
    "name": "ipython",
    "version": 3
   },
   "file_extension": ".py",
   "mimetype": "text/x-python",
   "name": "python",
   "nbconvert_exporter": "python",
   "pygments_lexer": "ipython3",
   "version": "3.7.6"
  }
 },
 "nbformat": 4,
 "nbformat_minor": 4
}
