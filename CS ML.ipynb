{
 "cells": [
  {
   "cell_type": "code",
   "execution_count": 1,
   "metadata": {},
   "outputs": [],
   "source": [
    "import pandas as pd\n",
    "pd.set_option(\"display.max_columns\", 36)"
   ]
  },
  {
   "cell_type": "code",
   "execution_count": 2,
   "metadata": {},
   "outputs": [],
   "source": [
    "import numpy as np"
   ]
  },
  {
   "cell_type": "code",
   "execution_count": 3,
   "metadata": {},
   "outputs": [],
   "source": [
    "import matplotlib.pyplot as plt"
   ]
  },
  {
   "cell_type": "code",
   "execution_count": 4,
   "metadata": {},
   "outputs": [],
   "source": [
    "data = pd.read_csv(\"C:/Users/Денис/DataScience/datasets/Sites.csv\", encoding = 'cp1252')\n",
    "data_copy = data.copy()"
   ]
  },
  {
   "cell_type": "code",
   "execution_count": 5,
   "metadata": {},
   "outputs": [
    {
     "data": {
      "text/html": [
       "<div>\n",
       "<style scoped>\n",
       "    .dataframe tbody tr th:only-of-type {\n",
       "        vertical-align: middle;\n",
       "    }\n",
       "\n",
       "    .dataframe tbody tr th {\n",
       "        vertical-align: top;\n",
       "    }\n",
       "\n",
       "    .dataframe thead th {\n",
       "        text-align: right;\n",
       "    }\n",
       "</style>\n",
       "<table border=\"1\" class=\"dataframe\">\n",
       "  <thead>\n",
       "    <tr style=\"text-align: right;\">\n",
       "      <th></th>\n",
       "      <th>SiteCode</th>\n",
       "      <th>ShortTitle</th>\n",
       "      <th>Title</th>\n",
       "      <th>Type</th>\n",
       "      <th>SubType</th>\n",
       "      <th>Stage</th>\n",
       "      <th>Confidentiality</th>\n",
       "      <th>ProjectCode</th>\n",
       "      <th>ProjectTitle</th>\n",
       "      <th>Latitude</th>\n",
       "      <th>Longitude</th>\n",
       "      <th>MgaZone</th>\n",
       "      <th>Easting</th>\n",
       "      <th>Northing</th>\n",
       "      <th>GroupSite</th>\n",
       "      <th>Commodities</th>\n",
       "      <th>CommodityGroups</th>\n",
       "      <th>TargetCommodityGroups</th>\n",
       "      <th>MineralizationStyle</th>\n",
       "      <th>SecondaryMineralizationStyle</th>\n",
       "      <th>MapSheetNo100k</th>\n",
       "      <th>MapSheetName100k</th>\n",
       "      <th>MapSheetNo250k</th>\n",
       "      <th>MapSheetName250k</th>\n",
       "      <th>LGAName</th>\n",
       "      <th>DevelopmentRegion</th>\n",
       "      <th>DistrictNo</th>\n",
       "      <th>DistrictName</th>\n",
       "      <th>TectonicUnit</th>\n",
       "      <th>EILFlag</th>\n",
       "      <th>EISFlag</th>\n",
       "      <th>GBRMFlag</th>\n",
       "    </tr>\n",
       "  </thead>\n",
       "  <tbody>\n",
       "    <tr>\n",
       "      <th>0</th>\n",
       "      <td>S0000001</td>\n",
       "      <td>Pieces of Eight</td>\n",
       "      <td>Pieces of Eight - Admiral Hill</td>\n",
       "      <td>Mine</td>\n",
       "      <td>Openpit</td>\n",
       "      <td>Care and Maintenance</td>\n",
       "      <td>Public</td>\n",
       "      <td>J00238</td>\n",
       "      <td>Laverton - Barnicoat - Karridale - Merolia / F...</td>\n",
       "      <td>-28.565092</td>\n",
       "      <td>122.480745</td>\n",
       "      <td>51.0</td>\n",
       "      <td>449214.0</td>\n",
       "      <td>6840087.0</td>\n",
       "      <td>No</td>\n",
       "      <td>Au, Ag</td>\n",
       "      <td>Precious metal</td>\n",
       "      <td>GOLD</td>\n",
       "      <td>Vein and hydrothermal - undivided</td>\n",
       "      <td>Unknown/Unassigned</td>\n",
       "      <td>3340.0</td>\n",
       "      <td>LAVERTON</td>\n",
       "      <td>SH51-02</td>\n",
       "      <td>LAVERTON</td>\n",
       "      <td>LAVERTON, SHIRE OF</td>\n",
       "      <td>GOLDFIELDS-ESPERANCE, Development Region</td>\n",
       "      <td>38.0</td>\n",
       "      <td>MT. MARGARET</td>\n",
       "      <td>Eastern Goldfields Superterrane</td>\n",
       "      <td>No</td>\n",
       "      <td>No</td>\n",
       "      <td>No</td>\n",
       "    </tr>\n",
       "    <tr>\n",
       "      <th>1</th>\n",
       "      <td>S0000002</td>\n",
       "      <td>Albury Heath</td>\n",
       "      <td>Albury Heath</td>\n",
       "      <td>Deposit</td>\n",
       "      <td>Unspecified</td>\n",
       "      <td>Undeveloped</td>\n",
       "      <td>Public</td>\n",
       "      <td>J00002</td>\n",
       "      <td>Albury Heath</td>\n",
       "      <td>-26.787370</td>\n",
       "      <td>118.574407</td>\n",
       "      <td>50.0</td>\n",
       "      <td>656510.0</td>\n",
       "      <td>7036146.0</td>\n",
       "      <td>No</td>\n",
       "      <td>Au, Ag</td>\n",
       "      <td>Precious metal</td>\n",
       "      <td>GOLD</td>\n",
       "      <td>Vein and hydrothermal - undivided</td>\n",
       "      <td>Au in shears or faults</td>\n",
       "      <td>2644.0</td>\n",
       "      <td>GABANINTHA</td>\n",
       "      <td>SG50-12</td>\n",
       "      <td>GLENGARRY</td>\n",
       "      <td>MEEKATHARRA, SHIRE OF</td>\n",
       "      <td>MID-WEST, Development Region</td>\n",
       "      <td>51.0</td>\n",
       "      <td>MEEKATHARRA</td>\n",
       "      <td>Youanmi Terrane</td>\n",
       "      <td>No</td>\n",
       "      <td>No</td>\n",
       "      <td>No</td>\n",
       "    </tr>\n",
       "    <tr>\n",
       "      <th>2</th>\n",
       "      <td>S0000005</td>\n",
       "      <td>Aspacia</td>\n",
       "      <td>Aspacia</td>\n",
       "      <td>Mine</td>\n",
       "      <td>Openpit</td>\n",
       "      <td>Shut</td>\n",
       "      <td>Public</td>\n",
       "      <td>J01011</td>\n",
       "      <td>Menzies</td>\n",
       "      <td>-29.690630</td>\n",
       "      <td>121.012802</td>\n",
       "      <td>51.0</td>\n",
       "      <td>307727.0</td>\n",
       "      <td>6713842.0</td>\n",
       "      <td>No</td>\n",
       "      <td>Au, Ag</td>\n",
       "      <td>Precious metal</td>\n",
       "      <td>GOLD</td>\n",
       "      <td>Vein and hydrothermal - undivided</td>\n",
       "      <td>Au in shears or faults</td>\n",
       "      <td>3138.0</td>\n",
       "      <td>MENZIES</td>\n",
       "      <td>SH51-05</td>\n",
       "      <td>MENZIES</td>\n",
       "      <td>MENZIES, SHIRE OF</td>\n",
       "      <td>GOLDFIELDS-ESPERANCE, Development Region</td>\n",
       "      <td>29.0</td>\n",
       "      <td>MENZIES</td>\n",
       "      <td>Eastern Goldfields Superterrane</td>\n",
       "      <td>No</td>\n",
       "      <td>No</td>\n",
       "      <td>No</td>\n",
       "    </tr>\n",
       "    <tr>\n",
       "      <th>3</th>\n",
       "      <td>S0000006</td>\n",
       "      <td>Baden Powell</td>\n",
       "      <td>Baden Powell Test Pit</td>\n",
       "      <td>Mine</td>\n",
       "      <td>Openpit</td>\n",
       "      <td>Shut</td>\n",
       "      <td>Public</td>\n",
       "      <td>J05474</td>\n",
       "      <td>Baden Powell / Horizon</td>\n",
       "      <td>-30.239151</td>\n",
       "      <td>121.222783</td>\n",
       "      <td>51.0</td>\n",
       "      <td>328990.0</td>\n",
       "      <td>6653378.0</td>\n",
       "      <td>No</td>\n",
       "      <td>Au, Ag</td>\n",
       "      <td>Precious metal</td>\n",
       "      <td>GOLD</td>\n",
       "      <td>Unknown/Unassigned</td>\n",
       "      <td>Porphyry Au</td>\n",
       "      <td>3137.0</td>\n",
       "      <td>BARDOC</td>\n",
       "      <td>SH51-09</td>\n",
       "      <td>KALGOORLIE</td>\n",
       "      <td>KALGOORLIE-BOULDER, CITY OF</td>\n",
       "      <td>GOLDFIELDS-ESPERANCE, Development Region</td>\n",
       "      <td>24.0</td>\n",
       "      <td>BROAD ARROW M.F.</td>\n",
       "      <td>Eastern Goldfields Superterrane</td>\n",
       "      <td>No</td>\n",
       "      <td>No</td>\n",
       "      <td>No</td>\n",
       "    </tr>\n",
       "    <tr>\n",
       "      <th>4</th>\n",
       "      <td>S0000007</td>\n",
       "      <td>Dingo</td>\n",
       "      <td>Dingo - Katanning</td>\n",
       "      <td>Mine</td>\n",
       "      <td>Openpit</td>\n",
       "      <td>Shut</td>\n",
       "      <td>Public</td>\n",
       "      <td>J00007</td>\n",
       "      <td>Katanning Gold</td>\n",
       "      <td>-33.574907</td>\n",
       "      <td>117.920153</td>\n",
       "      <td>50.0</td>\n",
       "      <td>585397.0</td>\n",
       "      <td>6284597.0</td>\n",
       "      <td>No</td>\n",
       "      <td>Au, Ag</td>\n",
       "      <td>Precious metal</td>\n",
       "      <td>GOLD</td>\n",
       "      <td>Unknown/Unassigned</td>\n",
       "      <td>Au in BIF</td>\n",
       "      <td>2430.0</td>\n",
       "      <td>KATANNING</td>\n",
       "      <td>SI50-07</td>\n",
       "      <td>DUMBLEYUNG</td>\n",
       "      <td>KATANNING, SHIRE OF</td>\n",
       "      <td>GREAT SOUTHERN, Development Region</td>\n",
       "      <td>70.0</td>\n",
       "      <td>SOUTH WEST M.F.</td>\n",
       "      <td>Yilgarn Craton granites</td>\n",
       "      <td>No</td>\n",
       "      <td>No</td>\n",
       "      <td>No</td>\n",
       "    </tr>\n",
       "  </tbody>\n",
       "</table>\n",
       "</div>"
      ],
      "text/plain": [
       "   SiteCode       ShortTitle                           Title     Type  \\\n",
       "0  S0000001  Pieces of Eight  Pieces of Eight - Admiral Hill     Mine   \n",
       "1  S0000002     Albury Heath                    Albury Heath  Deposit   \n",
       "2  S0000005          Aspacia                         Aspacia     Mine   \n",
       "3  S0000006     Baden Powell           Baden Powell Test Pit     Mine   \n",
       "4  S0000007            Dingo               Dingo - Katanning     Mine   \n",
       "\n",
       "       SubType                 Stage Confidentiality ProjectCode  \\\n",
       "0      Openpit  Care and Maintenance          Public      J00238   \n",
       "1  Unspecified           Undeveloped          Public      J00002   \n",
       "2      Openpit                  Shut          Public      J01011   \n",
       "3      Openpit                  Shut          Public      J05474   \n",
       "4      Openpit                  Shut          Public      J00007   \n",
       "\n",
       "                                        ProjectTitle   Latitude   Longitude  \\\n",
       "0  Laverton - Barnicoat - Karridale - Merolia / F... -28.565092  122.480745   \n",
       "1                                       Albury Heath -26.787370  118.574407   \n",
       "2                                            Menzies -29.690630  121.012802   \n",
       "3                             Baden Powell / Horizon -30.239151  121.222783   \n",
       "4                                     Katanning Gold -33.574907  117.920153   \n",
       "\n",
       "   MgaZone   Easting   Northing GroupSite Commodities CommodityGroups  \\\n",
       "0     51.0  449214.0  6840087.0        No      Au, Ag  Precious metal   \n",
       "1     50.0  656510.0  7036146.0        No      Au, Ag  Precious metal   \n",
       "2     51.0  307727.0  6713842.0        No      Au, Ag  Precious metal   \n",
       "3     51.0  328990.0  6653378.0        No      Au, Ag  Precious metal   \n",
       "4     50.0  585397.0  6284597.0        No      Au, Ag  Precious metal   \n",
       "\n",
       "  TargetCommodityGroups                MineralizationStyle  \\\n",
       "0                  GOLD  Vein and hydrothermal - undivided   \n",
       "1                  GOLD  Vein and hydrothermal - undivided   \n",
       "2                  GOLD  Vein and hydrothermal - undivided   \n",
       "3                  GOLD                 Unknown/Unassigned   \n",
       "4                  GOLD                 Unknown/Unassigned   \n",
       "\n",
       "  SecondaryMineralizationStyle  MapSheetNo100k MapSheetName100k  \\\n",
       "0           Unknown/Unassigned          3340.0         LAVERTON   \n",
       "1       Au in shears or faults          2644.0       GABANINTHA   \n",
       "2       Au in shears or faults          3138.0          MENZIES   \n",
       "3                  Porphyry Au          3137.0           BARDOC   \n",
       "4                    Au in BIF          2430.0        KATANNING   \n",
       "\n",
       "  MapSheetNo250k MapSheetName250k                      LGAName  \\\n",
       "0        SH51-02         LAVERTON           LAVERTON, SHIRE OF   \n",
       "1        SG50-12        GLENGARRY        MEEKATHARRA, SHIRE OF   \n",
       "2        SH51-05          MENZIES            MENZIES, SHIRE OF   \n",
       "3        SH51-09       KALGOORLIE  KALGOORLIE-BOULDER, CITY OF   \n",
       "4        SI50-07       DUMBLEYUNG          KATANNING, SHIRE OF   \n",
       "\n",
       "                          DevelopmentRegion  DistrictNo          DistrictName  \\\n",
       "0  GOLDFIELDS-ESPERANCE, Development Region        38.0  MT. MARGARET           \n",
       "1              MID-WEST, Development Region        51.0  MEEKATHARRA            \n",
       "2  GOLDFIELDS-ESPERANCE, Development Region        29.0  MENZIES                \n",
       "3  GOLDFIELDS-ESPERANCE, Development Region        24.0  BROAD ARROW M.F.       \n",
       "4        GREAT SOUTHERN, Development Region        70.0  SOUTH WEST M.F.        \n",
       "\n",
       "                      TectonicUnit EILFlag EISFlag GBRMFlag  \n",
       "0  Eastern Goldfields Superterrane      No      No       No  \n",
       "1                  Youanmi Terrane      No      No       No  \n",
       "2  Eastern Goldfields Superterrane      No      No       No  \n",
       "3  Eastern Goldfields Superterrane      No      No       No  \n",
       "4          Yilgarn Craton granites      No      No       No  "
      ]
     },
     "execution_count": 5,
     "metadata": {},
     "output_type": "execute_result"
    }
   ],
   "source": [
    "data.head() # Посмотрим несколько первых строк в нашем датасете"
   ]
  },
  {
   "cell_type": "code",
   "execution_count": 6,
   "metadata": {},
   "outputs": [
    {
     "data": {
      "text/plain": [
       "(41872, 32)"
      ]
     },
     "execution_count": 6,
     "metadata": {},
     "output_type": "execute_result"
    }
   ],
   "source": [
    "data.shape # размеры нашего датасета имеем почти 42 тысячи строк и 32 столбца (признака)"
   ]
  },
  {
   "cell_type": "code",
   "execution_count": 7,
   "metadata": {},
   "outputs": [
    {
     "data": {
      "text/plain": [
       "Index(['SiteCode', 'ShortTitle', 'Title', 'Type', 'SubType', 'Stage',\n",
       "       'Confidentiality', 'ProjectCode', 'ProjectTitle', 'Latitude',\n",
       "       'Longitude', 'MgaZone', 'Easting', 'Northing', 'GroupSite',\n",
       "       'Commodities', 'CommodityGroups', 'TargetCommodityGroups',\n",
       "       'MineralizationStyle', 'SecondaryMineralizationStyle', 'MapSheetNo100k',\n",
       "       'MapSheetName100k', 'MapSheetNo250k', 'MapSheetName250k', 'LGAName',\n",
       "       'DevelopmentRegion', 'DistrictNo', 'DistrictName', 'TectonicUnit',\n",
       "       'EILFlag', 'EISFlag', 'GBRMFlag'],\n",
       "      dtype='object')"
      ]
     },
     "execution_count": 7,
     "metadata": {},
     "output_type": "execute_result"
    }
   ],
   "source": [
    "data.columns # Имена признаков в нашем датасете"
   ]
  },
  {
   "cell_type": "code",
   "execution_count": 8,
   "metadata": {},
   "outputs": [
    {
     "name": "stdout",
     "output_type": "stream",
     "text": [
      "<class 'pandas.core.frame.DataFrame'>\n",
      "RangeIndex: 41872 entries, 0 to 41871\n",
      "Data columns (total 32 columns):\n",
      " #   Column                        Non-Null Count  Dtype  \n",
      "---  ------                        --------------  -----  \n",
      " 0   SiteCode                      41872 non-null  object \n",
      " 1   ShortTitle                    41872 non-null  object \n",
      " 2   Title                         41872 non-null  object \n",
      " 3   Type                          41872 non-null  object \n",
      " 4   SubType                       41872 non-null  object \n",
      " 5   Stage                         41872 non-null  object \n",
      " 6   Confidentiality               41872 non-null  object \n",
      " 7   ProjectCode                   35205 non-null  object \n",
      " 8   ProjectTitle                  35205 non-null  object \n",
      " 9   Latitude                      41580 non-null  float64\n",
      " 10  Longitude                     41580 non-null  float64\n",
      " 11  MgaZone                       41580 non-null  float64\n",
      " 12  Easting                       41580 non-null  float64\n",
      " 13  Northing                      41580 non-null  float64\n",
      " 14  GroupSite                     41872 non-null  object \n",
      " 15  Commodities                   41827 non-null  object \n",
      " 16  CommodityGroups               41868 non-null  object \n",
      " 17  TargetCommodityGroups         41865 non-null  object \n",
      " 18  MineralizationStyle           38238 non-null  object \n",
      " 19  SecondaryMineralizationStyle  38182 non-null  object \n",
      " 20  MapSheetNo100k                38112 non-null  float64\n",
      " 21  MapSheetName100k              38112 non-null  object \n",
      " 22  MapSheetNo250k                38117 non-null  object \n",
      " 23  MapSheetName250k              38117 non-null  object \n",
      " 24  LGAName                       41566 non-null  object \n",
      " 25  DevelopmentRegion             41555 non-null  object \n",
      " 26  DistrictNo                    41561 non-null  float64\n",
      " 27  DistrictName                  41561 non-null  object \n",
      " 28  TectonicUnit                  41553 non-null  object \n",
      " 29  EILFlag                       41872 non-null  object \n",
      " 30  EISFlag                       41872 non-null  object \n",
      " 31  GBRMFlag                      41872 non-null  object \n",
      "dtypes: float64(7), object(25)\n",
      "memory usage: 10.2+ MB\n"
     ]
    }
   ],
   "source": [
    "data.info() \n",
    "# Посмотрим на типы столбцов, большинство из них object, что подразумевает много категориальных признаков "
   ]
  },
  {
   "cell_type": "code",
   "execution_count": 9,
   "metadata": {},
   "outputs": [
    {
     "data": {
      "text/plain": [
       "SiteCode                           0\n",
       "ShortTitle                         0\n",
       "Title                              0\n",
       "Type                               0\n",
       "SubType                            0\n",
       "Stage                              0\n",
       "Confidentiality                    0\n",
       "ProjectCode                     6667\n",
       "ProjectTitle                    6667\n",
       "Latitude                         292\n",
       "Longitude                        292\n",
       "MgaZone                          292\n",
       "Easting                          292\n",
       "Northing                         292\n",
       "GroupSite                          0\n",
       "Commodities                       45\n",
       "CommodityGroups                    4\n",
       "TargetCommodityGroups              7\n",
       "MineralizationStyle             3634\n",
       "SecondaryMineralizationStyle    3690\n",
       "MapSheetNo100k                  3760\n",
       "MapSheetName100k                3760\n",
       "MapSheetNo250k                  3755\n",
       "MapSheetName250k                3755\n",
       "LGAName                          306\n",
       "DevelopmentRegion                317\n",
       "DistrictNo                       311\n",
       "DistrictName                     311\n",
       "TectonicUnit                     319\n",
       "EILFlag                            0\n",
       "EISFlag                            0\n",
       "GBRMFlag                           0\n",
       "dtype: int64"
      ]
     },
     "execution_count": 9,
     "metadata": {},
     "output_type": "execute_result"
    }
   ],
   "source": [
    "# Так же видим, что некоторые строки содержат пустые значения для ряда признаков\n",
    "data.isnull().sum()"
   ]
  },
  {
   "cell_type": "code",
   "execution_count": 10,
   "metadata": {
    "scrolled": true
   },
   "outputs": [
    {
     "data": {
      "text/plain": [
       "Precious metal                  21132\n",
       "Base metal                       3509\n",
       "Steel alloy metal                3275\n",
       "Construction material            3192\n",
       "Iron                             3173\n",
       "Industrial mineral               2278\n",
       "Speciality metal                 2194\n",
       "Precious mineral                 1734\n",
       "Energy                            931\n",
       "Other (MINEDEX non-minerals)      231\n",
       "Alumina                           219\n",
       "Name: CommodityGroups, dtype: int64"
      ]
     },
     "execution_count": 10,
     "metadata": {},
     "output_type": "execute_result"
    }
   ],
   "source": [
    "data.CommodityGroups.value_counts() # Посмотрим на количество разных значений признака типов добываемого сырья "
   ]
  },
  {
   "cell_type": "code",
   "execution_count": 11,
   "metadata": {},
   "outputs": [
    {
     "data": {
      "text/plain": [
       "30"
      ]
     },
     "execution_count": 11,
     "metadata": {},
     "output_type": "execute_result"
    }
   ],
   "source": [
    "data[\"MineralizationStyle\"].nunique() # посмотрим на количество уникальных значений целевой метки "
   ]
  },
  {
   "cell_type": "code",
   "execution_count": 12,
   "metadata": {},
   "outputs": [],
   "source": [
    "# имеем 30 разных классов "
   ]
  },
  {
   "cell_type": "code",
   "execution_count": 13,
   "metadata": {},
   "outputs": [
    {
     "data": {
      "text/plain": [
       "3634"
      ]
     },
     "execution_count": 13,
     "metadata": {},
     "output_type": "execute_result"
    }
   ],
   "source": [
    "data[\"MineralizationStyle\"].isna().sum() # Количество строк не имеющих целевой метки. От них нам придется избавиться "
   ]
  },
  {
   "cell_type": "code",
   "execution_count": 14,
   "metadata": {},
   "outputs": [
    {
     "data": {
      "text/plain": [
       "Unknown/Unassigned                                                   0.352320\n",
       "Vein and hydrothermal - undivided                                    0.273550\n",
       "Regolith - alluvial to beach placers                                 0.064622\n",
       "Regolith - residual and supergene                                    0.045688\n",
       "Sedimentary - banded iron-formation (supergene enriched)             0.037633\n",
       "Stratabound sedimentary - clastic-hosted                             0.027826\n",
       "Regolith - residual to eluvial placers                               0.023066\n",
       "Pegmatitic                                                           0.021105\n",
       "Stratabound sedimentary - carbonate-hosted                           0.017836\n",
       "Orthomagmatic mafic and ultramafic - layered mafic intrusions        0.015691\n",
       "Regolith - lacustrine                                                0.012344\n",
       "Stratabound volcanic and sedimentary - volcanic-hosted sulfide       0.012161\n",
       "Sedimentary - banded iron-formation (taconite)                       0.012108\n",
       "Orthomagmatic mafic and ultramafic - komatiitic or dunitic           0.011716\n",
       "Regolith - eolianite                                                 0.009938\n",
       "Stratabound volcanic and sedimentary - undivided                     0.008159\n",
       "Sedimentary - basin                                                  0.008081\n",
       "Orthomagmatic mafic and ultramafic - undivided                       0.008081\n",
       "Stratabound sedimentary - undivided                                  0.006512\n",
       "Kimberlite and lamproite intrusions                                  0.006303\n",
       "Regolith - calcrete                                                  0.006146\n",
       "Sedimentary - undivided                                              0.004315\n",
       "Sedimentary - granular iron formation                                0.003740\n",
       "Stratabound volcanic and sedimentary - sedimentary-hosted sulfide    0.002641\n",
       "Vein and hydrothermal - unconformity                                 0.002406\n",
       "Skarn                                                                0.002223\n",
       "Carbonatite and alkaline igneous intrusions                          0.001621\n",
       "Disseminated and stockwork in plutonic intrusions                    0.001098\n",
       "Stratabound volcanic and sedimentary - volcanic oxide                0.000863\n",
       "Greisen                                                              0.000209\n",
       "Name: MineralizationStyle, dtype: float64"
      ]
     },
     "execution_count": 14,
     "metadata": {},
     "output_type": "execute_result"
    }
   ],
   "source": [
    "data.MineralizationStyle.value_counts(normalize = True) \n",
    "# Посмотрим на распределение целевой метки в прцоентном отношении "
   ]
  },
  {
   "cell_type": "code",
   "execution_count": 15,
   "metadata": {},
   "outputs": [],
   "source": [
    "# Многие целевые метки имеют значение \"Unknown/Unassigned\", их так же придется опустить \n",
    "# некоторые классы очень малочисленные, например Скарн. \n",
    "# Разумным решением будет выделить основные многочисленные классы, остальные классы вывести в отдельный класс \"Others\" \n",
    "\n",
    "list_of_others = data.MineralizationStyle.value_counts(normalize = True).keys()[-10 : ]\n",
    "# В списке лежат 10 самых редко встречающихся типов минерализации "
   ]
  },
  {
   "cell_type": "code",
   "execution_count": 16,
   "metadata": {
    "scrolled": false
   },
   "outputs": [
    {
     "data": {
      "text/plain": [
       "Unknown/Unassigned                                                   9860\n",
       "Vein and hydrothermal - undivided                                    8315\n",
       "Regolith - alluvial to beach placers                                  404\n",
       "Regolith - residual to eluvial placers                                344\n",
       "Regolith - residual and supergene                                     259\n",
       "Orthomagmatic mafic and ultramafic - layered mafic intrusions          90\n",
       "Stratabound sedimentary - clastic-hosted                               68\n",
       "Stratabound volcanic and sedimentary - volcanic-hosted sulfide         57\n",
       "Stratabound volcanic and sedimentary - undivided                       55\n",
       "Vein and hydrothermal - unconformity                                   52\n",
       "Stratabound sedimentary - undivided                                    35\n",
       "Orthomagmatic mafic and ultramafic - undivided                         22\n",
       "Stratabound volcanic and sedimentary - sedimentary-hosted sulfide      17\n",
       "Orthomagmatic mafic and ultramafic - komatiitic or dunitic             11\n",
       "Stratabound volcanic and sedimentary - volcanic oxide                   7\n",
       "Skarn                                                                   5\n",
       "Stratabound sedimentary - carbonate-hosted                              4\n",
       "Disseminated and stockwork in plutonic intrusions                       4\n",
       "Sedimentary - undivided                                                 3\n",
       "Pegmatitic                                                              3\n",
       "Carbonatite and alkaline igneous intrusions                             2\n",
       "Sedimentary - banded iron-formation (supergene enriched)                1\n",
       "Name: MineralizationStyle, dtype: int64"
      ]
     },
     "execution_count": 16,
     "metadata": {},
     "output_type": "execute_result"
    }
   ],
   "source": [
    "data[data[\"CommodityGroups\"] == \"Precious metal\"][\"MineralizationStyle\"].value_counts() \n",
    "# Посмотрим целевую метку для самого распространенного типа металлов"
   ]
  },
  {
   "cell_type": "code",
   "execution_count": 17,
   "metadata": {
    "scrolled": true
   },
   "outputs": [
    {
     "data": {
      "text/plain": [
       "Precious metal                  11272\n",
       "Iron                             3160\n",
       "Steel alloy metal                3116\n",
       "Base metal                       3114\n",
       "Industrial mineral               1993\n",
       "Speciality metal                 1839\n",
       "Construction material            1293\n",
       "Precious mineral                 1257\n",
       "Energy                            922\n",
       "Other (MINEDEX non-minerals)      222\n",
       "Alumina                           209\n",
       "Name: CommodityGroups, dtype: int64"
      ]
     },
     "execution_count": 17,
     "metadata": {},
     "output_type": "execute_result"
    }
   ],
   "source": [
    "data[data[\"MineralizationStyle\"] != \"Unknown/Unassigned\"][\"CommodityGroups\"].value_counts()\n",
    "# Распределение типа металлов по минерализации которых у нас есть информация "
   ]
  },
  {
   "cell_type": "code",
   "execution_count": 18,
   "metadata": {},
   "outputs": [],
   "source": [
    "data.drop(['SiteCode', 'ShortTitle', 'Title'], inplace = True, axis = 1) # Удалим ненужные признаки с названиями "
   ]
  },
  {
   "cell_type": "code",
   "execution_count": 19,
   "metadata": {},
   "outputs": [
    {
     "data": {
      "text/html": [
       "<div>\n",
       "<style scoped>\n",
       "    .dataframe tbody tr th:only-of-type {\n",
       "        vertical-align: middle;\n",
       "    }\n",
       "\n",
       "    .dataframe tbody tr th {\n",
       "        vertical-align: top;\n",
       "    }\n",
       "\n",
       "    .dataframe thead th {\n",
       "        text-align: right;\n",
       "    }\n",
       "</style>\n",
       "<table border=\"1\" class=\"dataframe\">\n",
       "  <thead>\n",
       "    <tr style=\"text-align: right;\">\n",
       "      <th></th>\n",
       "      <th>Type</th>\n",
       "      <th>SubType</th>\n",
       "      <th>Stage</th>\n",
       "      <th>Confidentiality</th>\n",
       "      <th>ProjectCode</th>\n",
       "      <th>ProjectTitle</th>\n",
       "      <th>Latitude</th>\n",
       "      <th>Longitude</th>\n",
       "      <th>MgaZone</th>\n",
       "      <th>Easting</th>\n",
       "      <th>Northing</th>\n",
       "      <th>GroupSite</th>\n",
       "      <th>Commodities</th>\n",
       "      <th>CommodityGroups</th>\n",
       "      <th>TargetCommodityGroups</th>\n",
       "      <th>MineralizationStyle</th>\n",
       "      <th>SecondaryMineralizationStyle</th>\n",
       "      <th>MapSheetNo100k</th>\n",
       "      <th>MapSheetName100k</th>\n",
       "      <th>MapSheetNo250k</th>\n",
       "      <th>MapSheetName250k</th>\n",
       "      <th>LGAName</th>\n",
       "      <th>DevelopmentRegion</th>\n",
       "      <th>DistrictNo</th>\n",
       "      <th>DistrictName</th>\n",
       "      <th>TectonicUnit</th>\n",
       "      <th>EILFlag</th>\n",
       "      <th>EISFlag</th>\n",
       "      <th>GBRMFlag</th>\n",
       "    </tr>\n",
       "  </thead>\n",
       "  <tbody>\n",
       "    <tr>\n",
       "      <th>0</th>\n",
       "      <td>Mine</td>\n",
       "      <td>Openpit</td>\n",
       "      <td>Care and Maintenance</td>\n",
       "      <td>Public</td>\n",
       "      <td>J00238</td>\n",
       "      <td>Laverton - Barnicoat - Karridale - Merolia / F...</td>\n",
       "      <td>-28.565092</td>\n",
       "      <td>122.480745</td>\n",
       "      <td>51.0</td>\n",
       "      <td>449214.0</td>\n",
       "      <td>6840087.0</td>\n",
       "      <td>No</td>\n",
       "      <td>Au, Ag</td>\n",
       "      <td>Precious metal</td>\n",
       "      <td>GOLD</td>\n",
       "      <td>Vein and hydrothermal - undivided</td>\n",
       "      <td>Unknown/Unassigned</td>\n",
       "      <td>3340.0</td>\n",
       "      <td>LAVERTON</td>\n",
       "      <td>SH51-02</td>\n",
       "      <td>LAVERTON</td>\n",
       "      <td>LAVERTON, SHIRE OF</td>\n",
       "      <td>GOLDFIELDS-ESPERANCE, Development Region</td>\n",
       "      <td>38.0</td>\n",
       "      <td>MT. MARGARET</td>\n",
       "      <td>Eastern Goldfields Superterrane</td>\n",
       "      <td>No</td>\n",
       "      <td>No</td>\n",
       "      <td>No</td>\n",
       "    </tr>\n",
       "    <tr>\n",
       "      <th>1</th>\n",
       "      <td>Deposit</td>\n",
       "      <td>Unspecified</td>\n",
       "      <td>Undeveloped</td>\n",
       "      <td>Public</td>\n",
       "      <td>J00002</td>\n",
       "      <td>Albury Heath</td>\n",
       "      <td>-26.787370</td>\n",
       "      <td>118.574407</td>\n",
       "      <td>50.0</td>\n",
       "      <td>656510.0</td>\n",
       "      <td>7036146.0</td>\n",
       "      <td>No</td>\n",
       "      <td>Au, Ag</td>\n",
       "      <td>Precious metal</td>\n",
       "      <td>GOLD</td>\n",
       "      <td>Vein and hydrothermal - undivided</td>\n",
       "      <td>Au in shears or faults</td>\n",
       "      <td>2644.0</td>\n",
       "      <td>GABANINTHA</td>\n",
       "      <td>SG50-12</td>\n",
       "      <td>GLENGARRY</td>\n",
       "      <td>MEEKATHARRA, SHIRE OF</td>\n",
       "      <td>MID-WEST, Development Region</td>\n",
       "      <td>51.0</td>\n",
       "      <td>MEEKATHARRA</td>\n",
       "      <td>Youanmi Terrane</td>\n",
       "      <td>No</td>\n",
       "      <td>No</td>\n",
       "      <td>No</td>\n",
       "    </tr>\n",
       "    <tr>\n",
       "      <th>2</th>\n",
       "      <td>Mine</td>\n",
       "      <td>Openpit</td>\n",
       "      <td>Shut</td>\n",
       "      <td>Public</td>\n",
       "      <td>J01011</td>\n",
       "      <td>Menzies</td>\n",
       "      <td>-29.690630</td>\n",
       "      <td>121.012802</td>\n",
       "      <td>51.0</td>\n",
       "      <td>307727.0</td>\n",
       "      <td>6713842.0</td>\n",
       "      <td>No</td>\n",
       "      <td>Au, Ag</td>\n",
       "      <td>Precious metal</td>\n",
       "      <td>GOLD</td>\n",
       "      <td>Vein and hydrothermal - undivided</td>\n",
       "      <td>Au in shears or faults</td>\n",
       "      <td>3138.0</td>\n",
       "      <td>MENZIES</td>\n",
       "      <td>SH51-05</td>\n",
       "      <td>MENZIES</td>\n",
       "      <td>MENZIES, SHIRE OF</td>\n",
       "      <td>GOLDFIELDS-ESPERANCE, Development Region</td>\n",
       "      <td>29.0</td>\n",
       "      <td>MENZIES</td>\n",
       "      <td>Eastern Goldfields Superterrane</td>\n",
       "      <td>No</td>\n",
       "      <td>No</td>\n",
       "      <td>No</td>\n",
       "    </tr>\n",
       "    <tr>\n",
       "      <th>3</th>\n",
       "      <td>Mine</td>\n",
       "      <td>Openpit</td>\n",
       "      <td>Shut</td>\n",
       "      <td>Public</td>\n",
       "      <td>J05474</td>\n",
       "      <td>Baden Powell / Horizon</td>\n",
       "      <td>-30.239151</td>\n",
       "      <td>121.222783</td>\n",
       "      <td>51.0</td>\n",
       "      <td>328990.0</td>\n",
       "      <td>6653378.0</td>\n",
       "      <td>No</td>\n",
       "      <td>Au, Ag</td>\n",
       "      <td>Precious metal</td>\n",
       "      <td>GOLD</td>\n",
       "      <td>Unknown/Unassigned</td>\n",
       "      <td>Porphyry Au</td>\n",
       "      <td>3137.0</td>\n",
       "      <td>BARDOC</td>\n",
       "      <td>SH51-09</td>\n",
       "      <td>KALGOORLIE</td>\n",
       "      <td>KALGOORLIE-BOULDER, CITY OF</td>\n",
       "      <td>GOLDFIELDS-ESPERANCE, Development Region</td>\n",
       "      <td>24.0</td>\n",
       "      <td>BROAD ARROW M.F.</td>\n",
       "      <td>Eastern Goldfields Superterrane</td>\n",
       "      <td>No</td>\n",
       "      <td>No</td>\n",
       "      <td>No</td>\n",
       "    </tr>\n",
       "    <tr>\n",
       "      <th>4</th>\n",
       "      <td>Mine</td>\n",
       "      <td>Openpit</td>\n",
       "      <td>Shut</td>\n",
       "      <td>Public</td>\n",
       "      <td>J00007</td>\n",
       "      <td>Katanning Gold</td>\n",
       "      <td>-33.574907</td>\n",
       "      <td>117.920153</td>\n",
       "      <td>50.0</td>\n",
       "      <td>585397.0</td>\n",
       "      <td>6284597.0</td>\n",
       "      <td>No</td>\n",
       "      <td>Au, Ag</td>\n",
       "      <td>Precious metal</td>\n",
       "      <td>GOLD</td>\n",
       "      <td>Unknown/Unassigned</td>\n",
       "      <td>Au in BIF</td>\n",
       "      <td>2430.0</td>\n",
       "      <td>KATANNING</td>\n",
       "      <td>SI50-07</td>\n",
       "      <td>DUMBLEYUNG</td>\n",
       "      <td>KATANNING, SHIRE OF</td>\n",
       "      <td>GREAT SOUTHERN, Development Region</td>\n",
       "      <td>70.0</td>\n",
       "      <td>SOUTH WEST M.F.</td>\n",
       "      <td>Yilgarn Craton granites</td>\n",
       "      <td>No</td>\n",
       "      <td>No</td>\n",
       "      <td>No</td>\n",
       "    </tr>\n",
       "  </tbody>\n",
       "</table>\n",
       "</div>"
      ],
      "text/plain": [
       "      Type      SubType                 Stage Confidentiality ProjectCode  \\\n",
       "0     Mine      Openpit  Care and Maintenance          Public      J00238   \n",
       "1  Deposit  Unspecified           Undeveloped          Public      J00002   \n",
       "2     Mine      Openpit                  Shut          Public      J01011   \n",
       "3     Mine      Openpit                  Shut          Public      J05474   \n",
       "4     Mine      Openpit                  Shut          Public      J00007   \n",
       "\n",
       "                                        ProjectTitle   Latitude   Longitude  \\\n",
       "0  Laverton - Barnicoat - Karridale - Merolia / F... -28.565092  122.480745   \n",
       "1                                       Albury Heath -26.787370  118.574407   \n",
       "2                                            Menzies -29.690630  121.012802   \n",
       "3                             Baden Powell / Horizon -30.239151  121.222783   \n",
       "4                                     Katanning Gold -33.574907  117.920153   \n",
       "\n",
       "   MgaZone   Easting   Northing GroupSite Commodities CommodityGroups  \\\n",
       "0     51.0  449214.0  6840087.0        No      Au, Ag  Precious metal   \n",
       "1     50.0  656510.0  7036146.0        No      Au, Ag  Precious metal   \n",
       "2     51.0  307727.0  6713842.0        No      Au, Ag  Precious metal   \n",
       "3     51.0  328990.0  6653378.0        No      Au, Ag  Precious metal   \n",
       "4     50.0  585397.0  6284597.0        No      Au, Ag  Precious metal   \n",
       "\n",
       "  TargetCommodityGroups                MineralizationStyle  \\\n",
       "0                  GOLD  Vein and hydrothermal - undivided   \n",
       "1                  GOLD  Vein and hydrothermal - undivided   \n",
       "2                  GOLD  Vein and hydrothermal - undivided   \n",
       "3                  GOLD                 Unknown/Unassigned   \n",
       "4                  GOLD                 Unknown/Unassigned   \n",
       "\n",
       "  SecondaryMineralizationStyle  MapSheetNo100k MapSheetName100k  \\\n",
       "0           Unknown/Unassigned          3340.0         LAVERTON   \n",
       "1       Au in shears or faults          2644.0       GABANINTHA   \n",
       "2       Au in shears or faults          3138.0          MENZIES   \n",
       "3                  Porphyry Au          3137.0           BARDOC   \n",
       "4                    Au in BIF          2430.0        KATANNING   \n",
       "\n",
       "  MapSheetNo250k MapSheetName250k                      LGAName  \\\n",
       "0        SH51-02         LAVERTON           LAVERTON, SHIRE OF   \n",
       "1        SG50-12        GLENGARRY        MEEKATHARRA, SHIRE OF   \n",
       "2        SH51-05          MENZIES            MENZIES, SHIRE OF   \n",
       "3        SH51-09       KALGOORLIE  KALGOORLIE-BOULDER, CITY OF   \n",
       "4        SI50-07       DUMBLEYUNG          KATANNING, SHIRE OF   \n",
       "\n",
       "                          DevelopmentRegion  DistrictNo          DistrictName  \\\n",
       "0  GOLDFIELDS-ESPERANCE, Development Region        38.0  MT. MARGARET           \n",
       "1              MID-WEST, Development Region        51.0  MEEKATHARRA            \n",
       "2  GOLDFIELDS-ESPERANCE, Development Region        29.0  MENZIES                \n",
       "3  GOLDFIELDS-ESPERANCE, Development Region        24.0  BROAD ARROW M.F.       \n",
       "4        GREAT SOUTHERN, Development Region        70.0  SOUTH WEST M.F.        \n",
       "\n",
       "                      TectonicUnit EILFlag EISFlag GBRMFlag  \n",
       "0  Eastern Goldfields Superterrane      No      No       No  \n",
       "1                  Youanmi Terrane      No      No       No  \n",
       "2  Eastern Goldfields Superterrane      No      No       No  \n",
       "3  Eastern Goldfields Superterrane      No      No       No  \n",
       "4          Yilgarn Craton granites      No      No       No  "
      ]
     },
     "execution_count": 19,
     "metadata": {},
     "output_type": "execute_result"
    }
   ],
   "source": [
    "data.head()"
   ]
  },
  {
   "cell_type": "code",
   "execution_count": 20,
   "metadata": {},
   "outputs": [
    {
     "data": {
      "text/plain": [
       "Public    41872\n",
       "Name: Confidentiality, dtype: int64"
      ]
     },
     "execution_count": 20,
     "metadata": {},
     "output_type": "execute_result"
    }
   ],
   "source": [
    "data.Confidentiality.value_counts() # Все публичные "
   ]
  },
  {
   "cell_type": "code",
   "execution_count": 21,
   "metadata": {},
   "outputs": [],
   "source": [
    "# Координаты вряд ли помогут нам в определении типа минерализации, \n",
    "# будет лучше использовать другой географический признак(DevelopmentRegion и DisctrictName)\n",
    "col_to_drop = [\"Confidentiality\", \"ProjectCode\", \"ProjectTitle\", \n",
    "               \"Latitude\", \"Longitude\", \"MgaZone\", \"Easting\", \"Northing\", \"GroupSite\", \n",
    "              \"MapSheetNo100k\", \"MapSheetName100k\", \"MapSheetNo250k\", \"MapSheetName250k\", \"DistrictNo\", \n",
    "              \"EILFlag\", \"EISFlag\", \"GBRMFlag\",\"LGAName\"]\n",
    "data.drop(col_to_drop, axis = 1, inplace = True)"
   ]
  },
  {
   "cell_type": "code",
   "execution_count": 22,
   "metadata": {},
   "outputs": [
    {
     "data": {
      "text/html": [
       "<div>\n",
       "<style scoped>\n",
       "    .dataframe tbody tr th:only-of-type {\n",
       "        vertical-align: middle;\n",
       "    }\n",
       "\n",
       "    .dataframe tbody tr th {\n",
       "        vertical-align: top;\n",
       "    }\n",
       "\n",
       "    .dataframe thead th {\n",
       "        text-align: right;\n",
       "    }\n",
       "</style>\n",
       "<table border=\"1\" class=\"dataframe\">\n",
       "  <thead>\n",
       "    <tr style=\"text-align: right;\">\n",
       "      <th></th>\n",
       "      <th>Type</th>\n",
       "      <th>SubType</th>\n",
       "      <th>Stage</th>\n",
       "      <th>Commodities</th>\n",
       "      <th>CommodityGroups</th>\n",
       "      <th>TargetCommodityGroups</th>\n",
       "      <th>MineralizationStyle</th>\n",
       "      <th>SecondaryMineralizationStyle</th>\n",
       "      <th>DevelopmentRegion</th>\n",
       "      <th>DistrictName</th>\n",
       "      <th>TectonicUnit</th>\n",
       "    </tr>\n",
       "  </thead>\n",
       "  <tbody>\n",
       "    <tr>\n",
       "      <th>0</th>\n",
       "      <td>Mine</td>\n",
       "      <td>Openpit</td>\n",
       "      <td>Care and Maintenance</td>\n",
       "      <td>Au, Ag</td>\n",
       "      <td>Precious metal</td>\n",
       "      <td>GOLD</td>\n",
       "      <td>Vein and hydrothermal - undivided</td>\n",
       "      <td>Unknown/Unassigned</td>\n",
       "      <td>GOLDFIELDS-ESPERANCE, Development Region</td>\n",
       "      <td>MT. MARGARET</td>\n",
       "      <td>Eastern Goldfields Superterrane</td>\n",
       "    </tr>\n",
       "    <tr>\n",
       "      <th>1</th>\n",
       "      <td>Deposit</td>\n",
       "      <td>Unspecified</td>\n",
       "      <td>Undeveloped</td>\n",
       "      <td>Au, Ag</td>\n",
       "      <td>Precious metal</td>\n",
       "      <td>GOLD</td>\n",
       "      <td>Vein and hydrothermal - undivided</td>\n",
       "      <td>Au in shears or faults</td>\n",
       "      <td>MID-WEST, Development Region</td>\n",
       "      <td>MEEKATHARRA</td>\n",
       "      <td>Youanmi Terrane</td>\n",
       "    </tr>\n",
       "    <tr>\n",
       "      <th>2</th>\n",
       "      <td>Mine</td>\n",
       "      <td>Openpit</td>\n",
       "      <td>Shut</td>\n",
       "      <td>Au, Ag</td>\n",
       "      <td>Precious metal</td>\n",
       "      <td>GOLD</td>\n",
       "      <td>Vein and hydrothermal - undivided</td>\n",
       "      <td>Au in shears or faults</td>\n",
       "      <td>GOLDFIELDS-ESPERANCE, Development Region</td>\n",
       "      <td>MENZIES</td>\n",
       "      <td>Eastern Goldfields Superterrane</td>\n",
       "    </tr>\n",
       "    <tr>\n",
       "      <th>3</th>\n",
       "      <td>Mine</td>\n",
       "      <td>Openpit</td>\n",
       "      <td>Shut</td>\n",
       "      <td>Au, Ag</td>\n",
       "      <td>Precious metal</td>\n",
       "      <td>GOLD</td>\n",
       "      <td>Unknown/Unassigned</td>\n",
       "      <td>Porphyry Au</td>\n",
       "      <td>GOLDFIELDS-ESPERANCE, Development Region</td>\n",
       "      <td>BROAD ARROW M.F.</td>\n",
       "      <td>Eastern Goldfields Superterrane</td>\n",
       "    </tr>\n",
       "    <tr>\n",
       "      <th>4</th>\n",
       "      <td>Mine</td>\n",
       "      <td>Openpit</td>\n",
       "      <td>Shut</td>\n",
       "      <td>Au, Ag</td>\n",
       "      <td>Precious metal</td>\n",
       "      <td>GOLD</td>\n",
       "      <td>Unknown/Unassigned</td>\n",
       "      <td>Au in BIF</td>\n",
       "      <td>GREAT SOUTHERN, Development Region</td>\n",
       "      <td>SOUTH WEST M.F.</td>\n",
       "      <td>Yilgarn Craton granites</td>\n",
       "    </tr>\n",
       "  </tbody>\n",
       "</table>\n",
       "</div>"
      ],
      "text/plain": [
       "      Type      SubType                 Stage Commodities CommodityGroups  \\\n",
       "0     Mine      Openpit  Care and Maintenance      Au, Ag  Precious metal   \n",
       "1  Deposit  Unspecified           Undeveloped      Au, Ag  Precious metal   \n",
       "2     Mine      Openpit                  Shut      Au, Ag  Precious metal   \n",
       "3     Mine      Openpit                  Shut      Au, Ag  Precious metal   \n",
       "4     Mine      Openpit                  Shut      Au, Ag  Precious metal   \n",
       "\n",
       "  TargetCommodityGroups                MineralizationStyle  \\\n",
       "0                  GOLD  Vein and hydrothermal - undivided   \n",
       "1                  GOLD  Vein and hydrothermal - undivided   \n",
       "2                  GOLD  Vein and hydrothermal - undivided   \n",
       "3                  GOLD                 Unknown/Unassigned   \n",
       "4                  GOLD                 Unknown/Unassigned   \n",
       "\n",
       "  SecondaryMineralizationStyle                         DevelopmentRegion  \\\n",
       "0           Unknown/Unassigned  GOLDFIELDS-ESPERANCE, Development Region   \n",
       "1       Au in shears or faults              MID-WEST, Development Region   \n",
       "2       Au in shears or faults  GOLDFIELDS-ESPERANCE, Development Region   \n",
       "3                  Porphyry Au  GOLDFIELDS-ESPERANCE, Development Region   \n",
       "4                    Au in BIF        GREAT SOUTHERN, Development Region   \n",
       "\n",
       "           DistrictName                     TectonicUnit  \n",
       "0  MT. MARGARET          Eastern Goldfields Superterrane  \n",
       "1  MEEKATHARRA                           Youanmi Terrane  \n",
       "2  MENZIES               Eastern Goldfields Superterrane  \n",
       "3  BROAD ARROW M.F.      Eastern Goldfields Superterrane  \n",
       "4  SOUTH WEST M.F.               Yilgarn Craton granites  "
      ]
     },
     "execution_count": 22,
     "metadata": {},
     "output_type": "execute_result"
    }
   ],
   "source": [
    "data.head()"
   ]
  },
  {
   "cell_type": "code",
   "execution_count": 23,
   "metadata": {},
   "outputs": [
    {
     "data": {
      "text/plain": [
       "GOLDFIELDS-ESPERANCE, Development Region    14124\n",
       "MID-WEST, Development Region                 9021\n",
       "PILBARA, Development Region                  7699\n",
       "KIMBERLEY, Development Region                4039\n",
       "WHEATBELT, Development Region                2893\n",
       "GASCOYNE, Development Region                 1307\n",
       "SOUTH WEST, Development Region               1279\n",
       "METRO                                         516\n",
       "PEEL, Development Region                      358\n",
       "GREAT SOUTHERN, Development Region            319\n",
       "Name: DevelopmentRegion, dtype: int64"
      ]
     },
     "execution_count": 23,
     "metadata": {},
     "output_type": "execute_result"
    }
   ],
   "source": [
    "data.DevelopmentRegion.value_counts() \n",
    "# Название региона, где находится место разработки. Будем использовать этот категориальный признак"
   ]
  },
  {
   "cell_type": "code",
   "execution_count": 24,
   "metadata": {},
   "outputs": [],
   "source": [
    "data.MineralizationStyle.replace({\"Unknown/Unassigned\" : np.nan}, inplace = True) \n",
    "# Заменим неизвестные типы минерализации на None"
   ]
  },
  {
   "cell_type": "code",
   "execution_count": 25,
   "metadata": {},
   "outputs": [
    {
     "data": {
      "text/html": [
       "<div>\n",
       "<style scoped>\n",
       "    .dataframe tbody tr th:only-of-type {\n",
       "        vertical-align: middle;\n",
       "    }\n",
       "\n",
       "    .dataframe tbody tr th {\n",
       "        vertical-align: top;\n",
       "    }\n",
       "\n",
       "    .dataframe thead th {\n",
       "        text-align: right;\n",
       "    }\n",
       "</style>\n",
       "<table border=\"1\" class=\"dataframe\">\n",
       "  <thead>\n",
       "    <tr style=\"text-align: right;\">\n",
       "      <th></th>\n",
       "      <th>Type</th>\n",
       "      <th>SubType</th>\n",
       "      <th>Stage</th>\n",
       "      <th>Commodities</th>\n",
       "      <th>CommodityGroups</th>\n",
       "      <th>TargetCommodityGroups</th>\n",
       "      <th>MineralizationStyle</th>\n",
       "      <th>SecondaryMineralizationStyle</th>\n",
       "      <th>DevelopmentRegion</th>\n",
       "      <th>DistrictName</th>\n",
       "      <th>TectonicUnit</th>\n",
       "    </tr>\n",
       "  </thead>\n",
       "  <tbody>\n",
       "    <tr>\n",
       "      <th>0</th>\n",
       "      <td>Mine</td>\n",
       "      <td>Openpit</td>\n",
       "      <td>Care and Maintenance</td>\n",
       "      <td>Au, Ag</td>\n",
       "      <td>Precious metal</td>\n",
       "      <td>GOLD</td>\n",
       "      <td>Vein and hydrothermal - undivided</td>\n",
       "      <td>Unknown/Unassigned</td>\n",
       "      <td>GOLDFIELDS-ESPERANCE, Development Region</td>\n",
       "      <td>MT. MARGARET</td>\n",
       "      <td>Eastern Goldfields Superterrane</td>\n",
       "    </tr>\n",
       "    <tr>\n",
       "      <th>1</th>\n",
       "      <td>Deposit</td>\n",
       "      <td>Unspecified</td>\n",
       "      <td>Undeveloped</td>\n",
       "      <td>Au, Ag</td>\n",
       "      <td>Precious metal</td>\n",
       "      <td>GOLD</td>\n",
       "      <td>Vein and hydrothermal - undivided</td>\n",
       "      <td>Au in shears or faults</td>\n",
       "      <td>MID-WEST, Development Region</td>\n",
       "      <td>MEEKATHARRA</td>\n",
       "      <td>Youanmi Terrane</td>\n",
       "    </tr>\n",
       "    <tr>\n",
       "      <th>2</th>\n",
       "      <td>Mine</td>\n",
       "      <td>Openpit</td>\n",
       "      <td>Shut</td>\n",
       "      <td>Au, Ag</td>\n",
       "      <td>Precious metal</td>\n",
       "      <td>GOLD</td>\n",
       "      <td>Vein and hydrothermal - undivided</td>\n",
       "      <td>Au in shears or faults</td>\n",
       "      <td>GOLDFIELDS-ESPERANCE, Development Region</td>\n",
       "      <td>MENZIES</td>\n",
       "      <td>Eastern Goldfields Superterrane</td>\n",
       "    </tr>\n",
       "    <tr>\n",
       "      <th>3</th>\n",
       "      <td>Mine</td>\n",
       "      <td>Openpit</td>\n",
       "      <td>Shut</td>\n",
       "      <td>Au, Ag</td>\n",
       "      <td>Precious metal</td>\n",
       "      <td>GOLD</td>\n",
       "      <td>NaN</td>\n",
       "      <td>Porphyry Au</td>\n",
       "      <td>GOLDFIELDS-ESPERANCE, Development Region</td>\n",
       "      <td>BROAD ARROW M.F.</td>\n",
       "      <td>Eastern Goldfields Superterrane</td>\n",
       "    </tr>\n",
       "    <tr>\n",
       "      <th>4</th>\n",
       "      <td>Mine</td>\n",
       "      <td>Openpit</td>\n",
       "      <td>Shut</td>\n",
       "      <td>Au, Ag</td>\n",
       "      <td>Precious metal</td>\n",
       "      <td>GOLD</td>\n",
       "      <td>NaN</td>\n",
       "      <td>Au in BIF</td>\n",
       "      <td>GREAT SOUTHERN, Development Region</td>\n",
       "      <td>SOUTH WEST M.F.</td>\n",
       "      <td>Yilgarn Craton granites</td>\n",
       "    </tr>\n",
       "  </tbody>\n",
       "</table>\n",
       "</div>"
      ],
      "text/plain": [
       "      Type      SubType                 Stage Commodities CommodityGroups  \\\n",
       "0     Mine      Openpit  Care and Maintenance      Au, Ag  Precious metal   \n",
       "1  Deposit  Unspecified           Undeveloped      Au, Ag  Precious metal   \n",
       "2     Mine      Openpit                  Shut      Au, Ag  Precious metal   \n",
       "3     Mine      Openpit                  Shut      Au, Ag  Precious metal   \n",
       "4     Mine      Openpit                  Shut      Au, Ag  Precious metal   \n",
       "\n",
       "  TargetCommodityGroups                MineralizationStyle  \\\n",
       "0                  GOLD  Vein and hydrothermal - undivided   \n",
       "1                  GOLD  Vein and hydrothermal - undivided   \n",
       "2                  GOLD  Vein and hydrothermal - undivided   \n",
       "3                  GOLD                                NaN   \n",
       "4                  GOLD                                NaN   \n",
       "\n",
       "  SecondaryMineralizationStyle                         DevelopmentRegion  \\\n",
       "0           Unknown/Unassigned  GOLDFIELDS-ESPERANCE, Development Region   \n",
       "1       Au in shears or faults              MID-WEST, Development Region   \n",
       "2       Au in shears or faults  GOLDFIELDS-ESPERANCE, Development Region   \n",
       "3                  Porphyry Au  GOLDFIELDS-ESPERANCE, Development Region   \n",
       "4                    Au in BIF        GREAT SOUTHERN, Development Region   \n",
       "\n",
       "           DistrictName                     TectonicUnit  \n",
       "0  MT. MARGARET          Eastern Goldfields Superterrane  \n",
       "1  MEEKATHARRA                           Youanmi Terrane  \n",
       "2  MENZIES               Eastern Goldfields Superterrane  \n",
       "3  BROAD ARROW M.F.      Eastern Goldfields Superterrane  \n",
       "4  SOUTH WEST M.F.               Yilgarn Craton granites  "
      ]
     },
     "execution_count": 25,
     "metadata": {},
     "output_type": "execute_result"
    }
   ],
   "source": [
    "data.head() "
   ]
  },
  {
   "cell_type": "code",
   "execution_count": 26,
   "metadata": {},
   "outputs": [
    {
     "data": {
      "text/plain": [
       "17106"
      ]
     },
     "execution_count": 26,
     "metadata": {},
     "output_type": "execute_result"
    }
   ],
   "source": [
    "data[\"MineralizationStyle\"].isna().sum() # Теперь мы имеем 17 тысяч наблюдений с NaN вместо типа минерализации "
   ]
  },
  {
   "cell_type": "code",
   "execution_count": 27,
   "metadata": {},
   "outputs": [],
   "source": [
    "data.dropna(subset = [\"MineralizationStyle\"], inplace = True)"
   ]
  },
  {
   "cell_type": "code",
   "execution_count": 28,
   "metadata": {},
   "outputs": [
    {
     "data": {
      "text/html": [
       "<div>\n",
       "<style scoped>\n",
       "    .dataframe tbody tr th:only-of-type {\n",
       "        vertical-align: middle;\n",
       "    }\n",
       "\n",
       "    .dataframe tbody tr th {\n",
       "        vertical-align: top;\n",
       "    }\n",
       "\n",
       "    .dataframe thead th {\n",
       "        text-align: right;\n",
       "    }\n",
       "</style>\n",
       "<table border=\"1\" class=\"dataframe\">\n",
       "  <thead>\n",
       "    <tr style=\"text-align: right;\">\n",
       "      <th></th>\n",
       "      <th>Type</th>\n",
       "      <th>SubType</th>\n",
       "      <th>Stage</th>\n",
       "      <th>Commodities</th>\n",
       "      <th>CommodityGroups</th>\n",
       "      <th>TargetCommodityGroups</th>\n",
       "      <th>MineralizationStyle</th>\n",
       "      <th>SecondaryMineralizationStyle</th>\n",
       "      <th>DevelopmentRegion</th>\n",
       "      <th>DistrictName</th>\n",
       "      <th>TectonicUnit</th>\n",
       "    </tr>\n",
       "  </thead>\n",
       "  <tbody>\n",
       "    <tr>\n",
       "      <th>0</th>\n",
       "      <td>Mine</td>\n",
       "      <td>Openpit</td>\n",
       "      <td>Care and Maintenance</td>\n",
       "      <td>Au, Ag</td>\n",
       "      <td>Precious metal</td>\n",
       "      <td>GOLD</td>\n",
       "      <td>Vein and hydrothermal - undivided</td>\n",
       "      <td>Unknown/Unassigned</td>\n",
       "      <td>GOLDFIELDS-ESPERANCE, Development Region</td>\n",
       "      <td>MT. MARGARET</td>\n",
       "      <td>Eastern Goldfields Superterrane</td>\n",
       "    </tr>\n",
       "    <tr>\n",
       "      <th>1</th>\n",
       "      <td>Deposit</td>\n",
       "      <td>Unspecified</td>\n",
       "      <td>Undeveloped</td>\n",
       "      <td>Au, Ag</td>\n",
       "      <td>Precious metal</td>\n",
       "      <td>GOLD</td>\n",
       "      <td>Vein and hydrothermal - undivided</td>\n",
       "      <td>Au in shears or faults</td>\n",
       "      <td>MID-WEST, Development Region</td>\n",
       "      <td>MEEKATHARRA</td>\n",
       "      <td>Youanmi Terrane</td>\n",
       "    </tr>\n",
       "    <tr>\n",
       "      <th>2</th>\n",
       "      <td>Mine</td>\n",
       "      <td>Openpit</td>\n",
       "      <td>Shut</td>\n",
       "      <td>Au, Ag</td>\n",
       "      <td>Precious metal</td>\n",
       "      <td>GOLD</td>\n",
       "      <td>Vein and hydrothermal - undivided</td>\n",
       "      <td>Au in shears or faults</td>\n",
       "      <td>GOLDFIELDS-ESPERANCE, Development Region</td>\n",
       "      <td>MENZIES</td>\n",
       "      <td>Eastern Goldfields Superterrane</td>\n",
       "    </tr>\n",
       "    <tr>\n",
       "      <th>8</th>\n",
       "      <td>Mine</td>\n",
       "      <td>Unspecified</td>\n",
       "      <td>Care and Maintenance</td>\n",
       "      <td>Au, Ni</td>\n",
       "      <td>Precious metal</td>\n",
       "      <td>GOLD</td>\n",
       "      <td>Vein and hydrothermal - undivided</td>\n",
       "      <td>Au in ultramafic rock</td>\n",
       "      <td>PILBARA, Development Region</td>\n",
       "      <td>MARBLE BAR</td>\n",
       "      <td>Kelly Large Igneous Province</td>\n",
       "    </tr>\n",
       "    <tr>\n",
       "      <th>9</th>\n",
       "      <td>Mine</td>\n",
       "      <td>Openpit</td>\n",
       "      <td>Operating</td>\n",
       "      <td>Au, Ag</td>\n",
       "      <td>Precious metal</td>\n",
       "      <td>GOLD</td>\n",
       "      <td>Vein and hydrothermal - undivided</td>\n",
       "      <td>Unknown/Unassigned</td>\n",
       "      <td>GOLDFIELDS-ESPERANCE, Development Region</td>\n",
       "      <td>MT. MARGARET</td>\n",
       "      <td>Eastern Goldfields Superterrane</td>\n",
       "    </tr>\n",
       "  </tbody>\n",
       "</table>\n",
       "</div>"
      ],
      "text/plain": [
       "      Type      SubType                 Stage Commodities CommodityGroups  \\\n",
       "0     Mine      Openpit  Care and Maintenance      Au, Ag  Precious metal   \n",
       "1  Deposit  Unspecified           Undeveloped      Au, Ag  Precious metal   \n",
       "2     Mine      Openpit                  Shut      Au, Ag  Precious metal   \n",
       "8     Mine  Unspecified  Care and Maintenance      Au, Ni  Precious metal   \n",
       "9     Mine      Openpit             Operating      Au, Ag  Precious metal   \n",
       "\n",
       "  TargetCommodityGroups                MineralizationStyle  \\\n",
       "0                  GOLD  Vein and hydrothermal - undivided   \n",
       "1                  GOLD  Vein and hydrothermal - undivided   \n",
       "2                  GOLD  Vein and hydrothermal - undivided   \n",
       "8                  GOLD  Vein and hydrothermal - undivided   \n",
       "9                  GOLD  Vein and hydrothermal - undivided   \n",
       "\n",
       "  SecondaryMineralizationStyle                         DevelopmentRegion  \\\n",
       "0           Unknown/Unassigned  GOLDFIELDS-ESPERANCE, Development Region   \n",
       "1       Au in shears or faults              MID-WEST, Development Region   \n",
       "2       Au in shears or faults  GOLDFIELDS-ESPERANCE, Development Region   \n",
       "8        Au in ultramafic rock               PILBARA, Development Region   \n",
       "9           Unknown/Unassigned  GOLDFIELDS-ESPERANCE, Development Region   \n",
       "\n",
       "           DistrictName                     TectonicUnit  \n",
       "0  MT. MARGARET          Eastern Goldfields Superterrane  \n",
       "1  MEEKATHARRA                           Youanmi Terrane  \n",
       "2  MENZIES               Eastern Goldfields Superterrane  \n",
       "8  MARBLE BAR               Kelly Large Igneous Province  \n",
       "9  MT. MARGARET          Eastern Goldfields Superterrane  "
      ]
     },
     "execution_count": 28,
     "metadata": {},
     "output_type": "execute_result"
    }
   ],
   "source": [
    "data.head()"
   ]
  },
  {
   "cell_type": "code",
   "execution_count": 29,
   "metadata": {},
   "outputs": [
    {
     "data": {
      "text/plain": [
       "(24766, 11)"
      ]
     },
     "execution_count": 29,
     "metadata": {},
     "output_type": "execute_result"
    }
   ],
   "source": [
    "data.shape # После удаления всех неизвестных целевых меток получаем выборку из 24 тысячи наблюдений "
   ]
  },
  {
   "cell_type": "code",
   "execution_count": 30,
   "metadata": {},
   "outputs": [],
   "source": [
    "# Признак SecondaryMineralizationStyle является вторичным типом минерализации. \n",
    "# Оставляя его в обучающей выборке, мы допускаем утечку данных, так как инфорамция о вторичном \n",
    "# типе минерализации не может быть известна до исследования первичного типа минерализации"
   ]
  },
  {
   "cell_type": "code",
   "execution_count": 31,
   "metadata": {},
   "outputs": [],
   "source": [
    "data.drop([\"SecondaryMineralizationStyle\"], axis = 1, inplace = True) # Удаляем этот признак из выборки "
   ]
  },
  {
   "cell_type": "code",
   "execution_count": 32,
   "metadata": {},
   "outputs": [
    {
     "data": {
      "text/plain": [
       "(24766, 10)"
      ]
     },
     "execution_count": 32,
     "metadata": {},
     "output_type": "execute_result"
    }
   ],
   "source": [
    "data.shape"
   ]
  },
  {
   "cell_type": "code",
   "execution_count": 33,
   "metadata": {},
   "outputs": [],
   "source": [
    "def in_others (x): # Функция для определения минерализации, которую переместим в класс Others\n",
    "    if x in list_of_others: \n",
    "        return \"Others\"\n",
    "    else: \n",
    "        return x"
   ]
  },
  {
   "cell_type": "code",
   "execution_count": 34,
   "metadata": {},
   "outputs": [
    {
     "data": {
      "text/plain": [
       "Index(['Regolith - calcrete', 'Sedimentary - undivided',\n",
       "       'Sedimentary - granular iron formation',\n",
       "       'Stratabound volcanic and sedimentary - sedimentary-hosted sulfide',\n",
       "       'Vein and hydrothermal - unconformity', 'Skarn',\n",
       "       'Carbonatite and alkaline igneous intrusions',\n",
       "       'Disseminated and stockwork in plutonic intrusions',\n",
       "       'Stratabound volcanic and sedimentary - volcanic oxide', 'Greisen'],\n",
       "      dtype='object')"
      ]
     },
     "execution_count": 34,
     "metadata": {},
     "output_type": "execute_result"
    }
   ],
   "source": [
    "list_of_others"
   ]
  },
  {
   "cell_type": "code",
   "execution_count": 35,
   "metadata": {},
   "outputs": [],
   "source": [
    "data[\"MineralizationStyle\"] = data[\"MineralizationStyle\"].apply(in_others)"
   ]
  },
  {
   "cell_type": "code",
   "execution_count": 36,
   "metadata": {},
   "outputs": [
    {
     "data": {
      "text/plain": [
       "Vein and hydrothermal - undivided                                 10460\n",
       "Regolith - alluvial to beach placers                               2471\n",
       "Regolith - residual and supergene                                  1747\n",
       "Sedimentary - banded iron-formation (supergene enriched)           1439\n",
       "Stratabound sedimentary - clastic-hosted                           1064\n",
       "Others                                                              966\n",
       "Regolith - residual to eluvial placers                              882\n",
       "Pegmatitic                                                          807\n",
       "Stratabound sedimentary - carbonate-hosted                          682\n",
       "Orthomagmatic mafic and ultramafic - layered mafic intrusions       600\n",
       "Regolith - lacustrine                                               472\n",
       "Stratabound volcanic and sedimentary - volcanic-hosted sulfide      465\n",
       "Sedimentary - banded iron-formation (taconite)                      463\n",
       "Orthomagmatic mafic and ultramafic - komatiitic or dunitic          448\n",
       "Regolith - eolianite                                                380\n",
       "Stratabound volcanic and sedimentary - undivided                    312\n",
       "Orthomagmatic mafic and ultramafic - undivided                      309\n",
       "Sedimentary - basin                                                 309\n",
       "Stratabound sedimentary - undivided                                 249\n",
       "Kimberlite and lamproite intrusions                                 241\n",
       "Name: MineralizationStyle, dtype: int64"
      ]
     },
     "execution_count": 36,
     "metadata": {},
     "output_type": "execute_result"
    }
   ],
   "source": [
    "data.MineralizationStyle.value_counts() # Замена прошла успешно "
   ]
  },
  {
   "cell_type": "code",
   "execution_count": 37,
   "metadata": {},
   "outputs": [],
   "source": [
    "# теперь можем разбить датасет на обучающую и тестовую выборки в соотношении 80 к 20 \n",
    "from sklearn.utils import shuffle"
   ]
  },
  {
   "cell_type": "code",
   "execution_count": 38,
   "metadata": {},
   "outputs": [],
   "source": [
    "data = shuffle(data, random_state = 10) \n",
    "\n",
    "threshold = int(data.shape[0] * 0.8)\n",
    "train_data = data[:threshold]\n",
    "test_data = data[threshold:]"
   ]
  },
  {
   "cell_type": "code",
   "execution_count": 39,
   "metadata": {
    "scrolled": true
   },
   "outputs": [
    {
     "data": {
      "text/plain": [
       "(19812, 10)"
      ]
     },
     "execution_count": 39,
     "metadata": {},
     "output_type": "execute_result"
    }
   ],
   "source": [
    "train_data.shape"
   ]
  },
  {
   "cell_type": "code",
   "execution_count": 40,
   "metadata": {},
   "outputs": [
    {
     "data": {
      "text/plain": [
       "(4954, 10)"
      ]
     },
     "execution_count": 40,
     "metadata": {},
     "output_type": "execute_result"
    }
   ],
   "source": [
    "test_data.shape"
   ]
  },
  {
   "cell_type": "code",
   "execution_count": 41,
   "metadata": {},
   "outputs": [],
   "source": [
    "X_train = train_data.drop([\"MineralizationStyle\"], axis = 1 )\n",
    "X_test = test_data.drop([\"MineralizationStyle\"], axis = 1 )\n",
    "y_train = train_data[\"MineralizationStyle\"]\n",
    "y_test = test_data[\"MineralizationStyle\"]"
   ]
  },
  {
   "cell_type": "code",
   "execution_count": 42,
   "metadata": {},
   "outputs": [],
   "source": [
    "from sklearn.preprocessing import LabelEncoder \n",
    "# Импортируем из библиотеки энкодер, преобразовывающий имена классов в числа "
   ]
  },
  {
   "cell_type": "code",
   "execution_count": 43,
   "metadata": {},
   "outputs": [],
   "source": [
    "class LabelEncoderExtended(object): \n",
    "    # Класс улучшенного энкодера, который обрабатывает в том числе не встреченные в обучающей выборке категории\n",
    "    def __init__(self):\n",
    "\n",
    "        self.label_encoder = LabelEncoder()\n",
    "\n",
    "    def fit(self, data_list):\n",
    "\n",
    "        self.label_encoder = self.label_encoder.fit(list(data_list) + ['Unknown'])\n",
    "        self.classes_ = self.label_encoder.classes_\n",
    "\n",
    "        return self\n",
    "\n",
    "    def transform(self, data_list):\n",
    "\n",
    "        new_data_list = [str(i) if str(i) in self.label_encoder.classes_ else 'Unknown' for i in data_list]\n",
    "\n",
    "        return self.label_encoder.transform(new_data_list)\n",
    "    \n",
    "    def fit_transform(self, data_list):\n",
    "        self.fit(data_list)\n",
    "        return self.transform(data_list)"
   ]
  },
  {
   "cell_type": "code",
   "execution_count": 44,
   "metadata": {},
   "outputs": [],
   "source": [
    "# Создадим экземпляр энкодера\n",
    "ext_encoder = LabelEncoderExtended() \n",
    "ext_encoder.fit(y_train) # Обучим энкодер на обучающей выборке ответов\n",
    "\n",
    "y_train = ext_encoder.transform (y_train) # Применим к обучающей выборке\n",
    "y_test = ext_encoder.transform (y_test) # и к тестовой"
   ]
  },
  {
   "cell_type": "code",
   "execution_count": 45,
   "metadata": {},
   "outputs": [
    {
     "data": {
      "text/plain": [
       "dtype('int64')"
      ]
     },
     "execution_count": 45,
     "metadata": {},
     "output_type": "execute_result"
    }
   ],
   "source": [
    "y_test.dtype"
   ]
  },
  {
   "cell_type": "code",
   "execution_count": 46,
   "metadata": {},
   "outputs": [
    {
     "data": {
      "text/plain": [
       "array([ 6,  7, 20, ..., 20,  9, 20], dtype=int64)"
      ]
     },
     "execution_count": 46,
     "metadata": {},
     "output_type": "execute_result"
    }
   ],
   "source": [
    "y_train"
   ]
  },
  {
   "cell_type": "code",
   "execution_count": 47,
   "metadata": {},
   "outputs": [
    {
     "data": {
      "text/plain": [
       "array([ 6,  7, 20, ..., 20,  9, 20], dtype=int64)"
      ]
     },
     "execution_count": 47,
     "metadata": {},
     "output_type": "execute_result"
    }
   ],
   "source": [
    "y_train"
   ]
  },
  {
   "cell_type": "code",
   "execution_count": 48,
   "metadata": {},
   "outputs": [
    {
     "data": {
      "text/html": [
       "<div>\n",
       "<style scoped>\n",
       "    .dataframe tbody tr th:only-of-type {\n",
       "        vertical-align: middle;\n",
       "    }\n",
       "\n",
       "    .dataframe tbody tr th {\n",
       "        vertical-align: top;\n",
       "    }\n",
       "\n",
       "    .dataframe thead th {\n",
       "        text-align: right;\n",
       "    }\n",
       "</style>\n",
       "<table border=\"1\" class=\"dataframe\">\n",
       "  <thead>\n",
       "    <tr style=\"text-align: right;\">\n",
       "      <th></th>\n",
       "      <th>Type</th>\n",
       "      <th>SubType</th>\n",
       "      <th>Stage</th>\n",
       "      <th>Commodities</th>\n",
       "      <th>CommodityGroups</th>\n",
       "      <th>TargetCommodityGroups</th>\n",
       "      <th>DevelopmentRegion</th>\n",
       "      <th>DistrictName</th>\n",
       "      <th>TectonicUnit</th>\n",
       "    </tr>\n",
       "  </thead>\n",
       "  <tbody>\n",
       "    <tr>\n",
       "      <th>19917</th>\n",
       "      <td>Deposit</td>\n",
       "      <td>Unspecified</td>\n",
       "      <td>Undeveloped</td>\n",
       "      <td>Fe</td>\n",
       "      <td>Iron</td>\n",
       "      <td>IRON ORE</td>\n",
       "      <td>PILBARA, Development Region</td>\n",
       "      <td>WEST PILBARA M.F.</td>\n",
       "      <td>Hamersley Basin</td>\n",
       "    </tr>\n",
       "    <tr>\n",
       "      <th>36530</th>\n",
       "      <td>Mine</td>\n",
       "      <td>Openpit</td>\n",
       "      <td>Proposed</td>\n",
       "      <td>Sd</td>\n",
       "      <td>Construction material</td>\n",
       "      <td>CONSTRUCTION MATERIALS</td>\n",
       "      <td>SOUTH WEST, Development Region</td>\n",
       "      <td>SOUTH WEST M.F.</td>\n",
       "      <td>Pinjarra Orogen, Leeuwin Inlier</td>\n",
       "    </tr>\n",
       "    <tr>\n",
       "      <th>14808</th>\n",
       "      <td>Mine</td>\n",
       "      <td>Unspecified</td>\n",
       "      <td>Shut</td>\n",
       "      <td>Au</td>\n",
       "      <td>Precious metal</td>\n",
       "      <td>GOLD</td>\n",
       "      <td>WHEATBELT, Development Region</td>\n",
       "      <td>YILGARN M.F.</td>\n",
       "      <td>Youanmi Terrane</td>\n",
       "    </tr>\n",
       "    <tr>\n",
       "      <th>13416</th>\n",
       "      <td>Mine</td>\n",
       "      <td>Shaft</td>\n",
       "      <td>Shut</td>\n",
       "      <td>Au</td>\n",
       "      <td>Precious metal</td>\n",
       "      <td>GOLD</td>\n",
       "      <td>MID-WEST, Development Region</td>\n",
       "      <td>MT. MAGNET</td>\n",
       "      <td>Youanmi Terrane</td>\n",
       "    </tr>\n",
       "    <tr>\n",
       "      <th>33323</th>\n",
       "      <td>Target</td>\n",
       "      <td>Untested</td>\n",
       "      <td>Undeveloped</td>\n",
       "      <td>REE</td>\n",
       "      <td>Speciality metal</td>\n",
       "      <td>RARE EARTHS</td>\n",
       "      <td>GASCOYNE, Development Region</td>\n",
       "      <td>PEAK HILL M.F.</td>\n",
       "      <td>Narryer Terrane</td>\n",
       "    </tr>\n",
       "  </tbody>\n",
       "</table>\n",
       "</div>"
      ],
      "text/plain": [
       "          Type      SubType        Stage Commodities        CommodityGroups  \\\n",
       "19917  Deposit  Unspecified  Undeveloped          Fe                   Iron   \n",
       "36530     Mine      Openpit     Proposed          Sd  Construction material   \n",
       "14808     Mine  Unspecified         Shut          Au         Precious metal   \n",
       "13416     Mine        Shaft         Shut          Au         Precious metal   \n",
       "33323   Target     Untested  Undeveloped         REE       Speciality metal   \n",
       "\n",
       "        TargetCommodityGroups               DevelopmentRegion  \\\n",
       "19917                IRON ORE     PILBARA, Development Region   \n",
       "36530  CONSTRUCTION MATERIALS  SOUTH WEST, Development Region   \n",
       "14808                    GOLD   WHEATBELT, Development Region   \n",
       "13416                    GOLD    MID-WEST, Development Region   \n",
       "33323             RARE EARTHS    GASCOYNE, Development Region   \n",
       "\n",
       "               DistrictName                     TectonicUnit  \n",
       "19917  WEST PILBARA M.F.                     Hamersley Basin  \n",
       "36530  SOUTH WEST M.F.       Pinjarra Orogen, Leeuwin Inlier  \n",
       "14808  YILGARN M.F.                          Youanmi Terrane  \n",
       "13416  MT. MAGNET                            Youanmi Terrane  \n",
       "33323  PEAK HILL M.F.                        Narryer Terrane  "
      ]
     },
     "execution_count": 48,
     "metadata": {},
     "output_type": "execute_result"
    }
   ],
   "source": [
    "X_train.head()"
   ]
  },
  {
   "cell_type": "code",
   "execution_count": 49,
   "metadata": {},
   "outputs": [
    {
     "data": {
      "text/plain": [
       "Type                      0\n",
       "SubType                   0\n",
       "Stage                     0\n",
       "Commodities               0\n",
       "CommodityGroups           0\n",
       "TargetCommodityGroups     0\n",
       "DevelopmentRegion        25\n",
       "DistrictName             20\n",
       "TectonicUnit             27\n",
       "dtype: int64"
      ]
     },
     "execution_count": 49,
     "metadata": {},
     "output_type": "execute_result"
    }
   ],
   "source": [
    "X_train.isnull().sum() # Проверяем, сколько данных пропущено "
   ]
  },
  {
   "cell_type": "code",
   "execution_count": 50,
   "metadata": {},
   "outputs": [],
   "source": [
    "for c in X_train.columns: # заполняем пропущенные данные наиболее часто встречающейся категорией (модой)\n",
    "    X_train[c].fillna(X_train[c].mode()[0], inplace=True)\n",
    "    X_test[c].fillna(X_test[c].mode()[0], inplace=True)"
   ]
  },
  {
   "cell_type": "code",
   "execution_count": 51,
   "metadata": {},
   "outputs": [
    {
     "data": {
      "text/plain": [
       "Type                     0\n",
       "SubType                  0\n",
       "Stage                    0\n",
       "Commodities              0\n",
       "CommodityGroups          0\n",
       "TargetCommodityGroups    0\n",
       "DevelopmentRegion        0\n",
       "DistrictName             0\n",
       "TectonicUnit             0\n",
       "dtype: int64"
      ]
     },
     "execution_count": 51,
     "metadata": {},
     "output_type": "execute_result"
    }
   ],
   "source": [
    "X_train.isnull().sum() # пропущенных значений нет"
   ]
  },
  {
   "cell_type": "code",
   "execution_count": 52,
   "metadata": {},
   "outputs": [
    {
     "data": {
      "text/plain": [
       "Type                     0\n",
       "SubType                  0\n",
       "Stage                    0\n",
       "Commodities              0\n",
       "CommodityGroups          0\n",
       "TargetCommodityGroups    0\n",
       "DevelopmentRegion        0\n",
       "DistrictName             0\n",
       "TectonicUnit             0\n",
       "dtype: int64"
      ]
     },
     "execution_count": 52,
     "metadata": {},
     "output_type": "execute_result"
    }
   ],
   "source": [
    "X_test.isnull().sum()"
   ]
  },
  {
   "cell_type": "code",
   "execution_count": 53,
   "metadata": {},
   "outputs": [
    {
     "data": {
      "text/plain": [
       "Au                                     0.241823\n",
       "Au, Ag                                 0.128760\n",
       "Fe                                     0.080658\n",
       "Cu                                     0.041288\n",
       "Mn                                     0.035029\n",
       "                                         ...   \n",
       "Dol, MgCO3                             0.000050\n",
       "Au, Ta                                 0.000050\n",
       "Zn, Pb, Cu, Ag, U, V                   0.000050\n",
       "REE, Nb, Zn, Ni, Cu, Ap, PGE, V, Cr    0.000050\n",
       "HM, Au                                 0.000050\n",
       "Name: Commodities, Length: 1228, dtype: float64"
      ]
     },
     "execution_count": 53,
     "metadata": {},
     "output_type": "execute_result"
    }
   ],
   "source": [
    "X_train.Commodities.value_counts(normalize = True)\n",
    "# Видим 1263 категории. Некоторые категории очень малочисленны, \n",
    "# мы можем вынести их в отдельную категорию Rare "
   ]
  },
  {
   "cell_type": "code",
   "execution_count": 54,
   "metadata": {},
   "outputs": [],
   "source": [
    "dict_of_values = X_train[\"Commodities\"].value_counts(normalize = True)"
   ]
  },
  {
   "cell_type": "code",
   "execution_count": 55,
   "metadata": {},
   "outputs": [],
   "source": [
    "list_of_rare = [i[0] for i in list(filter(lambda x: x[1] < 0.001, dict_of_values.items())) ]"
   ]
  },
  {
   "cell_type": "code",
   "execution_count": 56,
   "metadata": {},
   "outputs": [],
   "source": [
    "X_train[\"Commodities\"] = X_train[\"Commodities\"].apply(lambda x: \"Rare\" if x in list_of_rare else x)"
   ]
  },
  {
   "cell_type": "code",
   "execution_count": 57,
   "metadata": {},
   "outputs": [
    {
     "data": {
      "text/plain": [
       "Au                  4791\n",
       "Rare                2743\n",
       "Au, Ag              2551\n",
       "Fe                  1598\n",
       "Cu                   818\n",
       "                    ... \n",
       "Diat                  22\n",
       "HM, Ilm, Zrn, Rt      21\n",
       "Au, Ag, Cu            20\n",
       "Opalc                 20\n",
       "Lignite               20\n",
       "Name: Commodities, Length: 83, dtype: int64"
      ]
     },
     "execution_count": 57,
     "metadata": {},
     "output_type": "execute_result"
    }
   ],
   "source": [
    "X_train[\"Commodities\"].value_counts() # Получаем 83 разные категории в обучающей выборке"
   ]
  },
  {
   "cell_type": "code",
   "execution_count": 58,
   "metadata": {},
   "outputs": [],
   "source": [
    "dict_of_values = X_test[\"Commodities\"].value_counts(normalize = True)\n",
    "list_of_rare_test = [i[0] for i in list(filter(lambda x: x[1] < 0.001, dict_of_values.items())) ]\n",
    "X_test[\"Commodities\"] = X_test[\"Commodities\"].apply(lambda x: \"Rare\" if x in list_of_rare_test else x)"
   ]
  },
  {
   "cell_type": "code",
   "execution_count": 59,
   "metadata": {},
   "outputs": [
    {
     "data": {
      "text/plain": [
       "Au            1171\n",
       "Rare           743\n",
       "Au, Ag         581\n",
       "Fe             395\n",
       "Cu             201\n",
       "              ... \n",
       "Gvl, Sd          5\n",
       "Alu              5\n",
       "Lignite          5\n",
       "Au, Sb, Ag       5\n",
       "Sn, Ta           5\n",
       "Name: Commodities, Length: 80, dtype: int64"
      ]
     },
     "execution_count": 59,
     "metadata": {},
     "output_type": "execute_result"
    }
   ],
   "source": [
    "X_test[\"Commodities\"].value_counts() # Получаем 80 разных категорий в тестовой выборке"
   ]
  },
  {
   "cell_type": "code",
   "execution_count": 60,
   "metadata": {},
   "outputs": [
    {
     "data": {
      "text/plain": [
       "Youanmi Terrane                    0.216283\n",
       "Eastern Goldfields Superterrane    0.122148\n",
       "Hamersley Basin                    0.058500\n",
       "Yilgarn Craton granites            0.057036\n",
       "Lamboo Province, Eastern Zone      0.026802\n",
       "                                     ...   \n",
       "Revolver Creek Basin               0.000050\n",
       "Balgo Terrace                      0.000050\n",
       "Ord Basin, Argyle Syncline         0.000050\n",
       "Davis Dolerite                     0.000050\n",
       "Wallal Platform                    0.000050\n",
       "Name: TectonicUnit, Length: 200, dtype: float64"
      ]
     },
     "execution_count": 60,
     "metadata": {},
     "output_type": "execute_result"
    }
   ],
   "source": [
    "X_train[\"TectonicUnit\"].value_counts(normalize = True)\n",
    "# 200 признаков достаточно много, поэтому так же объединим малочисленные \n",
    "# тектонические образования в отдельную категорию"
   ]
  },
  {
   "cell_type": "code",
   "execution_count": 61,
   "metadata": {},
   "outputs": [
    {
     "data": {
      "text/plain": [
       "Youanmi Terrane                    0.214776\n",
       "Eastern Goldfields Superterrane    0.119298\n",
       "Yilgarn Craton granites            0.060759\n",
       "Hamersley Basin                    0.055309\n",
       "Kimberley Basin                    0.026040\n",
       "                                     ...   \n",
       "Cleland Supersuite                 0.000202\n",
       "Vlaming Sub-basin                  0.000202\n",
       "Yandanooka Basin                   0.000202\n",
       "Boyup Sub-basin                    0.000202\n",
       "Waukarlycarly Embayment            0.000202\n",
       "Name: TectonicUnit, Length: 165, dtype: float64"
      ]
     },
     "execution_count": 61,
     "metadata": {},
     "output_type": "execute_result"
    }
   ],
   "source": [
    "X_test[\"TectonicUnit\"].value_counts(normalize = True) "
   ]
  },
  {
   "cell_type": "code",
   "execution_count": 62,
   "metadata": {},
   "outputs": [],
   "source": [
    "dict_of_values = X_train[\"TectonicUnit\"].value_counts(normalize = True)\n",
    "list_of_rare_train = [i[0] for i in list(filter(lambda x: x[1] < 0.005, dict_of_values.items())) ]\n",
    "X_train[\"TectonicUnit\"] = X_train[\"TectonicUnit\"].apply(lambda x: \"Rare\" if x in list_of_rare_train else x)\n",
    "\n",
    "dict_of_values = X_test[\"TectonicUnit\"].value_counts(normalize = True)\n",
    "list_of_rare_test = [i[0] for i in list(filter(lambda x: x[1] < 0.005, dict_of_values.items())) ]\n",
    "X_test[\"TectonicUnit\"] = X_test[\"TectonicUnit\"].apply(lambda x: \"Rare\" if x in list_of_rare_test else x)"
   ]
  },
  {
   "cell_type": "code",
   "execution_count": 63,
   "metadata": {},
   "outputs": [
    {
     "data": {
      "text/plain": [
       "36"
      ]
     },
     "execution_count": 63,
     "metadata": {},
     "output_type": "execute_result"
    }
   ],
   "source": [
    "len (X_test[\"TectonicUnit\"].value_counts()) # Получаем 36 категорий в тесте и 39 в обучающей"
   ]
  },
  {
   "cell_type": "code",
   "execution_count": 64,
   "metadata": {},
   "outputs": [
    {
     "data": {
      "text/plain": [
       "39"
      ]
     },
     "execution_count": 64,
     "metadata": {},
     "output_type": "execute_result"
    }
   ],
   "source": [
    "len (X_train[\"TectonicUnit\"].value_counts())"
   ]
  },
  {
   "cell_type": "code",
   "execution_count": 65,
   "metadata": {},
   "outputs": [
    {
     "data": {
      "text/plain": [
       "['Type',\n",
       " 'SubType',\n",
       " 'Stage',\n",
       " 'Commodities',\n",
       " 'CommodityGroups',\n",
       " 'TargetCommodityGroups',\n",
       " 'DevelopmentRegion',\n",
       " 'DistrictName',\n",
       " 'TectonicUnit']"
      ]
     },
     "execution_count": 65,
     "metadata": {},
     "output_type": "execute_result"
    }
   ],
   "source": [
    "list (X_train.columns)"
   ]
  },
  {
   "cell_type": "code",
   "execution_count": 66,
   "metadata": {},
   "outputs": [],
   "source": [
    "X_train = pd.get_dummies(X_train[list (X_train.columns)]) \n",
    "# Создадим множество признаков, каждый из которых будет будет иметь 1 напротив категории, \n",
    "# которой соответствует, во всех остальных будет иметь 0\n",
    "X_test = pd.get_dummies(X_test[list(X_test.columns)])\n",
    "# Поскольку у нас все признаки категориальные, мы преобразуем их все в такие признаки"
   ]
  },
  {
   "cell_type": "code",
   "execution_count": 67,
   "metadata": {},
   "outputs": [
    {
     "data": {
      "text/html": [
       "<div>\n",
       "<style scoped>\n",
       "    .dataframe tbody tr th:only-of-type {\n",
       "        vertical-align: middle;\n",
       "    }\n",
       "\n",
       "    .dataframe tbody tr th {\n",
       "        vertical-align: top;\n",
       "    }\n",
       "\n",
       "    .dataframe thead th {\n",
       "        text-align: right;\n",
       "    }\n",
       "</style>\n",
       "<table border=\"1\" class=\"dataframe\">\n",
       "  <thead>\n",
       "    <tr style=\"text-align: right;\">\n",
       "      <th></th>\n",
       "      <th>Type_Deposit</th>\n",
       "      <th>Type_Infrastructure</th>\n",
       "      <th>Type_Mine</th>\n",
       "      <th>Type_Occurrence</th>\n",
       "      <th>Type_Prospect</th>\n",
       "      <th>Type_Target</th>\n",
       "      <th>SubType_Adit</th>\n",
       "      <th>SubType_Airstrip</th>\n",
       "      <th>SubType_Borefield</th>\n",
       "      <th>SubType_Borrow Pit</th>\n",
       "      <th>SubType_Building</th>\n",
       "      <th>SubType_Costean/Trench</th>\n",
       "      <th>SubType_Dam</th>\n",
       "      <th>SubType_Decline</th>\n",
       "      <th>SubType_Dredging Area</th>\n",
       "      <th>SubType_Drillhole</th>\n",
       "      <th>SubType_Dryblowing area</th>\n",
       "      <th>SubType_Dump (unspecified)</th>\n",
       "      <th>...</th>\n",
       "      <th>TectonicUnit_Mandurah Terrace</th>\n",
       "      <th>TectonicUnit_Merlinleigh Sub-basin</th>\n",
       "      <th>TectonicUnit_Mosquito Creek Basin</th>\n",
       "      <th>TectonicUnit_Narryer Terrane</th>\n",
       "      <th>TectonicUnit_Northeast Pilbara Sub-basin</th>\n",
       "      <th>TectonicUnit_Pinjarra Orogen, Northampton Inlier</th>\n",
       "      <th>TectonicUnit_Rare</th>\n",
       "      <th>TectonicUnit_Sally Downs Supersuite</th>\n",
       "      <th>TectonicUnit_Sisters Supersuite</th>\n",
       "      <th>TectonicUnit_Soanesville Basin</th>\n",
       "      <th>TectonicUnit_South Pilbara Sub-basin</th>\n",
       "      <th>TectonicUnit_South West Terrane</th>\n",
       "      <th>TectonicUnit_Split Rock Supersuite</th>\n",
       "      <th>TectonicUnit_Warrawoona  Large Igneous Province</th>\n",
       "      <th>TectonicUnit_Yeneena Basin</th>\n",
       "      <th>TectonicUnit_Yerrida Basin</th>\n",
       "      <th>TectonicUnit_Yilgarn Craton granites</th>\n",
       "      <th>TectonicUnit_Youanmi Terrane</th>\n",
       "    </tr>\n",
       "  </thead>\n",
       "  <tbody>\n",
       "    <tr>\n",
       "      <th>19917</th>\n",
       "      <td>1</td>\n",
       "      <td>0</td>\n",
       "      <td>0</td>\n",
       "      <td>0</td>\n",
       "      <td>0</td>\n",
       "      <td>0</td>\n",
       "      <td>0</td>\n",
       "      <td>0</td>\n",
       "      <td>0</td>\n",
       "      <td>0</td>\n",
       "      <td>0</td>\n",
       "      <td>0</td>\n",
       "      <td>0</td>\n",
       "      <td>0</td>\n",
       "      <td>0</td>\n",
       "      <td>0</td>\n",
       "      <td>0</td>\n",
       "      <td>0</td>\n",
       "      <td>...</td>\n",
       "      <td>0</td>\n",
       "      <td>0</td>\n",
       "      <td>0</td>\n",
       "      <td>0</td>\n",
       "      <td>0</td>\n",
       "      <td>0</td>\n",
       "      <td>0</td>\n",
       "      <td>0</td>\n",
       "      <td>0</td>\n",
       "      <td>0</td>\n",
       "      <td>0</td>\n",
       "      <td>0</td>\n",
       "      <td>0</td>\n",
       "      <td>0</td>\n",
       "      <td>0</td>\n",
       "      <td>0</td>\n",
       "      <td>0</td>\n",
       "      <td>0</td>\n",
       "    </tr>\n",
       "    <tr>\n",
       "      <th>36530</th>\n",
       "      <td>0</td>\n",
       "      <td>0</td>\n",
       "      <td>1</td>\n",
       "      <td>0</td>\n",
       "      <td>0</td>\n",
       "      <td>0</td>\n",
       "      <td>0</td>\n",
       "      <td>0</td>\n",
       "      <td>0</td>\n",
       "      <td>0</td>\n",
       "      <td>0</td>\n",
       "      <td>0</td>\n",
       "      <td>0</td>\n",
       "      <td>0</td>\n",
       "      <td>0</td>\n",
       "      <td>0</td>\n",
       "      <td>0</td>\n",
       "      <td>0</td>\n",
       "      <td>...</td>\n",
       "      <td>0</td>\n",
       "      <td>0</td>\n",
       "      <td>0</td>\n",
       "      <td>0</td>\n",
       "      <td>0</td>\n",
       "      <td>0</td>\n",
       "      <td>1</td>\n",
       "      <td>0</td>\n",
       "      <td>0</td>\n",
       "      <td>0</td>\n",
       "      <td>0</td>\n",
       "      <td>0</td>\n",
       "      <td>0</td>\n",
       "      <td>0</td>\n",
       "      <td>0</td>\n",
       "      <td>0</td>\n",
       "      <td>0</td>\n",
       "      <td>0</td>\n",
       "    </tr>\n",
       "    <tr>\n",
       "      <th>14808</th>\n",
       "      <td>0</td>\n",
       "      <td>0</td>\n",
       "      <td>1</td>\n",
       "      <td>0</td>\n",
       "      <td>0</td>\n",
       "      <td>0</td>\n",
       "      <td>0</td>\n",
       "      <td>0</td>\n",
       "      <td>0</td>\n",
       "      <td>0</td>\n",
       "      <td>0</td>\n",
       "      <td>0</td>\n",
       "      <td>0</td>\n",
       "      <td>0</td>\n",
       "      <td>0</td>\n",
       "      <td>0</td>\n",
       "      <td>0</td>\n",
       "      <td>0</td>\n",
       "      <td>...</td>\n",
       "      <td>0</td>\n",
       "      <td>0</td>\n",
       "      <td>0</td>\n",
       "      <td>0</td>\n",
       "      <td>0</td>\n",
       "      <td>0</td>\n",
       "      <td>0</td>\n",
       "      <td>0</td>\n",
       "      <td>0</td>\n",
       "      <td>0</td>\n",
       "      <td>0</td>\n",
       "      <td>0</td>\n",
       "      <td>0</td>\n",
       "      <td>0</td>\n",
       "      <td>0</td>\n",
       "      <td>0</td>\n",
       "      <td>0</td>\n",
       "      <td>1</td>\n",
       "    </tr>\n",
       "    <tr>\n",
       "      <th>13416</th>\n",
       "      <td>0</td>\n",
       "      <td>0</td>\n",
       "      <td>1</td>\n",
       "      <td>0</td>\n",
       "      <td>0</td>\n",
       "      <td>0</td>\n",
       "      <td>0</td>\n",
       "      <td>0</td>\n",
       "      <td>0</td>\n",
       "      <td>0</td>\n",
       "      <td>0</td>\n",
       "      <td>0</td>\n",
       "      <td>0</td>\n",
       "      <td>0</td>\n",
       "      <td>0</td>\n",
       "      <td>0</td>\n",
       "      <td>0</td>\n",
       "      <td>0</td>\n",
       "      <td>...</td>\n",
       "      <td>0</td>\n",
       "      <td>0</td>\n",
       "      <td>0</td>\n",
       "      <td>0</td>\n",
       "      <td>0</td>\n",
       "      <td>0</td>\n",
       "      <td>0</td>\n",
       "      <td>0</td>\n",
       "      <td>0</td>\n",
       "      <td>0</td>\n",
       "      <td>0</td>\n",
       "      <td>0</td>\n",
       "      <td>0</td>\n",
       "      <td>0</td>\n",
       "      <td>0</td>\n",
       "      <td>0</td>\n",
       "      <td>0</td>\n",
       "      <td>1</td>\n",
       "    </tr>\n",
       "    <tr>\n",
       "      <th>33323</th>\n",
       "      <td>0</td>\n",
       "      <td>0</td>\n",
       "      <td>0</td>\n",
       "      <td>0</td>\n",
       "      <td>0</td>\n",
       "      <td>1</td>\n",
       "      <td>0</td>\n",
       "      <td>0</td>\n",
       "      <td>0</td>\n",
       "      <td>0</td>\n",
       "      <td>0</td>\n",
       "      <td>0</td>\n",
       "      <td>0</td>\n",
       "      <td>0</td>\n",
       "      <td>0</td>\n",
       "      <td>0</td>\n",
       "      <td>0</td>\n",
       "      <td>0</td>\n",
       "      <td>...</td>\n",
       "      <td>0</td>\n",
       "      <td>0</td>\n",
       "      <td>0</td>\n",
       "      <td>1</td>\n",
       "      <td>0</td>\n",
       "      <td>0</td>\n",
       "      <td>0</td>\n",
       "      <td>0</td>\n",
       "      <td>0</td>\n",
       "      <td>0</td>\n",
       "      <td>0</td>\n",
       "      <td>0</td>\n",
       "      <td>0</td>\n",
       "      <td>0</td>\n",
       "      <td>0</td>\n",
       "      <td>0</td>\n",
       "      <td>0</td>\n",
       "      <td>0</td>\n",
       "    </tr>\n",
       "  </tbody>\n",
       "</table>\n",
       "<p>5 rows × 274 columns</p>\n",
       "</div>"
      ],
      "text/plain": [
       "       Type_Deposit  Type_Infrastructure  Type_Mine  Type_Occurrence  \\\n",
       "19917             1                    0          0                0   \n",
       "36530             0                    0          1                0   \n",
       "14808             0                    0          1                0   \n",
       "13416             0                    0          1                0   \n",
       "33323             0                    0          0                0   \n",
       "\n",
       "       Type_Prospect  Type_Target  SubType_Adit  SubType_Airstrip  \\\n",
       "19917              0            0             0                 0   \n",
       "36530              0            0             0                 0   \n",
       "14808              0            0             0                 0   \n",
       "13416              0            0             0                 0   \n",
       "33323              0            1             0                 0   \n",
       "\n",
       "       SubType_Borefield  SubType_Borrow Pit  SubType_Building  \\\n",
       "19917                  0                   0                 0   \n",
       "36530                  0                   0                 0   \n",
       "14808                  0                   0                 0   \n",
       "13416                  0                   0                 0   \n",
       "33323                  0                   0                 0   \n",
       "\n",
       "       SubType_Costean/Trench  SubType_Dam  SubType_Decline  \\\n",
       "19917                       0            0                0   \n",
       "36530                       0            0                0   \n",
       "14808                       0            0                0   \n",
       "13416                       0            0                0   \n",
       "33323                       0            0                0   \n",
       "\n",
       "       SubType_Dredging Area  SubType_Drillhole  SubType_Dryblowing area  \\\n",
       "19917                      0                  0                        0   \n",
       "36530                      0                  0                        0   \n",
       "14808                      0                  0                        0   \n",
       "13416                      0                  0                        0   \n",
       "33323                      0                  0                        0   \n",
       "\n",
       "       SubType_Dump (unspecified)  ...  TectonicUnit_Mandurah Terrace  \\\n",
       "19917                           0  ...                              0   \n",
       "36530                           0  ...                              0   \n",
       "14808                           0  ...                              0   \n",
       "13416                           0  ...                              0   \n",
       "33323                           0  ...                              0   \n",
       "\n",
       "       TectonicUnit_Merlinleigh Sub-basin  TectonicUnit_Mosquito Creek Basin  \\\n",
       "19917                                   0                                  0   \n",
       "36530                                   0                                  0   \n",
       "14808                                   0                                  0   \n",
       "13416                                   0                                  0   \n",
       "33323                                   0                                  0   \n",
       "\n",
       "       TectonicUnit_Narryer Terrane  TectonicUnit_Northeast Pilbara Sub-basin  \\\n",
       "19917                             0                                         0   \n",
       "36530                             0                                         0   \n",
       "14808                             0                                         0   \n",
       "13416                             0                                         0   \n",
       "33323                             1                                         0   \n",
       "\n",
       "       TectonicUnit_Pinjarra Orogen, Northampton Inlier  TectonicUnit_Rare  \\\n",
       "19917                                                 0                  0   \n",
       "36530                                                 0                  1   \n",
       "14808                                                 0                  0   \n",
       "13416                                                 0                  0   \n",
       "33323                                                 0                  0   \n",
       "\n",
       "       TectonicUnit_Sally Downs Supersuite  TectonicUnit_Sisters Supersuite  \\\n",
       "19917                                    0                                0   \n",
       "36530                                    0                                0   \n",
       "14808                                    0                                0   \n",
       "13416                                    0                                0   \n",
       "33323                                    0                                0   \n",
       "\n",
       "       TectonicUnit_Soanesville Basin  TectonicUnit_South Pilbara Sub-basin  \\\n",
       "19917                               0                                     0   \n",
       "36530                               0                                     0   \n",
       "14808                               0                                     0   \n",
       "13416                               0                                     0   \n",
       "33323                               0                                     0   \n",
       "\n",
       "       TectonicUnit_South West Terrane  TectonicUnit_Split Rock Supersuite  \\\n",
       "19917                                0                                   0   \n",
       "36530                                0                                   0   \n",
       "14808                                0                                   0   \n",
       "13416                                0                                   0   \n",
       "33323                                0                                   0   \n",
       "\n",
       "       TectonicUnit_Warrawoona  Large Igneous Province  \\\n",
       "19917                                                0   \n",
       "36530                                                0   \n",
       "14808                                                0   \n",
       "13416                                                0   \n",
       "33323                                                0   \n",
       "\n",
       "       TectonicUnit_Yeneena Basin  TectonicUnit_Yerrida Basin  \\\n",
       "19917                           0                           0   \n",
       "36530                           0                           0   \n",
       "14808                           0                           0   \n",
       "13416                           0                           0   \n",
       "33323                           0                           0   \n",
       "\n",
       "       TectonicUnit_Yilgarn Craton granites  TectonicUnit_Youanmi Terrane  \n",
       "19917                                     0                             0  \n",
       "36530                                     0                             0  \n",
       "14808                                     0                             1  \n",
       "13416                                     0                             1  \n",
       "33323                                     0                             0  \n",
       "\n",
       "[5 rows x 274 columns]"
      ]
     },
     "execution_count": 67,
     "metadata": {},
     "output_type": "execute_result"
    }
   ],
   "source": [
    "X_train.head() # Получаем сильно разреженные матрицы "
   ]
  },
  {
   "cell_type": "code",
   "execution_count": 68,
   "metadata": {},
   "outputs": [
    {
     "data": {
      "text/html": [
       "<div>\n",
       "<style scoped>\n",
       "    .dataframe tbody tr th:only-of-type {\n",
       "        vertical-align: middle;\n",
       "    }\n",
       "\n",
       "    .dataframe tbody tr th {\n",
       "        vertical-align: top;\n",
       "    }\n",
       "\n",
       "    .dataframe thead th {\n",
       "        text-align: right;\n",
       "    }\n",
       "</style>\n",
       "<table border=\"1\" class=\"dataframe\">\n",
       "  <thead>\n",
       "    <tr style=\"text-align: right;\">\n",
       "      <th></th>\n",
       "      <th>Type_Deposit</th>\n",
       "      <th>Type_Infrastructure</th>\n",
       "      <th>Type_Mine</th>\n",
       "      <th>Type_Occurrence</th>\n",
       "      <th>Type_Prospect</th>\n",
       "      <th>Type_Target</th>\n",
       "      <th>SubType_Adit</th>\n",
       "      <th>SubType_Airstrip</th>\n",
       "      <th>SubType_Borefield</th>\n",
       "      <th>SubType_Borrow Pit</th>\n",
       "      <th>SubType_Building</th>\n",
       "      <th>SubType_Costean/Trench</th>\n",
       "      <th>SubType_Dam</th>\n",
       "      <th>SubType_Decline</th>\n",
       "      <th>SubType_Dredging Area</th>\n",
       "      <th>SubType_Drillhole</th>\n",
       "      <th>SubType_Dryblowing area</th>\n",
       "      <th>SubType_Dump (unspecified)</th>\n",
       "      <th>...</th>\n",
       "      <th>TectonicUnit_Lamboo Province, Western Zone</th>\n",
       "      <th>TectonicUnit_Lennard Shelf</th>\n",
       "      <th>TectonicUnit_Mandurah Terrace</th>\n",
       "      <th>TectonicUnit_Merlinleigh Sub-basin</th>\n",
       "      <th>TectonicUnit_Mosquito Creek Basin</th>\n",
       "      <th>TectonicUnit_Northeast Pilbara Sub-basin</th>\n",
       "      <th>TectonicUnit_Pinjarra Orogen, Northampton Inlier</th>\n",
       "      <th>TectonicUnit_Rare</th>\n",
       "      <th>TectonicUnit_Sally Downs Supersuite</th>\n",
       "      <th>TectonicUnit_Sisters Supersuite</th>\n",
       "      <th>TectonicUnit_Soanesville Basin</th>\n",
       "      <th>TectonicUnit_South West Terrane</th>\n",
       "      <th>TectonicUnit_Split Rock Supersuite</th>\n",
       "      <th>TectonicUnit_Warrawoona  Large Igneous Province</th>\n",
       "      <th>TectonicUnit_Yeneena Basin</th>\n",
       "      <th>TectonicUnit_Yerrida Basin</th>\n",
       "      <th>TectonicUnit_Yilgarn Craton granites</th>\n",
       "      <th>TectonicUnit_Youanmi Terrane</th>\n",
       "    </tr>\n",
       "  </thead>\n",
       "  <tbody>\n",
       "    <tr>\n",
       "      <th>29887</th>\n",
       "      <td>0</td>\n",
       "      <td>0</td>\n",
       "      <td>0</td>\n",
       "      <td>0</td>\n",
       "      <td>1</td>\n",
       "      <td>0</td>\n",
       "      <td>0</td>\n",
       "      <td>0</td>\n",
       "      <td>0</td>\n",
       "      <td>0</td>\n",
       "      <td>0</td>\n",
       "      <td>0</td>\n",
       "      <td>0</td>\n",
       "      <td>0</td>\n",
       "      <td>0</td>\n",
       "      <td>0</td>\n",
       "      <td>0</td>\n",
       "      <td>0</td>\n",
       "      <td>...</td>\n",
       "      <td>0</td>\n",
       "      <td>0</td>\n",
       "      <td>0</td>\n",
       "      <td>0</td>\n",
       "      <td>0</td>\n",
       "      <td>0</td>\n",
       "      <td>0</td>\n",
       "      <td>0</td>\n",
       "      <td>0</td>\n",
       "      <td>0</td>\n",
       "      <td>0</td>\n",
       "      <td>0</td>\n",
       "      <td>0</td>\n",
       "      <td>0</td>\n",
       "      <td>0</td>\n",
       "      <td>0</td>\n",
       "      <td>0</td>\n",
       "      <td>1</td>\n",
       "    </tr>\n",
       "    <tr>\n",
       "      <th>28244</th>\n",
       "      <td>0</td>\n",
       "      <td>0</td>\n",
       "      <td>0</td>\n",
       "      <td>0</td>\n",
       "      <td>1</td>\n",
       "      <td>0</td>\n",
       "      <td>0</td>\n",
       "      <td>0</td>\n",
       "      <td>0</td>\n",
       "      <td>0</td>\n",
       "      <td>0</td>\n",
       "      <td>0</td>\n",
       "      <td>0</td>\n",
       "      <td>0</td>\n",
       "      <td>0</td>\n",
       "      <td>0</td>\n",
       "      <td>0</td>\n",
       "      <td>0</td>\n",
       "      <td>...</td>\n",
       "      <td>0</td>\n",
       "      <td>0</td>\n",
       "      <td>0</td>\n",
       "      <td>0</td>\n",
       "      <td>0</td>\n",
       "      <td>0</td>\n",
       "      <td>0</td>\n",
       "      <td>0</td>\n",
       "      <td>0</td>\n",
       "      <td>0</td>\n",
       "      <td>0</td>\n",
       "      <td>0</td>\n",
       "      <td>0</td>\n",
       "      <td>0</td>\n",
       "      <td>0</td>\n",
       "      <td>0</td>\n",
       "      <td>0</td>\n",
       "      <td>1</td>\n",
       "    </tr>\n",
       "    <tr>\n",
       "      <th>21366</th>\n",
       "      <td>0</td>\n",
       "      <td>0</td>\n",
       "      <td>0</td>\n",
       "      <td>0</td>\n",
       "      <td>1</td>\n",
       "      <td>0</td>\n",
       "      <td>0</td>\n",
       "      <td>0</td>\n",
       "      <td>0</td>\n",
       "      <td>0</td>\n",
       "      <td>0</td>\n",
       "      <td>0</td>\n",
       "      <td>0</td>\n",
       "      <td>0</td>\n",
       "      <td>0</td>\n",
       "      <td>1</td>\n",
       "      <td>0</td>\n",
       "      <td>0</td>\n",
       "      <td>...</td>\n",
       "      <td>0</td>\n",
       "      <td>0</td>\n",
       "      <td>0</td>\n",
       "      <td>0</td>\n",
       "      <td>0</td>\n",
       "      <td>0</td>\n",
       "      <td>0</td>\n",
       "      <td>0</td>\n",
       "      <td>0</td>\n",
       "      <td>0</td>\n",
       "      <td>0</td>\n",
       "      <td>0</td>\n",
       "      <td>0</td>\n",
       "      <td>0</td>\n",
       "      <td>0</td>\n",
       "      <td>0</td>\n",
       "      <td>0</td>\n",
       "      <td>0</td>\n",
       "    </tr>\n",
       "    <tr>\n",
       "      <th>26544</th>\n",
       "      <td>0</td>\n",
       "      <td>0</td>\n",
       "      <td>1</td>\n",
       "      <td>0</td>\n",
       "      <td>0</td>\n",
       "      <td>0</td>\n",
       "      <td>0</td>\n",
       "      <td>0</td>\n",
       "      <td>0</td>\n",
       "      <td>0</td>\n",
       "      <td>0</td>\n",
       "      <td>0</td>\n",
       "      <td>0</td>\n",
       "      <td>0</td>\n",
       "      <td>0</td>\n",
       "      <td>0</td>\n",
       "      <td>0</td>\n",
       "      <td>0</td>\n",
       "      <td>...</td>\n",
       "      <td>0</td>\n",
       "      <td>0</td>\n",
       "      <td>0</td>\n",
       "      <td>0</td>\n",
       "      <td>0</td>\n",
       "      <td>0</td>\n",
       "      <td>0</td>\n",
       "      <td>0</td>\n",
       "      <td>0</td>\n",
       "      <td>0</td>\n",
       "      <td>0</td>\n",
       "      <td>0</td>\n",
       "      <td>0</td>\n",
       "      <td>0</td>\n",
       "      <td>0</td>\n",
       "      <td>0</td>\n",
       "      <td>0</td>\n",
       "      <td>0</td>\n",
       "    </tr>\n",
       "    <tr>\n",
       "      <th>34233</th>\n",
       "      <td>1</td>\n",
       "      <td>0</td>\n",
       "      <td>0</td>\n",
       "      <td>0</td>\n",
       "      <td>0</td>\n",
       "      <td>0</td>\n",
       "      <td>0</td>\n",
       "      <td>0</td>\n",
       "      <td>0</td>\n",
       "      <td>0</td>\n",
       "      <td>0</td>\n",
       "      <td>0</td>\n",
       "      <td>0</td>\n",
       "      <td>0</td>\n",
       "      <td>0</td>\n",
       "      <td>0</td>\n",
       "      <td>0</td>\n",
       "      <td>0</td>\n",
       "      <td>...</td>\n",
       "      <td>0</td>\n",
       "      <td>0</td>\n",
       "      <td>0</td>\n",
       "      <td>0</td>\n",
       "      <td>0</td>\n",
       "      <td>0</td>\n",
       "      <td>0</td>\n",
       "      <td>1</td>\n",
       "      <td>0</td>\n",
       "      <td>0</td>\n",
       "      <td>0</td>\n",
       "      <td>0</td>\n",
       "      <td>0</td>\n",
       "      <td>0</td>\n",
       "      <td>0</td>\n",
       "      <td>0</td>\n",
       "      <td>0</td>\n",
       "      <td>0</td>\n",
       "    </tr>\n",
       "  </tbody>\n",
       "</table>\n",
       "<p>5 rows × 265 columns</p>\n",
       "</div>"
      ],
      "text/plain": [
       "       Type_Deposit  Type_Infrastructure  Type_Mine  Type_Occurrence  \\\n",
       "29887             0                    0          0                0   \n",
       "28244             0                    0          0                0   \n",
       "21366             0                    0          0                0   \n",
       "26544             0                    0          1                0   \n",
       "34233             1                    0          0                0   \n",
       "\n",
       "       Type_Prospect  Type_Target  SubType_Adit  SubType_Airstrip  \\\n",
       "29887              1            0             0                 0   \n",
       "28244              1            0             0                 0   \n",
       "21366              1            0             0                 0   \n",
       "26544              0            0             0                 0   \n",
       "34233              0            0             0                 0   \n",
       "\n",
       "       SubType_Borefield  SubType_Borrow Pit  SubType_Building  \\\n",
       "29887                  0                   0                 0   \n",
       "28244                  0                   0                 0   \n",
       "21366                  0                   0                 0   \n",
       "26544                  0                   0                 0   \n",
       "34233                  0                   0                 0   \n",
       "\n",
       "       SubType_Costean/Trench  SubType_Dam  SubType_Decline  \\\n",
       "29887                       0            0                0   \n",
       "28244                       0            0                0   \n",
       "21366                       0            0                0   \n",
       "26544                       0            0                0   \n",
       "34233                       0            0                0   \n",
       "\n",
       "       SubType_Dredging Area  SubType_Drillhole  SubType_Dryblowing area  \\\n",
       "29887                      0                  0                        0   \n",
       "28244                      0                  0                        0   \n",
       "21366                      0                  1                        0   \n",
       "26544                      0                  0                        0   \n",
       "34233                      0                  0                        0   \n",
       "\n",
       "       SubType_Dump (unspecified)  ...  \\\n",
       "29887                           0  ...   \n",
       "28244                           0  ...   \n",
       "21366                           0  ...   \n",
       "26544                           0  ...   \n",
       "34233                           0  ...   \n",
       "\n",
       "       TectonicUnit_Lamboo Province, Western Zone  TectonicUnit_Lennard Shelf  \\\n",
       "29887                                           0                           0   \n",
       "28244                                           0                           0   \n",
       "21366                                           0                           0   \n",
       "26544                                           0                           0   \n",
       "34233                                           0                           0   \n",
       "\n",
       "       TectonicUnit_Mandurah Terrace  TectonicUnit_Merlinleigh Sub-basin  \\\n",
       "29887                              0                                   0   \n",
       "28244                              0                                   0   \n",
       "21366                              0                                   0   \n",
       "26544                              0                                   0   \n",
       "34233                              0                                   0   \n",
       "\n",
       "       TectonicUnit_Mosquito Creek Basin  \\\n",
       "29887                                  0   \n",
       "28244                                  0   \n",
       "21366                                  0   \n",
       "26544                                  0   \n",
       "34233                                  0   \n",
       "\n",
       "       TectonicUnit_Northeast Pilbara Sub-basin  \\\n",
       "29887                                         0   \n",
       "28244                                         0   \n",
       "21366                                         0   \n",
       "26544                                         0   \n",
       "34233                                         0   \n",
       "\n",
       "       TectonicUnit_Pinjarra Orogen, Northampton Inlier  TectonicUnit_Rare  \\\n",
       "29887                                                 0                  0   \n",
       "28244                                                 0                  0   \n",
       "21366                                                 0                  0   \n",
       "26544                                                 0                  0   \n",
       "34233                                                 0                  1   \n",
       "\n",
       "       TectonicUnit_Sally Downs Supersuite  TectonicUnit_Sisters Supersuite  \\\n",
       "29887                                    0                                0   \n",
       "28244                                    0                                0   \n",
       "21366                                    0                                0   \n",
       "26544                                    0                                0   \n",
       "34233                                    0                                0   \n",
       "\n",
       "       TectonicUnit_Soanesville Basin  TectonicUnit_South West Terrane  \\\n",
       "29887                               0                                0   \n",
       "28244                               0                                0   \n",
       "21366                               0                                0   \n",
       "26544                               0                                0   \n",
       "34233                               0                                0   \n",
       "\n",
       "       TectonicUnit_Split Rock Supersuite  \\\n",
       "29887                                   0   \n",
       "28244                                   0   \n",
       "21366                                   0   \n",
       "26544                                   0   \n",
       "34233                                   0   \n",
       "\n",
       "       TectonicUnit_Warrawoona  Large Igneous Province  \\\n",
       "29887                                                0   \n",
       "28244                                                0   \n",
       "21366                                                0   \n",
       "26544                                                0   \n",
       "34233                                                0   \n",
       "\n",
       "       TectonicUnit_Yeneena Basin  TectonicUnit_Yerrida Basin  \\\n",
       "29887                           0                           0   \n",
       "28244                           0                           0   \n",
       "21366                           0                           0   \n",
       "26544                           0                           0   \n",
       "34233                           0                           0   \n",
       "\n",
       "       TectonicUnit_Yilgarn Craton granites  TectonicUnit_Youanmi Terrane  \n",
       "29887                                     0                             1  \n",
       "28244                                     0                             1  \n",
       "21366                                     0                             0  \n",
       "26544                                     0                             0  \n",
       "34233                                     0                             0  \n",
       "\n",
       "[5 rows x 265 columns]"
      ]
     },
     "execution_count": 68,
     "metadata": {},
     "output_type": "execute_result"
    }
   ],
   "source": [
    "X_test.head()"
   ]
  },
  {
   "cell_type": "code",
   "execution_count": 69,
   "metadata": {},
   "outputs": [
    {
     "data": {
      "text/plain": [
       "(19812, 274)"
      ]
     },
     "execution_count": 69,
     "metadata": {},
     "output_type": "execute_result"
    }
   ],
   "source": [
    "X_train.shape"
   ]
  },
  {
   "cell_type": "code",
   "execution_count": 70,
   "metadata": {},
   "outputs": [
    {
     "data": {
      "text/plain": [
       "(4954, 265)"
      ]
     },
     "execution_count": 70,
     "metadata": {},
     "output_type": "execute_result"
    }
   ],
   "source": [
    "X_test.shape"
   ]
  },
  {
   "cell_type": "code",
   "execution_count": 71,
   "metadata": {},
   "outputs": [
    {
     "data": {
      "text/plain": [
       "['Commodities_Ni, Cu, Co, Pt, Pd',\n",
       " 'Commodities_HM, Ilm, Zrn, Rt, Leu',\n",
       " 'Commodities_Au, Sb, Ag',\n",
       " 'Commodities_Bi',\n",
       " 'Commodities_Cu, Zn, Ag, Au',\n",
       " 'Commodities_Cu, Ag, Au',\n",
       " 'Commodities_Gvl, Sd',\n",
       " 'Commodities_Alu',\n",
       " 'Commodities_Marb, Dol, Dst']"
      ]
     },
     "execution_count": 71,
     "metadata": {},
     "output_type": "execute_result"
    }
   ],
   "source": [
    "list_of_missed_train = list (set (X_test.columns) - set (X_train.columns)) # В обучающей выборке не хватает 9 признаков \n",
    "list_of_missed_train"
   ]
  },
  {
   "cell_type": "code",
   "execution_count": 72,
   "metadata": {},
   "outputs": [
    {
     "data": {
      "text/plain": [
       "['Commodities_HM, Ilm, Zrn, Rt',\n",
       " 'Commodities_V, Ti, Mag',\n",
       " 'TectonicUnit_Mallina Basin',\n",
       " 'Commodities_HM, Ilm, Zrn',\n",
       " 'TectonicUnit_South Pilbara Sub-basin',\n",
       " 'Commodities_Mica',\n",
       " 'TectonicUnit_Narryer Terrane',\n",
       " 'Commodities_Au, Ag, Cu',\n",
       " 'SubType_Heap leach pad',\n",
       " 'Commodities_PGE, Cr',\n",
       " 'Commodities_Li, Ta, Sn',\n",
       " 'Commodities_Sn, SnO2',\n",
       " 'Commodities_HM, Ilm, Zrn, Leu, Mnz',\n",
       " 'SubType_Power Plant',\n",
       " 'Commodities_Fl',\n",
       " 'SubType_Tunnel',\n",
       " 'Commodities_Opalc',\n",
       " 'Commodities_Ag']"
      ]
     },
     "execution_count": 72,
     "metadata": {},
     "output_type": "execute_result"
    }
   ],
   "source": [
    "list_of_missed_test = list (set (X_train.columns) - set (X_test.columns)) # В тестовой выборке не хватает 18 признаков \n",
    "list_of_missed_test"
   ]
  },
  {
   "cell_type": "code",
   "execution_count": 73,
   "metadata": {},
   "outputs": [],
   "source": [
    "# Видим, что кол-во признаков в тестовой и в обучающей выборках не совпадает. \n",
    "# Нам нужно доработать обе выборки, чтобы в них были все столбцы, которые есть во всем датасете"
   ]
  },
  {
   "cell_type": "code",
   "execution_count": 74,
   "metadata": {},
   "outputs": [],
   "source": [
    "for col in list_of_missed_train:\n",
    "    X_train[col] = 0 \n",
    "for col in list_of_missed_test:\n",
    "    X_test[col] = 0"
   ]
  },
  {
   "cell_type": "code",
   "execution_count": 75,
   "metadata": {},
   "outputs": [
    {
     "data": {
      "text/plain": [
       "(19812, 283)"
      ]
     },
     "execution_count": 75,
     "metadata": {},
     "output_type": "execute_result"
    }
   ],
   "source": [
    "X_train.shape"
   ]
  },
  {
   "cell_type": "code",
   "execution_count": 76,
   "metadata": {},
   "outputs": [
    {
     "data": {
      "text/plain": [
       "(4954, 283)"
      ]
     },
     "execution_count": 76,
     "metadata": {},
     "output_type": "execute_result"
    }
   ],
   "source": [
    "X_test.shape"
   ]
  },
  {
   "cell_type": "code",
   "execution_count": 77,
   "metadata": {},
   "outputs": [
    {
     "data": {
      "text/plain": [
       "set()"
      ]
     },
     "execution_count": 77,
     "metadata": {},
     "output_type": "execute_result"
    }
   ],
   "source": [
    "set (X_test.columns) - set (X_train.columns)"
   ]
  },
  {
   "cell_type": "code",
   "execution_count": 78,
   "metadata": {},
   "outputs": [
    {
     "data": {
      "text/plain": [
       "set()"
      ]
     },
     "execution_count": 78,
     "metadata": {},
     "output_type": "execute_result"
    }
   ],
   "source": [
    "set (X_train.columns) - set (X_test.columns)"
   ]
  },
  {
   "cell_type": "code",
   "execution_count": 79,
   "metadata": {},
   "outputs": [],
   "source": [
    "X_test = X_test.reindex(columns = list(X_train.columns)) # переиндексируем тестовую выборку соответствующе обучающей"
   ]
  },
  {
   "cell_type": "code",
   "execution_count": 84,
   "metadata": {},
   "outputs": [],
   "source": [
    "# Подготовка датасета готова "
   ]
  },
  {
   "cell_type": "code",
   "execution_count": 80,
   "metadata": {},
   "outputs": [],
   "source": [
    "y_train_ser = pd.Series(y_train, index = X_train.index)\n",
    "y_test_ser = pd.Series(y_test, index = X_test.index)\n",
    "Data_train = pd.concat([X_train, y_train_ser])\n",
    "Data_test = pd.concat([X_test, y_test_ser])\n",
    "Data_train.to_excel ('C:/Users/Денис/DataScience/Lab2CS/Train_data.xlsx', index = False, header=True)\n",
    "Data_test.to_excel ('C:/Users/Денис/DataScience/Lab2CS/Test_data.xlsx', index = False, header=True)"
   ]
  },
  {
   "cell_type": "code",
   "execution_count": 155,
   "metadata": {},
   "outputs": [],
   "source": [
    "from sklearn.linear_model import RidgeClassifier # Добавим несколько разных алгоритмов машинного обучения \n",
    "from sklearn.preprocessing import StandardScaler # Скейлер нужный для обучения линейных моделей и SVM\n",
    "from sklearn.svm import SVC \n",
    "from sklearn.linear_model import SGDClassifier\n",
    "from sklearn.ensemble import RandomForestClassifier \n",
    "# Случайный лес, способен восстанавливать сложные взаимосвязи между признаками\n",
    "from sklearn.metrics import accuracy_score # оценка метрика точность \n",
    "from sklearn.metrics import f1_score, make_scorer \n",
    "# оценка метрики f1 (лучше отражает точность предсказаний для несбалансированных классов)\n",
    "from sklearn.model_selection import train_test_split \n",
    "# простое разбиение на тест/трейн выборки\n",
    "from sklearn.model_selection import RandomizedSearchCV \n",
    "# случайный поиск по сетке\n",
    "from sklearn.model_selection import cross_val_score \n",
    "# перекрестная оценка "
   ]
  },
  {
   "cell_type": "code",
   "execution_count": 86,
   "metadata": {},
   "outputs": [],
   "source": [
    "scaler = StandardScaler() # Для линейных моделей и SVM данные должны быть нормированными \n",
    "X_train_scaled = scaler.fit_transform (X_train)\n",
    "X_test_scaled = scaler.transform(X_test)"
   ]
  },
  {
   "cell_type": "code",
   "execution_count": 87,
   "metadata": {},
   "outputs": [],
   "source": [
    "X_train_scaled_split, X_test_scaled_split, y_train_split, y_test_split = train_test_split(\n",
    "    X_train_scaled, y_train, test_size = 0.2, random_state = 10) # Разобьем обучающую выборку на трейн и тест"
   ]
  },
  {
   "cell_type": "code",
   "execution_count": 88,
   "metadata": {},
   "outputs": [
    {
     "name": "stdout",
     "output_type": "stream",
     "text": [
      "Wall time: 368 ms\n"
     ]
    },
    {
     "data": {
      "text/plain": [
       "RidgeClassifier(alpha=1, class_weight=None, copy_X=True, fit_intercept=True,\n",
       "                max_iter=None, normalize=False, random_state=None,\n",
       "                solver='auto', tol=0.001)"
      ]
     },
     "execution_count": 88,
     "metadata": {},
     "output_type": "execute_result"
    }
   ],
   "source": [
    "ridge_clf = RidgeClassifier(alpha = 1) \n",
    "ridge_clf.fit(X_train_scaled_split, y_train_split) # Обучим линейный классификатор с l2 регуляризацией "
   ]
  },
  {
   "cell_type": "code",
   "execution_count": 89,
   "metadata": {},
   "outputs": [
    {
     "data": {
      "text/plain": [
       "(0.7559929346454706, 0.7369153556354522)"
      ]
     },
     "execution_count": 89,
     "metadata": {},
     "output_type": "execute_result"
    }
   ],
   "source": [
    "y_predicted = ridge_clf.predict(X_test_scaled_split) \n",
    "accuracy_ridge_clf = accuracy_score (y_test_split, y_predicted) # Оценим качество предсказаний \n",
    "f1_ridge_clf = f1_score(y_test_split, y_predicted, average = 'weighted')\n",
    "accuracy_ridge_clf, f1_ridge_clf"
   ]
  },
  {
   "cell_type": "code",
   "execution_count": 90,
   "metadata": {},
   "outputs": [
    {
     "name": "stdout",
     "output_type": "stream",
     "text": [
      "Wall time: 1min 24s\n"
     ]
    },
    {
     "data": {
      "text/plain": [
       "SVC(C=1.2, break_ties=False, cache_size=200, class_weight=None, coef0=0.0,\n",
       "    decision_function_shape='ovr', degree=3, gamma='scale', kernel='rbf',\n",
       "    max_iter=-1, probability=False, random_state=None, shrinking=True,\n",
       "    tol=0.001, verbose=False)"
      ]
     },
     "execution_count": 90,
     "metadata": {},
     "output_type": "execute_result"
    }
   ],
   "source": [
    "svc = SVC(C = 1.2) \n",
    "svc.fit (X_train_scaled_split, y_train_split) # Обучим SVM "
   ]
  },
  {
   "cell_type": "code",
   "execution_count": 91,
   "metadata": {},
   "outputs": [
    {
     "data": {
      "text/plain": [
       "(0.8094877617966187, 0.8001269232045778)"
      ]
     },
     "execution_count": 91,
     "metadata": {},
     "output_type": "execute_result"
    }
   ],
   "source": [
    "y_predicted = svc.predict(X_test_scaled_split)\n",
    "accuracy_svc = accuracy_score (y_test_split, y_predicted) # Оценим качество предсказаний\n",
    "f1_svc = f1_score(y_test_split, y_predicted, average = 'weighted') \n",
    "accuracy_svc, f1_svc"
   ]
  },
  {
   "cell_type": "code",
   "execution_count": 92,
   "metadata": {},
   "outputs": [
    {
     "name": "stdout",
     "output_type": "stream",
     "text": [
      "Wall time: 3.96 s\n"
     ]
    },
    {
     "data": {
      "text/plain": [
       "SGDClassifier(alpha=0.1, average=False, class_weight=None, early_stopping=False,\n",
       "              epsilon=0.1, eta0=0.0, fit_intercept=True, l1_ratio=0.15,\n",
       "              learning_rate='optimal', loss='log', max_iter=800,\n",
       "              n_iter_no_change=5, n_jobs=None, penalty='l2', power_t=0.5,\n",
       "              random_state=None, shuffle=True, tol=0.001,\n",
       "              validation_fraction=0.1, verbose=0, warm_start=False)"
      ]
     },
     "execution_count": 92,
     "metadata": {},
     "output_type": "execute_result"
    }
   ],
   "source": [
    "sgd_clf = SGDClassifier(alpha = 0.1, max_iter = 800, loss = \"log\") \n",
    "sgd_clf.fit(X_train_scaled_split, y_train_split) # Оценим стохастический градиентный классификатор "
   ]
  },
  {
   "cell_type": "code",
   "execution_count": 93,
   "metadata": {},
   "outputs": [
    {
     "data": {
      "text/plain": [
       "(0.720666161998486, 0.6795555048519283)"
      ]
     },
     "execution_count": 93,
     "metadata": {},
     "output_type": "execute_result"
    }
   ],
   "source": [
    "y_predicted = sgd_clf.predict(X_test_scaled_split)\n",
    "accuracy_sgd = accuracy_score (y_test_split, y_predicted) # Оценим качество предсказаний\n",
    "f1_sgd = f1_score(y_test_split, y_predicted, average = 'weighted')\n",
    "accuracy_sgd, f1_sgd"
   ]
  },
  {
   "cell_type": "code",
   "execution_count": 157,
   "metadata": {},
   "outputs": [
    {
     "name": "stdout",
     "output_type": "stream",
     "text": [
      "Wall time: 49.9 s\n"
     ]
    },
    {
     "data": {
      "text/plain": [
       "RandomForestClassifier(bootstrap=True, ccp_alpha=0.0, class_weight='balanced',\n",
       "                       criterion='gini', max_depth=30, max_features='auto',\n",
       "                       max_leaf_nodes=None, max_samples=None,\n",
       "                       min_impurity_decrease=0.0, min_impurity_split=None,\n",
       "                       min_samples_leaf=1, min_samples_split=3,\n",
       "                       min_weight_fraction_leaf=0.0, n_estimators=800,\n",
       "                       n_jobs=-1, oob_score=False, random_state=10, verbose=0,\n",
       "                       warm_start=False)"
      ]
     },
     "execution_count": 157,
     "metadata": {},
     "output_type": "execute_result"
    }
   ],
   "source": [
    "forest_clf = RandomForestClassifier(class_weight='balanced', n_estimators = 800, \n",
    "                                    min_samples_split = 3, max_depth = 30, \n",
    "                                   random_state = 10, n_jobs = -1) # Обучим случайный лес с такими параметрами \n",
    "forest_clf.fit(X_train_scaled_split, y_train_split)"
   ]
  },
  {
   "cell_type": "code",
   "execution_count": 104,
   "metadata": {},
   "outputs": [
    {
     "data": {
      "text/plain": [
       "(0.8034317436285642, 0.8074062260204712)"
      ]
     },
     "execution_count": 104,
     "metadata": {},
     "output_type": "execute_result"
    }
   ],
   "source": [
    "y_predicted = forest_clf.predict(X_test_scaled_split)\n",
    "accuracy_forest = accuracy_score (y_test_split, y_predicted) # Оценим качество предсказаний\n",
    "f1_forest = f1_score(y_test_split, y_predicted, average = 'weighted')\n",
    "accuracy_forest, f1_forest"
   ]
  },
  {
   "cell_type": "code",
   "execution_count": null,
   "metadata": {},
   "outputs": [],
   "source": [
    "# Вероятно, связь признаков в нашем датасете нелинейна и достаточно сложна, \n",
    "# поэтому лес оказался лучшим алгоритмом для предсказаний, т.к. способен распознавать сложные закономерности "
   ]
  },
  {
   "cell_type": "code",
   "execution_count": 113,
   "metadata": {},
   "outputs": [
    {
     "data": {
      "text/plain": [
       "0.7253958465819886"
      ]
     },
     "execution_count": 113,
     "metadata": {},
     "output_type": "execute_result"
    }
   ],
   "source": [
    "f1_scorer = make_scorer(f1_score, average='weighted')\n",
    "cross_val_score(ridge_clf, X_train, y_train, cv=5, scoring = f1_scorer).mean() \n",
    "# Проведем перекрестную проверку на 5 фолдах для линейного Ridge классификатора "
   ]
  },
  {
   "cell_type": "code",
   "execution_count": 112,
   "metadata": {},
   "outputs": [
    {
     "data": {
      "text/plain": [
       "0.34936869219283506"
      ]
     },
     "execution_count": 112,
     "metadata": {},
     "output_type": "execute_result"
    }
   ],
   "source": [
    "cross_val_score(sgd_clf, X_train, y_train, cv=5, scoring = f1_scorer).mean() \n",
    "# Стохастический градиентный классификатор оказался худшим из выбранных алгоритмоы "
   ]
  },
  {
   "cell_type": "code",
   "execution_count": 142,
   "metadata": {},
   "outputs": [],
   "source": [
    "params = { # Параметры для поиска по сетке для случайного леса\n",
    "    'class_weight' : ['balanced'],\n",
    "    'n_estimators': [1000],\n",
    "    'max_depth': [15,20,25,30,35],\n",
    "    'max_leaf_nodes': [50, 100, 200],\n",
    "    'max_features': [1,2,4,8,10],\n",
    "    'min_samples_split': [2,3,4,5,6]  \n",
    "}"
   ]
  },
  {
   "cell_type": "code",
   "execution_count": 143,
   "metadata": {},
   "outputs": [],
   "source": [
    "gs = RandomizedSearchCV( # случайный поиск по сетке для случайного леса\n",
    "        estimator = RandomForestClassifier(),\n",
    "        param_distributions = params, \n",
    "        cv = 4, \n",
    "        n_jobs=-1, \n",
    "        scoring = f1_scorer,\n",
    "        verbose = True)"
   ]
  },
  {
   "cell_type": "code",
   "execution_count": 144,
   "metadata": {},
   "outputs": [
    {
     "name": "stdout",
     "output_type": "stream",
     "text": [
      "Fitting 4 folds for each of 10 candidates, totalling 40 fits\n"
     ]
    },
    {
     "name": "stderr",
     "output_type": "stream",
     "text": [
      "[Parallel(n_jobs=-1)]: Using backend LokyBackend with 4 concurrent workers.\n",
      "[Parallel(n_jobs=-1)]: Done  40 out of  40 | elapsed:  7.4min finished\n"
     ]
    },
    {
     "data": {
      "text/plain": [
       "0.7458051370569772"
      ]
     },
     "execution_count": 144,
     "metadata": {},
     "output_type": "execute_result"
    }
   ],
   "source": [
    "best_forest_model = gs.fit(X_train, y_train)\n",
    "best_forest_model.best_score_ # Подбор параметров занимает значительное время "
   ]
  },
  {
   "cell_type": "code",
   "execution_count": 145,
   "metadata": {},
   "outputs": [
    {
     "data": {
      "text/plain": [
       "{'n_estimators': 1000,\n",
       " 'min_samples_split': 6,\n",
       " 'max_leaf_nodes': 200,\n",
       " 'max_features': 1,\n",
       " 'max_depth': 20,\n",
       " 'class_weight': 'balanced'}"
      ]
     },
     "execution_count": 145,
     "metadata": {},
     "output_type": "execute_result"
    }
   ],
   "source": [
    "best_forest_model.best_params_ # Лучшие параметры по результатами случайного поиска по сетке "
   ]
  },
  {
   "cell_type": "code",
   "execution_count": 148,
   "metadata": {},
   "outputs": [],
   "source": [
    "best_forest = RandomForestClassifier(n_estimators= 1000, \n",
    " min_samples_split= 6,\n",
    " max_leaf_nodes= 200,\n",
    " max_features= 1,\n",
    " max_depth= 20,\n",
    " class_weight= 'balanced') # Проверим лучшие параметры леса на перекрестной проверке "
   ]
  },
  {
   "cell_type": "code",
   "execution_count": 149,
   "metadata": {},
   "outputs": [
    {
     "data": {
      "text/plain": [
       "0.7459402037015626"
      ]
     },
     "execution_count": 149,
     "metadata": {},
     "output_type": "execute_result"
    }
   ],
   "source": [
    "cross_val_score(best_forest, X_train, y_train, cv=5, scoring = f1_scorer).mean() \n",
    "# Результаты могут быть разными в зависимости от случайных обстоятельств, т.к. я не использовал random state при обучении моделей"
   ]
  },
  {
   "cell_type": "code",
   "execution_count": 151,
   "metadata": {},
   "outputs": [
    {
     "data": {
      "text/plain": [
       "0.8037878591170757"
      ]
     },
     "execution_count": 151,
     "metadata": {},
     "output_type": "execute_result"
    }
   ],
   "source": [
    "cross_val_score(forest_clf, X_train, y_train, cv=5, scoring = f1_scorer).mean() \n",
    "# Изначально выбранные параметры оказались лучше, т.к. f1 мера в их случае выше "
   ]
  },
  {
   "cell_type": "code",
   "execution_count": 153,
   "metadata": {},
   "outputs": [],
   "source": [
    "forest_clf.fit(X_train, y_train) # Проверим работу выбранного нами леса на тестовой выборке \n",
    "test_preds = forest_clf.predict(X_test)\n",
    "test_score = f1_score(y_test, test_preds, average = 'weighted')"
   ]
  },
  {
   "cell_type": "code",
   "execution_count": 154,
   "metadata": {},
   "outputs": [
    {
     "data": {
      "text/plain": [
       "0.8090768844065254"
      ]
     },
     "execution_count": 154,
     "metadata": {},
     "output_type": "execute_result"
    }
   ],
   "source": [
    "test_score # Получаем почти 0.81 f1 меры. "
   ]
  }
 ],
 "metadata": {
  "kernelspec": {
   "display_name": "Python 3",
   "language": "python",
   "name": "python3"
  },
  "language_info": {
   "codemirror_mode": {
    "name": "ipython",
    "version": 3
   },
   "file_extension": ".py",
   "mimetype": "text/x-python",
   "name": "python",
   "nbconvert_exporter": "python",
   "pygments_lexer": "ipython3",
   "version": "3.7.6"
  }
 },
 "nbformat": 4,
 "nbformat_minor": 4
}
